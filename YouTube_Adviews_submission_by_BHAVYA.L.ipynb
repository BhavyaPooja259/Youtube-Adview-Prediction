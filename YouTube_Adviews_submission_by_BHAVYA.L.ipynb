{
 "cells": [
  {
   "cell_type": "markdown",
   "metadata": {
    "id": "L--dUq5n7pHH"
   },
   "source": [
    "# Project: Youtube adview Prediction"
   ]
  },
  {
   "cell_type": "markdown",
   "metadata": {
    "id": "PvVlsS8b7pHH"
   },
   "source": [
    "# 1.Importing the datasets and libraries, check shape and datatype."
   ]
  },
  {
   "cell_type": "code",
   "execution_count": 4,
   "metadata": {
    "id": "RCh4PQAg7pHH"
   },
   "outputs": [],
   "source": [
    "#importing the libraries\n",
    "import numpy as np\n",
    "import pandas as pd\n",
    "import matplotlib.cm as cm\n",
    "import matplotlib.pyplot as plt\n",
    "import seaborn as sns"
   ]
  },
  {
   "cell_type": "code",
   "execution_count": 12,
   "metadata": {
    "colab": {
     "base_uri": "https://localhost:8080/",
     "height": 72,
     "resources": {
      "http://localhost:8080/nbextensions/google.colab/files.js": {
       "data": "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",
       "headers": [
        [
         "content-type",
         "application/javascript"
        ]
       ],
       "ok": true,
       "status": 200,
       "status_text": ""
      }
     }
    },
    "id": "RuRdCbJ7DfgG",
    "outputId": "89dd0901-87a2-440c-9f2f-abd72b6b9eb5"
   },
   "outputs": [
    {
     "data": {
      "text/html": [
       "\n",
       "     <input type=\"file\" id=\"files-2af64ed1-ee59-488b-825c-d21ece7c4ea7\" name=\"files[]\" multiple disabled\n",
       "        style=\"border:none\" />\n",
       "     <output id=\"result-2af64ed1-ee59-488b-825c-d21ece7c4ea7\">\n",
       "      Upload widget is only available when the cell has been executed in the\n",
       "      current browser session. Please rerun this cell to enable.\n",
       "      </output>\n",
       "      <script src=\"/nbextensions/google.colab/files.js\"></script> "
      ],
      "text/plain": [
       "<IPython.core.display.HTML object>"
      ]
     },
     "metadata": {
      "tags": []
     },
     "output_type": "display_data"
    },
    {
     "name": "stdout",
     "output_type": "stream",
     "text": [
      "Saving train.csv to train.csv\n"
     ]
    }
   ],
   "source": [
    "from google.colab import files\n",
    "uploaded = files.upload()\n"
   ]
  },
  {
   "cell_type": "code",
   "execution_count": 13,
   "metadata": {
    "id": "4geIKm3W7pHH"
   },
   "outputs": [],
   "source": [
    "#importing the datasets\n",
    "data_train = pd.read_csv(\"train.csv\") "
   ]
  },
  {
   "cell_type": "code",
   "execution_count": null,
   "metadata": {
    "id": "LOsirVUM7pHH",
    "outputId": "96a23933-78f7-4821-8117-01884a17706b"
   },
   "outputs": [
    {
     "data": {
      "text/html": [
       "<div>\n",
       "<style scoped>\n",
       "    .dataframe tbody tr th:only-of-type {\n",
       "        vertical-align: middle;\n",
       "    }\n",
       "\n",
       "    .dataframe tbody tr th {\n",
       "        vertical-align: top;\n",
       "    }\n",
       "\n",
       "    .dataframe thead th {\n",
       "        text-align: right;\n",
       "    }\n",
       "</style>\n",
       "<table border=\"1\" class=\"dataframe\">\n",
       "  <thead>\n",
       "    <tr style=\"text-align: right;\">\n",
       "      <th></th>\n",
       "      <th>vidid</th>\n",
       "      <th>adview</th>\n",
       "      <th>views</th>\n",
       "      <th>likes</th>\n",
       "      <th>dislikes</th>\n",
       "      <th>comment</th>\n",
       "      <th>published</th>\n",
       "      <th>duration</th>\n",
       "      <th>category</th>\n",
       "    </tr>\n",
       "  </thead>\n",
       "  <tbody>\n",
       "    <tr>\n",
       "      <th>0</th>\n",
       "      <td>VID_18655</td>\n",
       "      <td>40</td>\n",
       "      <td>1031602</td>\n",
       "      <td>8523</td>\n",
       "      <td>363</td>\n",
       "      <td>1095</td>\n",
       "      <td>2016-09-14</td>\n",
       "      <td>PT7M37S</td>\n",
       "      <td>F</td>\n",
       "    </tr>\n",
       "    <tr>\n",
       "      <th>1</th>\n",
       "      <td>VID_14135</td>\n",
       "      <td>2</td>\n",
       "      <td>1707</td>\n",
       "      <td>56</td>\n",
       "      <td>2</td>\n",
       "      <td>6</td>\n",
       "      <td>2016-10-01</td>\n",
       "      <td>PT9M30S</td>\n",
       "      <td>D</td>\n",
       "    </tr>\n",
       "    <tr>\n",
       "      <th>2</th>\n",
       "      <td>VID_2187</td>\n",
       "      <td>1</td>\n",
       "      <td>2023</td>\n",
       "      <td>25</td>\n",
       "      <td>0</td>\n",
       "      <td>2</td>\n",
       "      <td>2016-07-02</td>\n",
       "      <td>PT2M16S</td>\n",
       "      <td>C</td>\n",
       "    </tr>\n",
       "    <tr>\n",
       "      <th>3</th>\n",
       "      <td>VID_23096</td>\n",
       "      <td>6</td>\n",
       "      <td>620860</td>\n",
       "      <td>777</td>\n",
       "      <td>161</td>\n",
       "      <td>153</td>\n",
       "      <td>2016-07-27</td>\n",
       "      <td>PT4M22S</td>\n",
       "      <td>H</td>\n",
       "    </tr>\n",
       "    <tr>\n",
       "      <th>4</th>\n",
       "      <td>VID_10175</td>\n",
       "      <td>1</td>\n",
       "      <td>666</td>\n",
       "      <td>1</td>\n",
       "      <td>0</td>\n",
       "      <td>0</td>\n",
       "      <td>2016-06-29</td>\n",
       "      <td>PT31S</td>\n",
       "      <td>D</td>\n",
       "    </tr>\n",
       "    <tr>\n",
       "      <th>...</th>\n",
       "      <td>...</td>\n",
       "      <td>...</td>\n",
       "      <td>...</td>\n",
       "      <td>...</td>\n",
       "      <td>...</td>\n",
       "      <td>...</td>\n",
       "      <td>...</td>\n",
       "      <td>...</td>\n",
       "      <td>...</td>\n",
       "    </tr>\n",
       "    <tr>\n",
       "      <th>14994</th>\n",
       "      <td>VID_31</td>\n",
       "      <td>2</td>\n",
       "      <td>525949</td>\n",
       "      <td>1137</td>\n",
       "      <td>83</td>\n",
       "      <td>86</td>\n",
       "      <td>2015-05-18</td>\n",
       "      <td>PT6M10S</td>\n",
       "      <td>A</td>\n",
       "    </tr>\n",
       "    <tr>\n",
       "      <th>14995</th>\n",
       "      <td>VID_5861</td>\n",
       "      <td>1</td>\n",
       "      <td>665673</td>\n",
       "      <td>3849</td>\n",
       "      <td>156</td>\n",
       "      <td>569</td>\n",
       "      <td>2015-10-20</td>\n",
       "      <td>PT3M56S</td>\n",
       "      <td>D</td>\n",
       "    </tr>\n",
       "    <tr>\n",
       "      <th>14996</th>\n",
       "      <td>VID_805</td>\n",
       "      <td>4</td>\n",
       "      <td>3479</td>\n",
       "      <td>16</td>\n",
       "      <td>1</td>\n",
       "      <td>1</td>\n",
       "      <td>2013-08-23</td>\n",
       "      <td>PT3M13S</td>\n",
       "      <td>B</td>\n",
       "    </tr>\n",
       "    <tr>\n",
       "      <th>14997</th>\n",
       "      <td>VID_19843</td>\n",
       "      <td>1</td>\n",
       "      <td>963</td>\n",
       "      <td>0</td>\n",
       "      <td>0</td>\n",
       "      <td>0</td>\n",
       "      <td>2010-10-02</td>\n",
       "      <td>PT26S</td>\n",
       "      <td>G</td>\n",
       "    </tr>\n",
       "    <tr>\n",
       "      <th>14998</th>\n",
       "      <td>VID_8534</td>\n",
       "      <td>1</td>\n",
       "      <td>15212</td>\n",
       "      <td>22</td>\n",
       "      <td>5</td>\n",
       "      <td>4</td>\n",
       "      <td>2016-02-19</td>\n",
       "      <td>PT1M1S</td>\n",
       "      <td>D</td>\n",
       "    </tr>\n",
       "  </tbody>\n",
       "</table>\n",
       "<p>14999 rows × 9 columns</p>\n",
       "</div>"
      ],
      "text/plain": [
       "           vidid  adview    views likes dislikes comment   published duration  \\\n",
       "0      VID_18655      40  1031602  8523      363    1095  2016-09-14  PT7M37S   \n",
       "1      VID_14135       2     1707    56        2       6  2016-10-01  PT9M30S   \n",
       "2       VID_2187       1     2023    25        0       2  2016-07-02  PT2M16S   \n",
       "3      VID_23096       6   620860   777      161     153  2016-07-27  PT4M22S   \n",
       "4      VID_10175       1      666     1        0       0  2016-06-29    PT31S   \n",
       "...          ...     ...      ...   ...      ...     ...         ...      ...   \n",
       "14994     VID_31       2   525949  1137       83      86  2015-05-18  PT6M10S   \n",
       "14995   VID_5861       1   665673  3849      156     569  2015-10-20  PT3M56S   \n",
       "14996    VID_805       4     3479    16        1       1  2013-08-23  PT3M13S   \n",
       "14997  VID_19843       1      963     0        0       0  2010-10-02    PT26S   \n",
       "14998   VID_8534       1    15212    22        5       4  2016-02-19   PT1M1S   \n",
       "\n",
       "      category  \n",
       "0            F  \n",
       "1            D  \n",
       "2            C  \n",
       "3            H  \n",
       "4            D  \n",
       "...        ...  \n",
       "14994        A  \n",
       "14995        D  \n",
       "14996        B  \n",
       "14997        G  \n",
       "14998        D  \n",
       "\n",
       "[14999 rows x 9 columns]"
      ]
     },
     "execution_count": 3,
     "metadata": {
      "tags": []
     },
     "output_type": "execute_result"
    }
   ],
   "source": [
    "#Displaying the imported dataset\n",
    "data_train"
   ]
  },
  {
   "cell_type": "code",
   "execution_count": 14,
   "metadata": {
    "colab": {
     "base_uri": "https://localhost:8080/"
    },
    "id": "lZxDDeeR7pHI",
    "outputId": "5398695d-abb5-4c5a-f002-a83448e3f456"
   },
   "outputs": [
    {
     "data": {
      "text/plain": [
       "(14999, 9)"
      ]
     },
     "execution_count": 14,
     "metadata": {
      "tags": []
     },
     "output_type": "execute_result"
    }
   ],
   "source": [
    "#checking the shape of dataset\n",
    "data_train.shape"
   ]
  },
  {
   "cell_type": "code",
   "execution_count": 15,
   "metadata": {
    "colab": {
     "base_uri": "https://localhost:8080/",
     "height": 204
    },
    "id": "FbVyYgsB7pHJ",
    "outputId": "0509f1da-96ec-4af6-cd2c-3e4ae3783345"
   },
   "outputs": [
    {
     "data": {
      "text/html": [
       "<div>\n",
       "<style scoped>\n",
       "    .dataframe tbody tr th:only-of-type {\n",
       "        vertical-align: middle;\n",
       "    }\n",
       "\n",
       "    .dataframe tbody tr th {\n",
       "        vertical-align: top;\n",
       "    }\n",
       "\n",
       "    .dataframe thead th {\n",
       "        text-align: right;\n",
       "    }\n",
       "</style>\n",
       "<table border=\"1\" class=\"dataframe\">\n",
       "  <thead>\n",
       "    <tr style=\"text-align: right;\">\n",
       "      <th></th>\n",
       "      <th>vidid</th>\n",
       "      <th>adview</th>\n",
       "      <th>views</th>\n",
       "      <th>likes</th>\n",
       "      <th>dislikes</th>\n",
       "      <th>comment</th>\n",
       "      <th>published</th>\n",
       "      <th>duration</th>\n",
       "      <th>category</th>\n",
       "    </tr>\n",
       "  </thead>\n",
       "  <tbody>\n",
       "    <tr>\n",
       "      <th>0</th>\n",
       "      <td>VID_18655</td>\n",
       "      <td>40</td>\n",
       "      <td>1031602</td>\n",
       "      <td>8523</td>\n",
       "      <td>363</td>\n",
       "      <td>1095</td>\n",
       "      <td>2016-09-14</td>\n",
       "      <td>PT7M37S</td>\n",
       "      <td>F</td>\n",
       "    </tr>\n",
       "    <tr>\n",
       "      <th>1</th>\n",
       "      <td>VID_14135</td>\n",
       "      <td>2</td>\n",
       "      <td>1707</td>\n",
       "      <td>56</td>\n",
       "      <td>2</td>\n",
       "      <td>6</td>\n",
       "      <td>2016-10-01</td>\n",
       "      <td>PT9M30S</td>\n",
       "      <td>D</td>\n",
       "    </tr>\n",
       "    <tr>\n",
       "      <th>2</th>\n",
       "      <td>VID_2187</td>\n",
       "      <td>1</td>\n",
       "      <td>2023</td>\n",
       "      <td>25</td>\n",
       "      <td>0</td>\n",
       "      <td>2</td>\n",
       "      <td>2016-07-02</td>\n",
       "      <td>PT2M16S</td>\n",
       "      <td>C</td>\n",
       "    </tr>\n",
       "    <tr>\n",
       "      <th>3</th>\n",
       "      <td>VID_23096</td>\n",
       "      <td>6</td>\n",
       "      <td>620860</td>\n",
       "      <td>777</td>\n",
       "      <td>161</td>\n",
       "      <td>153</td>\n",
       "      <td>2016-07-27</td>\n",
       "      <td>PT4M22S</td>\n",
       "      <td>H</td>\n",
       "    </tr>\n",
       "    <tr>\n",
       "      <th>4</th>\n",
       "      <td>VID_10175</td>\n",
       "      <td>1</td>\n",
       "      <td>666</td>\n",
       "      <td>1</td>\n",
       "      <td>0</td>\n",
       "      <td>0</td>\n",
       "      <td>2016-06-29</td>\n",
       "      <td>PT31S</td>\n",
       "      <td>D</td>\n",
       "    </tr>\n",
       "  </tbody>\n",
       "</table>\n",
       "</div>"
      ],
      "text/plain": [
       "       vidid  adview    views likes  ... comment   published duration category\n",
       "0  VID_18655      40  1031602  8523  ...    1095  2016-09-14  PT7M37S        F\n",
       "1  VID_14135       2     1707    56  ...       6  2016-10-01  PT9M30S        D\n",
       "2   VID_2187       1     2023    25  ...       2  2016-07-02  PT2M16S        C\n",
       "3  VID_23096       6   620860   777  ...     153  2016-07-27  PT4M22S        H\n",
       "4  VID_10175       1      666     1  ...       0  2016-06-29    PT31S        D\n",
       "\n",
       "[5 rows x 9 columns]"
      ]
     },
     "execution_count": 15,
     "metadata": {
      "tags": []
     },
     "output_type": "execute_result"
    }
   ],
   "source": [
    "#checking the head part of the dataset\n",
    "data_train.head()"
   ]
  },
  {
   "cell_type": "code",
   "execution_count": 16,
   "metadata": {
    "colab": {
     "base_uri": "https://localhost:8080/",
     "height": 204
    },
    "id": "MRGzbq-W7pHJ",
    "outputId": "d14b5345-482e-40c3-dae8-b2b1ff7baebe"
   },
   "outputs": [
    {
     "data": {
      "text/html": [
       "<div>\n",
       "<style scoped>\n",
       "    .dataframe tbody tr th:only-of-type {\n",
       "        vertical-align: middle;\n",
       "    }\n",
       "\n",
       "    .dataframe tbody tr th {\n",
       "        vertical-align: top;\n",
       "    }\n",
       "\n",
       "    .dataframe thead th {\n",
       "        text-align: right;\n",
       "    }\n",
       "</style>\n",
       "<table border=\"1\" class=\"dataframe\">\n",
       "  <thead>\n",
       "    <tr style=\"text-align: right;\">\n",
       "      <th></th>\n",
       "      <th>vidid</th>\n",
       "      <th>adview</th>\n",
       "      <th>views</th>\n",
       "      <th>likes</th>\n",
       "      <th>dislikes</th>\n",
       "      <th>comment</th>\n",
       "      <th>published</th>\n",
       "      <th>duration</th>\n",
       "      <th>category</th>\n",
       "    </tr>\n",
       "  </thead>\n",
       "  <tbody>\n",
       "    <tr>\n",
       "      <th>14994</th>\n",
       "      <td>VID_31</td>\n",
       "      <td>2</td>\n",
       "      <td>525949</td>\n",
       "      <td>1137</td>\n",
       "      <td>83</td>\n",
       "      <td>86</td>\n",
       "      <td>2015-05-18</td>\n",
       "      <td>PT6M10S</td>\n",
       "      <td>A</td>\n",
       "    </tr>\n",
       "    <tr>\n",
       "      <th>14995</th>\n",
       "      <td>VID_5861</td>\n",
       "      <td>1</td>\n",
       "      <td>665673</td>\n",
       "      <td>3849</td>\n",
       "      <td>156</td>\n",
       "      <td>569</td>\n",
       "      <td>2015-10-20</td>\n",
       "      <td>PT3M56S</td>\n",
       "      <td>D</td>\n",
       "    </tr>\n",
       "    <tr>\n",
       "      <th>14996</th>\n",
       "      <td>VID_805</td>\n",
       "      <td>4</td>\n",
       "      <td>3479</td>\n",
       "      <td>16</td>\n",
       "      <td>1</td>\n",
       "      <td>1</td>\n",
       "      <td>2013-08-23</td>\n",
       "      <td>PT3M13S</td>\n",
       "      <td>B</td>\n",
       "    </tr>\n",
       "    <tr>\n",
       "      <th>14997</th>\n",
       "      <td>VID_19843</td>\n",
       "      <td>1</td>\n",
       "      <td>963</td>\n",
       "      <td>0</td>\n",
       "      <td>0</td>\n",
       "      <td>0</td>\n",
       "      <td>2010-10-02</td>\n",
       "      <td>PT26S</td>\n",
       "      <td>G</td>\n",
       "    </tr>\n",
       "    <tr>\n",
       "      <th>14998</th>\n",
       "      <td>VID_8534</td>\n",
       "      <td>1</td>\n",
       "      <td>15212</td>\n",
       "      <td>22</td>\n",
       "      <td>5</td>\n",
       "      <td>4</td>\n",
       "      <td>2016-02-19</td>\n",
       "      <td>PT1M1S</td>\n",
       "      <td>D</td>\n",
       "    </tr>\n",
       "  </tbody>\n",
       "</table>\n",
       "</div>"
      ],
      "text/plain": [
       "           vidid  adview   views likes  ... comment   published duration category\n",
       "14994     VID_31       2  525949  1137  ...      86  2015-05-18  PT6M10S        A\n",
       "14995   VID_5861       1  665673  3849  ...     569  2015-10-20  PT3M56S        D\n",
       "14996    VID_805       4    3479    16  ...       1  2013-08-23  PT3M13S        B\n",
       "14997  VID_19843       1     963     0  ...       0  2010-10-02    PT26S        G\n",
       "14998   VID_8534       1   15212    22  ...       4  2016-02-19   PT1M1S        D\n",
       "\n",
       "[5 rows x 9 columns]"
      ]
     },
     "execution_count": 16,
     "metadata": {
      "tags": []
     },
     "output_type": "execute_result"
    }
   ],
   "source": [
    "#checking the tail part of the dataset\n",
    "data_train.tail()"
   ]
  },
  {
   "cell_type": "code",
   "execution_count": 17,
   "metadata": {
    "colab": {
     "base_uri": "https://localhost:8080/"
    },
    "id": "KbfcyROn7pHJ",
    "outputId": "4834a6b7-0f17-4abe-df16-01940309b918"
   },
   "outputs": [
    {
     "data": {
      "text/plain": [
       "<bound method NDFrame.describe of            vidid  adview    views likes  ... comment   published duration category\n",
       "0      VID_18655      40  1031602  8523  ...    1095  2016-09-14  PT7M37S        F\n",
       "1      VID_14135       2     1707    56  ...       6  2016-10-01  PT9M30S        D\n",
       "2       VID_2187       1     2023    25  ...       2  2016-07-02  PT2M16S        C\n",
       "3      VID_23096       6   620860   777  ...     153  2016-07-27  PT4M22S        H\n",
       "4      VID_10175       1      666     1  ...       0  2016-06-29    PT31S        D\n",
       "...          ...     ...      ...   ...  ...     ...         ...      ...      ...\n",
       "14994     VID_31       2   525949  1137  ...      86  2015-05-18  PT6M10S        A\n",
       "14995   VID_5861       1   665673  3849  ...     569  2015-10-20  PT3M56S        D\n",
       "14996    VID_805       4     3479    16  ...       1  2013-08-23  PT3M13S        B\n",
       "14997  VID_19843       1      963     0  ...       0  2010-10-02    PT26S        G\n",
       "14998   VID_8534       1    15212    22  ...       4  2016-02-19   PT1M1S        D\n",
       "\n",
       "[14999 rows x 9 columns]>"
      ]
     },
     "execution_count": 17,
     "metadata": {
      "tags": []
     },
     "output_type": "execute_result"
    }
   ],
   "source": [
    "#describing the dataset\n",
    "data_train.describe"
   ]
  },
  {
   "cell_type": "code",
   "execution_count": 18,
   "metadata": {
    "colab": {
     "base_uri": "https://localhost:8080/"
    },
    "id": "nSYJohAy7pHJ",
    "outputId": "1ea076cc-aba9-4626-f41a-965f3775f1f4"
   },
   "outputs": [
    {
     "data": {
      "text/plain": [
       "pandas.core.frame.DataFrame"
      ]
     },
     "execution_count": 18,
     "metadata": {
      "tags": []
     },
     "output_type": "execute_result"
    }
   ],
   "source": [
    "#checking the datatype of the dataset\n",
    "type(data_train)"
   ]
  },
  {
   "cell_type": "markdown",
   "metadata": {
    "id": "9lM_eMOV7pHJ"
   },
   "source": [
    "# 2.Visualizing the dataset using plotting and heatmaps"
   ]
  },
  {
   "cell_type": "code",
   "execution_count": null,
   "metadata": {
    "id": "A2ex3Muu7pHJ"
   },
   "outputs": [],
   "source": [
    "#visualization of the dataset\n",
    "\n",
    "#2D plotting\n",
    "  #Individual plots\n",
    "\n",
    "#line graph \n",
    "plt.plot(data_train[\"adview\"])\n",
    "plt.show()"
   ]
  },
  {
   "cell_type": "code",
   "execution_count": 22,
   "metadata": {
    "colab": {
     "base_uri": "https://localhost:8080/",
     "height": 265
    },
    "id": "1tAapbi_7pHK",
    "outputId": "797a9741-0543-40c9-d28f-9a1ea44dd7a7"
   },
   "outputs": [
    {
     "data": {
      "image/png": "[encoded data removed]",
      "text/plain": [
       "<Figure size 432x288 with 1 Axes>"
      ]
     },
     "metadata": {
      "needs_background": "light",
      "tags": []
     },
     "output_type": "display_data"
    }
   ],
   "source": [
    "plt.plot(data_train[\"views\"])\n",
    "plt.show()"
   ]
  },
  {
   "cell_type": "code",
   "execution_count": null,
   "metadata": {
    "id": "0vYTW8CB7pHK",
    "outputId": "e834d071-b91d-4b5a-c9e3-661f76c91bb3"
   },
   "outputs": [
    {
     "data": {
      "image/png": "[encoded data removed]",
      "text/plain": [
       "<Figure size 432x288 with 1 Axes>"
      ]
     },
     "metadata": {
      "needs_background": "light",
      "tags": []
     },
     "output_type": "display_data"
    }
   ],
   "source": [
    "plt.plot(data_train[\"likes\"])\n",
    "plt.show()"
   ]
  },
  {
   "cell_type": "code",
   "execution_count": null,
   "metadata": {
    "id": "PzwMcATL7pHK",
    "outputId": "6033efcc-bf9f-4cfc-db4a-53216d86e7d0"
   },
   "outputs": [
    {
     "data": {
      "image/png": "[encoded data removed]",
      "text/plain": [
       "<Figure size 432x288 with 1 Axes>"
      ]
     },
     "metadata": {
      "needs_background": "light",
      "tags": []
     },
     "output_type": "display_data"
    }
   ],
   "source": [
    "plt.plot(data_train[\"dislikes\"])\n",
    "plt.show()"
   ]
  },
  {
   "cell_type": "code",
   "execution_count": null,
   "metadata": {
    "id": "MwPBXnAM7pHK",
    "outputId": "274cdc37-285a-4e59-8915-bbc681cdf73c"
   },
   "outputs": [
    {
     "data": {
      "image/png": "[encoded data removed]",
      "text/plain": [
       "<Figure size 432x288 with 1 Axes>"
      ]
     },
     "metadata": {
      "needs_background": "light",
      "tags": []
     },
     "output_type": "display_data"
    }
   ],
   "source": [
    "plt.plot(data_train[\"category\"])\n",
    "plt.show()"
   ]
  },
  {
   "cell_type": "code",
   "execution_count": null,
   "metadata": {
    "id": "ozQ_6hUm7pHK",
    "outputId": "bcbcc13e-46fb-4938-d53c-40022e7dbaf4"
   },
   "outputs": [
    {
     "data": {
      "image/png": "[encoded data removed]",
      "text/plain": [
       "<Figure size 432x288 with 1 Axes>"
      ]
     },
     "metadata": {
      "needs_background": "light",
      "tags": []
     },
     "output_type": "display_data"
    }
   ],
   "source": [
    "plt.plot(data_train[\"duration\"])\n",
    "plt.show()"
   ]
  },
  {
   "cell_type": "code",
   "execution_count": null,
   "metadata": {
    "id": "9HOpYO4D7pHK",
    "outputId": "137a9c9d-27e7-48af-ae92-3c5e8956282b"
   },
   "outputs": [
    {
     "data": {
      "image/png": "[encoded data removed]",
      "text/plain": [
       "<Figure size 432x288 with 1 Axes>"
      ]
     },
     "metadata": {
      "needs_background": "light",
      "tags": []
     },
     "output_type": "display_data"
    }
   ],
   "source": [
    "#plotting histogram plot\n",
    "plt.hist(data_train[\"category\"])\n",
    "plt.show()"
   ]
  },
  {
   "cell_type": "code",
   "execution_count": 23,
   "metadata": {
    "colab": {
     "base_uri": "https://localhost:8080/",
     "height": 276
    },
    "id": "E_0WOrXD7pHK",
    "outputId": "81f64f8f-9a25-43a6-d7c7-793468858a9e"
   },
   "outputs": [
    {
     "data": {
      "image/png": "[encoded data removed]",
      "text/plain": [
       "<Figure size 432x288 with 1 Axes>"
      ]
     },
     "metadata": {
      "needs_background": "light",
      "tags": []
     },
     "output_type": "display_data"
    }
   ],
   "source": [
    "#ploting the 2D graph before removal of the outlier\n",
    "plt.plot(data_train[\"adview\"])\n",
    "plt.show()"
   ]
  },
  {
   "cell_type": "code",
   "execution_count": null,
   "metadata": {
    "id": "8SC-wNQA7pHK"
   },
   "outputs": [],
   "source": [
    "#removing the outliers: lets remove thevideos with adview grater than 2000000\n",
    "data_train = data_train[data_train[\"adview\"]<2000000]"
   ]
  },
  {
   "cell_type": "code",
   "execution_count": null,
   "metadata": {
    "id": "tj3D3j2R7pHK",
    "outputId": "2367d8e5-f62b-4c31-fc20-49c432ab778a"
   },
   "outputs": [
    {
     "data": {
      "image/png": "[encoded data removed]",
      "text/plain": [
       "<Figure size 432x288 with 1 Axes>"
      ]
     },
     "metadata": {
      "needs_background": "light",
      "tags": []
     },
     "output_type": "display_data"
    }
   ],
   "source": [
    "#ploting the 2D graph to check the removal of the outlier\n",
    "plt.plot(data_train[\"adview\"])\n",
    "plt.show()"
   ]
  },
  {
   "cell_type": "code",
   "execution_count": 24,
   "metadata": {
    "colab": {
     "base_uri": "https://localhost:8080/",
     "height": 487
    },
    "id": "X_9TnADN7pHK",
    "outputId": "6819c25f-2618-4b6f-f9de-75f07fd2479f"
   },
   "outputs": [
    {
     "data": {
      "image/png": "[encoded data removed]",
      "text/plain": [
       "<Figure size 720x576 with 2 Axes>"
      ]
     },
     "metadata": {
      "needs_background": "light",
      "tags": []
     },
     "output_type": "display_data"
    }
   ],
   "source": [
    "#Ploting Heatmap\n",
    "f, ax = plt.subplots(figsize=(10,8))\n",
    "corr = data_train.corr()\n",
    "sns.heatmap(corr, mask=np.zeros_like(corr, dtype=np.bool), cmap=sns.diverging_palette(220, 10, as_cmap=True), square=True, ax=ax, annot=True)\n",
    "plt.show()"
   ]
  },
  {
   "cell_type": "markdown",
   "metadata": {
    "id": "bjVfskMR7pHL"
   },
   "source": [
    "# 3.Cleaning the datasets by removing missing values"
   ]
  },
  {
   "cell_type": "code",
   "execution_count": 25,
   "metadata": {
    "colab": {
     "base_uri": "https://localhost:8080/",
     "height": 204
    },
    "id": "AmsinQh_7pHL",
    "outputId": "d9702db5-baa7-49ac-f29b-5c140dcd8011"
   },
   "outputs": [
    {
     "data": {
      "text/html": [
       "<div>\n",
       "<style scoped>\n",
       "    .dataframe tbody tr th:only-of-type {\n",
       "        vertical-align: middle;\n",
       "    }\n",
       "\n",
       "    .dataframe tbody tr th {\n",
       "        vertical-align: top;\n",
       "    }\n",
       "\n",
       "    .dataframe thead th {\n",
       "        text-align: right;\n",
       "    }\n",
       "</style>\n",
       "<table border=\"1\" class=\"dataframe\">\n",
       "  <thead>\n",
       "    <tr style=\"text-align: right;\">\n",
       "      <th></th>\n",
       "      <th>vidid</th>\n",
       "      <th>adview</th>\n",
       "      <th>views</th>\n",
       "      <th>likes</th>\n",
       "      <th>dislikes</th>\n",
       "      <th>comment</th>\n",
       "      <th>published</th>\n",
       "      <th>duration</th>\n",
       "      <th>category</th>\n",
       "    </tr>\n",
       "  </thead>\n",
       "  <tbody>\n",
       "    <tr>\n",
       "      <th>0</th>\n",
       "      <td>VID_18655</td>\n",
       "      <td>40</td>\n",
       "      <td>1031602</td>\n",
       "      <td>8523</td>\n",
       "      <td>363</td>\n",
       "      <td>1095</td>\n",
       "      <td>2016-09-14</td>\n",
       "      <td>PT7M37S</td>\n",
       "      <td>F</td>\n",
       "    </tr>\n",
       "    <tr>\n",
       "      <th>1</th>\n",
       "      <td>VID_14135</td>\n",
       "      <td>2</td>\n",
       "      <td>1707</td>\n",
       "      <td>56</td>\n",
       "      <td>2</td>\n",
       "      <td>6</td>\n",
       "      <td>2016-10-01</td>\n",
       "      <td>PT9M30S</td>\n",
       "      <td>D</td>\n",
       "    </tr>\n",
       "    <tr>\n",
       "      <th>2</th>\n",
       "      <td>VID_2187</td>\n",
       "      <td>1</td>\n",
       "      <td>2023</td>\n",
       "      <td>25</td>\n",
       "      <td>0</td>\n",
       "      <td>2</td>\n",
       "      <td>2016-07-02</td>\n",
       "      <td>PT2M16S</td>\n",
       "      <td>C</td>\n",
       "    </tr>\n",
       "    <tr>\n",
       "      <th>3</th>\n",
       "      <td>VID_23096</td>\n",
       "      <td>6</td>\n",
       "      <td>620860</td>\n",
       "      <td>777</td>\n",
       "      <td>161</td>\n",
       "      <td>153</td>\n",
       "      <td>2016-07-27</td>\n",
       "      <td>PT4M22S</td>\n",
       "      <td>H</td>\n",
       "    </tr>\n",
       "    <tr>\n",
       "      <th>4</th>\n",
       "      <td>VID_10175</td>\n",
       "      <td>1</td>\n",
       "      <td>666</td>\n",
       "      <td>1</td>\n",
       "      <td>0</td>\n",
       "      <td>0</td>\n",
       "      <td>2016-06-29</td>\n",
       "      <td>PT31S</td>\n",
       "      <td>D</td>\n",
       "    </tr>\n",
       "  </tbody>\n",
       "</table>\n",
       "</div>"
      ],
      "text/plain": [
       "       vidid  adview    views likes  ... comment   published duration category\n",
       "0  VID_18655      40  1031602  8523  ...    1095  2016-09-14  PT7M37S        F\n",
       "1  VID_14135       2     1707    56  ...       6  2016-10-01  PT9M30S        D\n",
       "2   VID_2187       1     2023    25  ...       2  2016-07-02  PT2M16S        C\n",
       "3  VID_23096       6   620860   777  ...     153  2016-07-27  PT4M22S        H\n",
       "4  VID_10175       1      666     1  ...       0  2016-06-29    PT31S        D\n",
       "\n",
       "[5 rows x 9 columns]"
      ]
     },
     "execution_count": 25,
     "metadata": {
      "tags": []
     },
     "output_type": "execute_result"
    }
   ],
   "source": [
    "#removing chharacter \"F\" present in data\n",
    "data_train = data_train[data_train.views != 'F']\n",
    "data_train = data_train[data_train.likes != 'F']\n",
    "data_train = data_train[data_train.dislikes != 'F']\n",
    "data_train = data_train[data_train.comment != 'F']\n",
    "\n",
    "data_train.head()"
   ]
  },
  {
   "cell_type": "code",
   "execution_count": 26,
   "metadata": {
    "colab": {
     "base_uri": "https://localhost:8080/",
     "height": 669
    },
    "id": "gC0VOZxc7pHL",
    "outputId": "18b977c9-4fe4-4076-b51b-066ccd423af5"
   },
   "outputs": [
    {
     "data": {
      "text/html": [
       "<div>\n",
       "<style scoped>\n",
       "    .dataframe tbody tr th:only-of-type {\n",
       "        vertical-align: middle;\n",
       "    }\n",
       "\n",
       "    .dataframe tbody tr th {\n",
       "        vertical-align: top;\n",
       "    }\n",
       "\n",
       "    .dataframe thead th {\n",
       "        text-align: right;\n",
       "    }\n",
       "</style>\n",
       "<table border=\"1\" class=\"dataframe\">\n",
       "  <thead>\n",
       "    <tr style=\"text-align: right;\">\n",
       "      <th></th>\n",
       "      <th>vidid</th>\n",
       "      <th>adview</th>\n",
       "      <th>views</th>\n",
       "      <th>likes</th>\n",
       "      <th>dislikes</th>\n",
       "      <th>comment</th>\n",
       "      <th>published</th>\n",
       "      <th>duration</th>\n",
       "      <th>category</th>\n",
       "    </tr>\n",
       "  </thead>\n",
       "  <tbody>\n",
       "    <tr>\n",
       "      <th>14976</th>\n",
       "      <td>VID_2132</td>\n",
       "      <td>1</td>\n",
       "      <td>12934</td>\n",
       "      <td>30</td>\n",
       "      <td>2</td>\n",
       "      <td>0</td>\n",
       "      <td>2016-07-06</td>\n",
       "      <td>PT2M33S</td>\n",
       "      <td>C</td>\n",
       "    </tr>\n",
       "    <tr>\n",
       "      <th>14978</th>\n",
       "      <td>VID_4424</td>\n",
       "      <td>1</td>\n",
       "      <td>216284</td>\n",
       "      <td>486</td>\n",
       "      <td>29</td>\n",
       "      <td>17</td>\n",
       "      <td>2014-04-27</td>\n",
       "      <td>PT3M49S</td>\n",
       "      <td>D</td>\n",
       "    </tr>\n",
       "    <tr>\n",
       "      <th>14979</th>\n",
       "      <td>VID_1314</td>\n",
       "      <td>272</td>\n",
       "      <td>1520441</td>\n",
       "      <td>18677</td>\n",
       "      <td>367</td>\n",
       "      <td>3971</td>\n",
       "      <td>2016-05-15</td>\n",
       "      <td>PT8M28S</td>\n",
       "      <td>B</td>\n",
       "    </tr>\n",
       "    <tr>\n",
       "      <th>14980</th>\n",
       "      <td>VID_14670</td>\n",
       "      <td>231</td>\n",
       "      <td>1532</td>\n",
       "      <td>266</td>\n",
       "      <td>24</td>\n",
       "      <td>5</td>\n",
       "      <td>2016-02-26</td>\n",
       "      <td>PT5M9S</td>\n",
       "      <td>D</td>\n",
       "    </tr>\n",
       "    <tr>\n",
       "      <th>14981</th>\n",
       "      <td>VID_7541</td>\n",
       "      <td>1</td>\n",
       "      <td>168226</td>\n",
       "      <td>184</td>\n",
       "      <td>27</td>\n",
       "      <td>29</td>\n",
       "      <td>2014-03-31</td>\n",
       "      <td>PT2M13S</td>\n",
       "      <td>D</td>\n",
       "    </tr>\n",
       "    <tr>\n",
       "      <th>14982</th>\n",
       "      <td>VID_4956</td>\n",
       "      <td>1</td>\n",
       "      <td>45964</td>\n",
       "      <td>36</td>\n",
       "      <td>5</td>\n",
       "      <td>2</td>\n",
       "      <td>2014-12-03</td>\n",
       "      <td>PT2M42S</td>\n",
       "      <td>D</td>\n",
       "    </tr>\n",
       "    <tr>\n",
       "      <th>14983</th>\n",
       "      <td>VID_7956</td>\n",
       "      <td>12</td>\n",
       "      <td>180204</td>\n",
       "      <td>361</td>\n",
       "      <td>17</td>\n",
       "      <td>20</td>\n",
       "      <td>2013-07-08</td>\n",
       "      <td>PT1M14S</td>\n",
       "      <td>D</td>\n",
       "    </tr>\n",
       "    <tr>\n",
       "      <th>14984</th>\n",
       "      <td>VID_13145</td>\n",
       "      <td>1</td>\n",
       "      <td>1511</td>\n",
       "      <td>6</td>\n",
       "      <td>1</td>\n",
       "      <td>0</td>\n",
       "      <td>2014-01-20</td>\n",
       "      <td>PT1M27S</td>\n",
       "      <td>D</td>\n",
       "    </tr>\n",
       "    <tr>\n",
       "      <th>14985</th>\n",
       "      <td>VID_566</td>\n",
       "      <td>1</td>\n",
       "      <td>32631</td>\n",
       "      <td>76</td>\n",
       "      <td>4</td>\n",
       "      <td>14</td>\n",
       "      <td>2014-01-03</td>\n",
       "      <td>PT13M24S</td>\n",
       "      <td>B</td>\n",
       "    </tr>\n",
       "    <tr>\n",
       "      <th>14986</th>\n",
       "      <td>VID_17470</td>\n",
       "      <td>3207</td>\n",
       "      <td>22237</td>\n",
       "      <td>52</td>\n",
       "      <td>4</td>\n",
       "      <td>14</td>\n",
       "      <td>2016-09-21</td>\n",
       "      <td>PT5M18S</td>\n",
       "      <td>E</td>\n",
       "    </tr>\n",
       "    <tr>\n",
       "      <th>14987</th>\n",
       "      <td>VID_18084</td>\n",
       "      <td>1</td>\n",
       "      <td>303879</td>\n",
       "      <td>481</td>\n",
       "      <td>51</td>\n",
       "      <td>76</td>\n",
       "      <td>2014-06-12</td>\n",
       "      <td>PT2M17S</td>\n",
       "      <td>F</td>\n",
       "    </tr>\n",
       "    <tr>\n",
       "      <th>14988</th>\n",
       "      <td>VID_22836</td>\n",
       "      <td>2</td>\n",
       "      <td>214596</td>\n",
       "      <td>1431</td>\n",
       "      <td>44</td>\n",
       "      <td>67</td>\n",
       "      <td>2015-08-06</td>\n",
       "      <td>PT3M32S</td>\n",
       "      <td>G</td>\n",
       "    </tr>\n",
       "    <tr>\n",
       "      <th>14989</th>\n",
       "      <td>VID_20638</td>\n",
       "      <td>22</td>\n",
       "      <td>1204587</td>\n",
       "      <td>10284</td>\n",
       "      <td>379</td>\n",
       "      <td>2016</td>\n",
       "      <td>2013-04-10</td>\n",
       "      <td>PT10H19S</td>\n",
       "      <td>G</td>\n",
       "    </tr>\n",
       "    <tr>\n",
       "      <th>14992</th>\n",
       "      <td>VID_11653</td>\n",
       "      <td>1</td>\n",
       "      <td>78021</td>\n",
       "      <td>422</td>\n",
       "      <td>19</td>\n",
       "      <td>14</td>\n",
       "      <td>2016-08-12</td>\n",
       "      <td>PT2M57S</td>\n",
       "      <td>D</td>\n",
       "    </tr>\n",
       "    <tr>\n",
       "      <th>14993</th>\n",
       "      <td>VID_13909</td>\n",
       "      <td>11</td>\n",
       "      <td>96816</td>\n",
       "      <td>122</td>\n",
       "      <td>9</td>\n",
       "      <td>11</td>\n",
       "      <td>2014-01-30</td>\n",
       "      <td>PT2M6S</td>\n",
       "      <td>D</td>\n",
       "    </tr>\n",
       "    <tr>\n",
       "      <th>14994</th>\n",
       "      <td>VID_31</td>\n",
       "      <td>2</td>\n",
       "      <td>525949</td>\n",
       "      <td>1137</td>\n",
       "      <td>83</td>\n",
       "      <td>86</td>\n",
       "      <td>2015-05-18</td>\n",
       "      <td>PT6M10S</td>\n",
       "      <td>A</td>\n",
       "    </tr>\n",
       "    <tr>\n",
       "      <th>14995</th>\n",
       "      <td>VID_5861</td>\n",
       "      <td>1</td>\n",
       "      <td>665673</td>\n",
       "      <td>3849</td>\n",
       "      <td>156</td>\n",
       "      <td>569</td>\n",
       "      <td>2015-10-20</td>\n",
       "      <td>PT3M56S</td>\n",
       "      <td>D</td>\n",
       "    </tr>\n",
       "    <tr>\n",
       "      <th>14996</th>\n",
       "      <td>VID_805</td>\n",
       "      <td>4</td>\n",
       "      <td>3479</td>\n",
       "      <td>16</td>\n",
       "      <td>1</td>\n",
       "      <td>1</td>\n",
       "      <td>2013-08-23</td>\n",
       "      <td>PT3M13S</td>\n",
       "      <td>B</td>\n",
       "    </tr>\n",
       "    <tr>\n",
       "      <th>14997</th>\n",
       "      <td>VID_19843</td>\n",
       "      <td>1</td>\n",
       "      <td>963</td>\n",
       "      <td>0</td>\n",
       "      <td>0</td>\n",
       "      <td>0</td>\n",
       "      <td>2010-10-02</td>\n",
       "      <td>PT26S</td>\n",
       "      <td>G</td>\n",
       "    </tr>\n",
       "    <tr>\n",
       "      <th>14998</th>\n",
       "      <td>VID_8534</td>\n",
       "      <td>1</td>\n",
       "      <td>15212</td>\n",
       "      <td>22</td>\n",
       "      <td>5</td>\n",
       "      <td>4</td>\n",
       "      <td>2016-02-19</td>\n",
       "      <td>PT1M1S</td>\n",
       "      <td>D</td>\n",
       "    </tr>\n",
       "  </tbody>\n",
       "</table>\n",
       "</div>"
      ],
      "text/plain": [
       "           vidid  adview    views  likes  ... comment   published  duration category\n",
       "14976   VID_2132       1    12934     30  ...       0  2016-07-06   PT2M33S        C\n",
       "14978   VID_4424       1   216284    486  ...      17  2014-04-27   PT3M49S        D\n",
       "14979   VID_1314     272  1520441  18677  ...    3971  2016-05-15   PT8M28S        B\n",
       "14980  VID_14670     231     1532    266  ...       5  2016-02-26    PT5M9S        D\n",
       "14981   VID_7541       1   168226    184  ...      29  2014-03-31   PT2M13S        D\n",
       "14982   VID_4956       1    45964     36  ...       2  2014-12-03   PT2M42S        D\n",
       "14983   VID_7956      12   180204    361  ...      20  2013-07-08   PT1M14S        D\n",
       "14984  VID_13145       1     1511      6  ...       0  2014-01-20   PT1M27S        D\n",
       "14985    VID_566       1    32631     76  ...      14  2014-01-03  PT13M24S        B\n",
       "14986  VID_17470    3207    22237     52  ...      14  2016-09-21   PT5M18S        E\n",
       "14987  VID_18084       1   303879    481  ...      76  2014-06-12   PT2M17S        F\n",
       "14988  VID_22836       2   214596   1431  ...      67  2015-08-06   PT3M32S        G\n",
       "14989  VID_20638      22  1204587  10284  ...    2016  2013-04-10  PT10H19S        G\n",
       "14992  VID_11653       1    78021    422  ...      14  2016-08-12   PT2M57S        D\n",
       "14993  VID_13909      11    96816    122  ...      11  2014-01-30    PT2M6S        D\n",
       "14994     VID_31       2   525949   1137  ...      86  2015-05-18   PT6M10S        A\n",
       "14995   VID_5861       1   665673   3849  ...     569  2015-10-20   PT3M56S        D\n",
       "14996    VID_805       4     3479     16  ...       1  2013-08-23   PT3M13S        B\n",
       "14997  VID_19843       1      963      0  ...       0  2010-10-02     PT26S        G\n",
       "14998   VID_8534       1    15212     22  ...       4  2016-02-19    PT1M1S        D\n",
       "\n",
       "[20 rows x 9 columns]"
      ]
     },
     "execution_count": 26,
     "metadata": {
      "tags": []
     },
     "output_type": "execute_result"
    }
   ],
   "source": [
    "data_train.tail(20)"
   ]
  },
  {
   "cell_type": "code",
   "execution_count": 27,
   "metadata": {
    "colab": {
     "base_uri": "https://localhost:8080/",
     "height": 204
    },
    "id": "HILZOgFl7pHL",
    "outputId": "390eca27-ddfa-4b67-f7b6-392e396de137"
   },
   "outputs": [
    {
     "data": {
      "text/html": [
       "<div>\n",
       "<style scoped>\n",
       "    .dataframe tbody tr th:only-of-type {\n",
       "        vertical-align: middle;\n",
       "    }\n",
       "\n",
       "    .dataframe tbody tr th {\n",
       "        vertical-align: top;\n",
       "    }\n",
       "\n",
       "    .dataframe thead th {\n",
       "        text-align: right;\n",
       "    }\n",
       "</style>\n",
       "<table border=\"1\" class=\"dataframe\">\n",
       "  <thead>\n",
       "    <tr style=\"text-align: right;\">\n",
       "      <th></th>\n",
       "      <th>vidid</th>\n",
       "      <th>adview</th>\n",
       "      <th>views</th>\n",
       "      <th>likes</th>\n",
       "      <th>dislikes</th>\n",
       "      <th>comment</th>\n",
       "      <th>published</th>\n",
       "      <th>duration</th>\n",
       "      <th>category</th>\n",
       "    </tr>\n",
       "  </thead>\n",
       "  <tbody>\n",
       "    <tr>\n",
       "      <th>0</th>\n",
       "      <td>VID_18655</td>\n",
       "      <td>40</td>\n",
       "      <td>1031602</td>\n",
       "      <td>8523</td>\n",
       "      <td>363</td>\n",
       "      <td>1095</td>\n",
       "      <td>2016-09-14</td>\n",
       "      <td>PT7M37S</td>\n",
       "      <td>6</td>\n",
       "    </tr>\n",
       "    <tr>\n",
       "      <th>1</th>\n",
       "      <td>VID_14135</td>\n",
       "      <td>2</td>\n",
       "      <td>1707</td>\n",
       "      <td>56</td>\n",
       "      <td>2</td>\n",
       "      <td>6</td>\n",
       "      <td>2016-10-01</td>\n",
       "      <td>PT9M30S</td>\n",
       "      <td>4</td>\n",
       "    </tr>\n",
       "    <tr>\n",
       "      <th>2</th>\n",
       "      <td>VID_2187</td>\n",
       "      <td>1</td>\n",
       "      <td>2023</td>\n",
       "      <td>25</td>\n",
       "      <td>0</td>\n",
       "      <td>2</td>\n",
       "      <td>2016-07-02</td>\n",
       "      <td>PT2M16S</td>\n",
       "      <td>3</td>\n",
       "    </tr>\n",
       "    <tr>\n",
       "      <th>3</th>\n",
       "      <td>VID_23096</td>\n",
       "      <td>6</td>\n",
       "      <td>620860</td>\n",
       "      <td>777</td>\n",
       "      <td>161</td>\n",
       "      <td>153</td>\n",
       "      <td>2016-07-27</td>\n",
       "      <td>PT4M22S</td>\n",
       "      <td>8</td>\n",
       "    </tr>\n",
       "    <tr>\n",
       "      <th>4</th>\n",
       "      <td>VID_10175</td>\n",
       "      <td>1</td>\n",
       "      <td>666</td>\n",
       "      <td>1</td>\n",
       "      <td>0</td>\n",
       "      <td>0</td>\n",
       "      <td>2016-06-29</td>\n",
       "      <td>PT31S</td>\n",
       "      <td>4</td>\n",
       "    </tr>\n",
       "  </tbody>\n",
       "</table>\n",
       "</div>"
      ],
      "text/plain": [
       "       vidid  adview    views likes  ... comment   published duration category\n",
       "0  VID_18655      40  1031602  8523  ...    1095  2016-09-14  PT7M37S        6\n",
       "1  VID_14135       2     1707    56  ...       6  2016-10-01  PT9M30S        4\n",
       "2   VID_2187       1     2023    25  ...       2  2016-07-02  PT2M16S        3\n",
       "3  VID_23096       6   620860   777  ...     153  2016-07-27  PT4M22S        8\n",
       "4  VID_10175       1      666     1  ...       0  2016-06-29    PT31S        4\n",
       "\n",
       "[5 rows x 9 columns]"
      ]
     },
     "execution_count": 27,
     "metadata": {
      "tags": []
     },
     "output_type": "execute_result"
    }
   ],
   "source": [
    "#Assigning each category a number for category feature\n",
    "category = {'A':1 , 'B':2 , 'C':3 , 'D':4 , 'E':5 , 'F':6 , 'G':7 , 'H':8}\n",
    "data_train[\"category\"] = data_train[\"category\"].map(category)\n",
    "\n",
    "#Dataset after cleaning and categorizing the features\n",
    "data_train.head()"
   ]
  },
  {
   "cell_type": "code",
   "execution_count": 28,
   "metadata": {
    "colab": {
     "base_uri": "https://localhost:8080/",
     "height": 669
    },
    "id": "TsBU7EFE7pHL",
    "outputId": "2ecd36ef-f2d4-4faa-cefe-4eb374970135"
   },
   "outputs": [
    {
     "data": {
      "text/html": [
       "<div>\n",
       "<style scoped>\n",
       "    .dataframe tbody tr th:only-of-type {\n",
       "        vertical-align: middle;\n",
       "    }\n",
       "\n",
       "    .dataframe tbody tr th {\n",
       "        vertical-align: top;\n",
       "    }\n",
       "\n",
       "    .dataframe thead th {\n",
       "        text-align: right;\n",
       "    }\n",
       "</style>\n",
       "<table border=\"1\" class=\"dataframe\">\n",
       "  <thead>\n",
       "    <tr style=\"text-align: right;\">\n",
       "      <th></th>\n",
       "      <th>vidid</th>\n",
       "      <th>adview</th>\n",
       "      <th>views</th>\n",
       "      <th>likes</th>\n",
       "      <th>dislikes</th>\n",
       "      <th>comment</th>\n",
       "      <th>published</th>\n",
       "      <th>duration</th>\n",
       "      <th>category</th>\n",
       "    </tr>\n",
       "  </thead>\n",
       "  <tbody>\n",
       "    <tr>\n",
       "      <th>14976</th>\n",
       "      <td>VID_2132</td>\n",
       "      <td>1</td>\n",
       "      <td>12934</td>\n",
       "      <td>30</td>\n",
       "      <td>2</td>\n",
       "      <td>0</td>\n",
       "      <td>2016-07-06</td>\n",
       "      <td>PT2M33S</td>\n",
       "      <td>3</td>\n",
       "    </tr>\n",
       "    <tr>\n",
       "      <th>14978</th>\n",
       "      <td>VID_4424</td>\n",
       "      <td>1</td>\n",
       "      <td>216284</td>\n",
       "      <td>486</td>\n",
       "      <td>29</td>\n",
       "      <td>17</td>\n",
       "      <td>2014-04-27</td>\n",
       "      <td>PT3M49S</td>\n",
       "      <td>4</td>\n",
       "    </tr>\n",
       "    <tr>\n",
       "      <th>14979</th>\n",
       "      <td>VID_1314</td>\n",
       "      <td>272</td>\n",
       "      <td>1520441</td>\n",
       "      <td>18677</td>\n",
       "      <td>367</td>\n",
       "      <td>3971</td>\n",
       "      <td>2016-05-15</td>\n",
       "      <td>PT8M28S</td>\n",
       "      <td>2</td>\n",
       "    </tr>\n",
       "    <tr>\n",
       "      <th>14980</th>\n",
       "      <td>VID_14670</td>\n",
       "      <td>231</td>\n",
       "      <td>1532</td>\n",
       "      <td>266</td>\n",
       "      <td>24</td>\n",
       "      <td>5</td>\n",
       "      <td>2016-02-26</td>\n",
       "      <td>PT5M9S</td>\n",
       "      <td>4</td>\n",
       "    </tr>\n",
       "    <tr>\n",
       "      <th>14981</th>\n",
       "      <td>VID_7541</td>\n",
       "      <td>1</td>\n",
       "      <td>168226</td>\n",
       "      <td>184</td>\n",
       "      <td>27</td>\n",
       "      <td>29</td>\n",
       "      <td>2014-03-31</td>\n",
       "      <td>PT2M13S</td>\n",
       "      <td>4</td>\n",
       "    </tr>\n",
       "    <tr>\n",
       "      <th>14982</th>\n",
       "      <td>VID_4956</td>\n",
       "      <td>1</td>\n",
       "      <td>45964</td>\n",
       "      <td>36</td>\n",
       "      <td>5</td>\n",
       "      <td>2</td>\n",
       "      <td>2014-12-03</td>\n",
       "      <td>PT2M42S</td>\n",
       "      <td>4</td>\n",
       "    </tr>\n",
       "    <tr>\n",
       "      <th>14983</th>\n",
       "      <td>VID_7956</td>\n",
       "      <td>12</td>\n",
       "      <td>180204</td>\n",
       "      <td>361</td>\n",
       "      <td>17</td>\n",
       "      <td>20</td>\n",
       "      <td>2013-07-08</td>\n",
       "      <td>PT1M14S</td>\n",
       "      <td>4</td>\n",
       "    </tr>\n",
       "    <tr>\n",
       "      <th>14984</th>\n",
       "      <td>VID_13145</td>\n",
       "      <td>1</td>\n",
       "      <td>1511</td>\n",
       "      <td>6</td>\n",
       "      <td>1</td>\n",
       "      <td>0</td>\n",
       "      <td>2014-01-20</td>\n",
       "      <td>PT1M27S</td>\n",
       "      <td>4</td>\n",
       "    </tr>\n",
       "    <tr>\n",
       "      <th>14985</th>\n",
       "      <td>VID_566</td>\n",
       "      <td>1</td>\n",
       "      <td>32631</td>\n",
       "      <td>76</td>\n",
       "      <td>4</td>\n",
       "      <td>14</td>\n",
       "      <td>2014-01-03</td>\n",
       "      <td>PT13M24S</td>\n",
       "      <td>2</td>\n",
       "    </tr>\n",
       "    <tr>\n",
       "      <th>14986</th>\n",
       "      <td>VID_17470</td>\n",
       "      <td>3207</td>\n",
       "      <td>22237</td>\n",
       "      <td>52</td>\n",
       "      <td>4</td>\n",
       "      <td>14</td>\n",
       "      <td>2016-09-21</td>\n",
       "      <td>PT5M18S</td>\n",
       "      <td>5</td>\n",
       "    </tr>\n",
       "    <tr>\n",
       "      <th>14987</th>\n",
       "      <td>VID_18084</td>\n",
       "      <td>1</td>\n",
       "      <td>303879</td>\n",
       "      <td>481</td>\n",
       "      <td>51</td>\n",
       "      <td>76</td>\n",
       "      <td>2014-06-12</td>\n",
       "      <td>PT2M17S</td>\n",
       "      <td>6</td>\n",
       "    </tr>\n",
       "    <tr>\n",
       "      <th>14988</th>\n",
       "      <td>VID_22836</td>\n",
       "      <td>2</td>\n",
       "      <td>214596</td>\n",
       "      <td>1431</td>\n",
       "      <td>44</td>\n",
       "      <td>67</td>\n",
       "      <td>2015-08-06</td>\n",
       "      <td>PT3M32S</td>\n",
       "      <td>7</td>\n",
       "    </tr>\n",
       "    <tr>\n",
       "      <th>14989</th>\n",
       "      <td>VID_20638</td>\n",
       "      <td>22</td>\n",
       "      <td>1204587</td>\n",
       "      <td>10284</td>\n",
       "      <td>379</td>\n",
       "      <td>2016</td>\n",
       "      <td>2013-04-10</td>\n",
       "      <td>PT10H19S</td>\n",
       "      <td>7</td>\n",
       "    </tr>\n",
       "    <tr>\n",
       "      <th>14992</th>\n",
       "      <td>VID_11653</td>\n",
       "      <td>1</td>\n",
       "      <td>78021</td>\n",
       "      <td>422</td>\n",
       "      <td>19</td>\n",
       "      <td>14</td>\n",
       "      <td>2016-08-12</td>\n",
       "      <td>PT2M57S</td>\n",
       "      <td>4</td>\n",
       "    </tr>\n",
       "    <tr>\n",
       "      <th>14993</th>\n",
       "      <td>VID_13909</td>\n",
       "      <td>11</td>\n",
       "      <td>96816</td>\n",
       "      <td>122</td>\n",
       "      <td>9</td>\n",
       "      <td>11</td>\n",
       "      <td>2014-01-30</td>\n",
       "      <td>PT2M6S</td>\n",
       "      <td>4</td>\n",
       "    </tr>\n",
       "    <tr>\n",
       "      <th>14994</th>\n",
       "      <td>VID_31</td>\n",
       "      <td>2</td>\n",
       "      <td>525949</td>\n",
       "      <td>1137</td>\n",
       "      <td>83</td>\n",
       "      <td>86</td>\n",
       "      <td>2015-05-18</td>\n",
       "      <td>PT6M10S</td>\n",
       "      <td>1</td>\n",
       "    </tr>\n",
       "    <tr>\n",
       "      <th>14995</th>\n",
       "      <td>VID_5861</td>\n",
       "      <td>1</td>\n",
       "      <td>665673</td>\n",
       "      <td>3849</td>\n",
       "      <td>156</td>\n",
       "      <td>569</td>\n",
       "      <td>2015-10-20</td>\n",
       "      <td>PT3M56S</td>\n",
       "      <td>4</td>\n",
       "    </tr>\n",
       "    <tr>\n",
       "      <th>14996</th>\n",
       "      <td>VID_805</td>\n",
       "      <td>4</td>\n",
       "      <td>3479</td>\n",
       "      <td>16</td>\n",
       "      <td>1</td>\n",
       "      <td>1</td>\n",
       "      <td>2013-08-23</td>\n",
       "      <td>PT3M13S</td>\n",
       "      <td>2</td>\n",
       "    </tr>\n",
       "    <tr>\n",
       "      <th>14997</th>\n",
       "      <td>VID_19843</td>\n",
       "      <td>1</td>\n",
       "      <td>963</td>\n",
       "      <td>0</td>\n",
       "      <td>0</td>\n",
       "      <td>0</td>\n",
       "      <td>2010-10-02</td>\n",
       "      <td>PT26S</td>\n",
       "      <td>7</td>\n",
       "    </tr>\n",
       "    <tr>\n",
       "      <th>14998</th>\n",
       "      <td>VID_8534</td>\n",
       "      <td>1</td>\n",
       "      <td>15212</td>\n",
       "      <td>22</td>\n",
       "      <td>5</td>\n",
       "      <td>4</td>\n",
       "      <td>2016-02-19</td>\n",
       "      <td>PT1M1S</td>\n",
       "      <td>4</td>\n",
       "    </tr>\n",
       "  </tbody>\n",
       "</table>\n",
       "</div>"
      ],
      "text/plain": [
       "           vidid  adview    views  ...   published  duration category\n",
       "14976   VID_2132       1    12934  ...  2016-07-06   PT2M33S        3\n",
       "14978   VID_4424       1   216284  ...  2014-04-27   PT3M49S        4\n",
       "14979   VID_1314     272  1520441  ...  2016-05-15   PT8M28S        2\n",
       "14980  VID_14670     231     1532  ...  2016-02-26    PT5M9S        4\n",
       "14981   VID_7541       1   168226  ...  2014-03-31   PT2M13S        4\n",
       "14982   VID_4956       1    45964  ...  2014-12-03   PT2M42S        4\n",
       "14983   VID_7956      12   180204  ...  2013-07-08   PT1M14S        4\n",
       "14984  VID_13145       1     1511  ...  2014-01-20   PT1M27S        4\n",
       "14985    VID_566       1    32631  ...  2014-01-03  PT13M24S        2\n",
       "14986  VID_17470    3207    22237  ...  2016-09-21   PT5M18S        5\n",
       "14987  VID_18084       1   303879  ...  2014-06-12   PT2M17S        6\n",
       "14988  VID_22836       2   214596  ...  2015-08-06   PT3M32S        7\n",
       "14989  VID_20638      22  1204587  ...  2013-04-10  PT10H19S        7\n",
       "14992  VID_11653       1    78021  ...  2016-08-12   PT2M57S        4\n",
       "14993  VID_13909      11    96816  ...  2014-01-30    PT2M6S        4\n",
       "14994     VID_31       2   525949  ...  2015-05-18   PT6M10S        1\n",
       "14995   VID_5861       1   665673  ...  2015-10-20   PT3M56S        4\n",
       "14996    VID_805       4     3479  ...  2013-08-23   PT3M13S        2\n",
       "14997  VID_19843       1      963  ...  2010-10-02     PT26S        7\n",
       "14998   VID_8534       1    15212  ...  2016-02-19    PT1M1S        4\n",
       "\n",
       "[20 rows x 9 columns]"
      ]
     },
     "execution_count": 28,
     "metadata": {
      "tags": []
     },
     "output_type": "execute_result"
    }
   ],
   "source": [
    "data_train.tail(20)"
   ]
  },
  {
   "cell_type": "markdown",
   "metadata": {
    "id": "UJDNwDlk7pHL"
   },
   "source": [
    "# 4.Transforming the attributes into numerical values and other necessary transformations"
   ]
  },
  {
   "cell_type": "code",
   "execution_count": 30,
   "metadata": {
    "id": "jhndQYpN7pHL"
   },
   "outputs": [],
   "source": [
    "#Converting all floating point numbers to integers for views, likes, comments, dislikes, and adviews\n",
    "\n",
    "data_train[\"views\"] = pd.to_numeric(data_train[\"views\"])\n",
    "data_train[\"comment\"] = pd.to_numeric(data_train[\"comment\"])\n",
    "data_train[\"likes\"] = pd.to_numeric(data_train[\"likes\"])\n",
    "data_train[\"dislikes\"] = pd.to_numeric(data_train[\"dislikes\"])\n",
    "data_train[\"adview\"] = pd.to_numeric(data_train[\"adview\"])\n",
    "\n",
    "column_vidid = data_train[\"vidid\"]"
   ]
  },
  {
   "cell_type": "code",
   "execution_count": 31,
   "metadata": {
    "colab": {
     "base_uri": "https://localhost:8080/",
     "height": 204
    },
    "id": "M5SZ7xEn7pHL",
    "outputId": "58f210e8-4c63-418c-a037-f0e00d25f41b"
   },
   "outputs": [
    {
     "data": {
      "text/html": [
       "<div>\n",
       "<style scoped>\n",
       "    .dataframe tbody tr th:only-of-type {\n",
       "        vertical-align: middle;\n",
       "    }\n",
       "\n",
       "    .dataframe tbody tr th {\n",
       "        vertical-align: top;\n",
       "    }\n",
       "\n",
       "    .dataframe thead th {\n",
       "        text-align: right;\n",
       "    }\n",
       "</style>\n",
       "<table border=\"1\" class=\"dataframe\">\n",
       "  <thead>\n",
       "    <tr style=\"text-align: right;\">\n",
       "      <th></th>\n",
       "      <th>vidid</th>\n",
       "      <th>adview</th>\n",
       "      <th>views</th>\n",
       "      <th>likes</th>\n",
       "      <th>dislikes</th>\n",
       "      <th>comment</th>\n",
       "      <th>published</th>\n",
       "      <th>duration</th>\n",
       "      <th>category</th>\n",
       "    </tr>\n",
       "  </thead>\n",
       "  <tbody>\n",
       "    <tr>\n",
       "      <th>0</th>\n",
       "      <td>5912</td>\n",
       "      <td>40</td>\n",
       "      <td>1031602</td>\n",
       "      <td>8523</td>\n",
       "      <td>363</td>\n",
       "      <td>1095</td>\n",
       "      <td>2168</td>\n",
       "      <td>2925</td>\n",
       "      <td>6</td>\n",
       "    </tr>\n",
       "    <tr>\n",
       "      <th>1</th>\n",
       "      <td>2741</td>\n",
       "      <td>2</td>\n",
       "      <td>1707</td>\n",
       "      <td>56</td>\n",
       "      <td>2</td>\n",
       "      <td>6</td>\n",
       "      <td>2185</td>\n",
       "      <td>3040</td>\n",
       "      <td>4</td>\n",
       "    </tr>\n",
       "    <tr>\n",
       "      <th>2</th>\n",
       "      <td>8138</td>\n",
       "      <td>1</td>\n",
       "      <td>2023</td>\n",
       "      <td>25</td>\n",
       "      <td>0</td>\n",
       "      <td>2</td>\n",
       "      <td>2094</td>\n",
       "      <td>1863</td>\n",
       "      <td>3</td>\n",
       "    </tr>\n",
       "    <tr>\n",
       "      <th>3</th>\n",
       "      <td>9005</td>\n",
       "      <td>6</td>\n",
       "      <td>620860</td>\n",
       "      <td>777</td>\n",
       "      <td>161</td>\n",
       "      <td>153</td>\n",
       "      <td>2119</td>\n",
       "      <td>2546</td>\n",
       "      <td>8</td>\n",
       "    </tr>\n",
       "    <tr>\n",
       "      <th>4</th>\n",
       "      <td>122</td>\n",
       "      <td>1</td>\n",
       "      <td>666</td>\n",
       "      <td>1</td>\n",
       "      <td>0</td>\n",
       "      <td>0</td>\n",
       "      <td>2091</td>\n",
       "      <td>1963</td>\n",
       "      <td>4</td>\n",
       "    </tr>\n",
       "  </tbody>\n",
       "</table>\n",
       "</div>"
      ],
      "text/plain": [
       "   vidid  adview    views  likes  ...  comment  published  duration  category\n",
       "0   5912      40  1031602   8523  ...     1095       2168      2925         6\n",
       "1   2741       2     1707     56  ...        6       2185      3040         4\n",
       "2   8138       1     2023     25  ...        2       2094      1863         3\n",
       "3   9005       6   620860    777  ...      153       2119      2546         8\n",
       "4    122       1      666      1  ...        0       2091      1963         4\n",
       "\n",
       "[5 rows x 9 columns]"
      ]
     },
     "execution_count": 31,
     "metadata": {
      "tags": []
     },
     "output_type": "execute_result"
    }
   ],
   "source": [
    "#Encoding features like category, duration and vidid\n",
    "\n",
    "from sklearn.preprocessing import LabelEncoder\n",
    "data_train['duration'] = LabelEncoder().fit_transform(data_train['duration'])\n",
    "data_train['vidid'] = LabelEncoder().fit_transform(data_train['vidid'])\n",
    "data_train['published'] = LabelEncoder().fit_transform(data_train['published'])\n",
    "\n",
    "data_train.head()"
   ]
  },
  {
   "cell_type": "code",
   "execution_count": 32,
   "metadata": {
    "colab": {
     "base_uri": "https://localhost:8080/",
     "height": 359
    },
    "id": "PouyAPzv7pHL",
    "outputId": "cf2e3a71-6bd3-4cf8-8746-84d3f446ff09"
   },
   "outputs": [
    {
     "data": {
      "text/html": [
       "<div>\n",
       "<style scoped>\n",
       "    .dataframe tbody tr th:only-of-type {\n",
       "        vertical-align: middle;\n",
       "    }\n",
       "\n",
       "    .dataframe tbody tr th {\n",
       "        vertical-align: top;\n",
       "    }\n",
       "\n",
       "    .dataframe thead th {\n",
       "        text-align: right;\n",
       "    }\n",
       "</style>\n",
       "<table border=\"1\" class=\"dataframe\">\n",
       "  <thead>\n",
       "    <tr style=\"text-align: right;\">\n",
       "      <th></th>\n",
       "      <th>vidid</th>\n",
       "      <th>adview</th>\n",
       "      <th>views</th>\n",
       "      <th>likes</th>\n",
       "      <th>dislikes</th>\n",
       "      <th>comment</th>\n",
       "      <th>published</th>\n",
       "      <th>duration</th>\n",
       "      <th>category</th>\n",
       "    </tr>\n",
       "  </thead>\n",
       "  <tbody>\n",
       "    <tr>\n",
       "      <th>14987</th>\n",
       "      <td>5510</td>\n",
       "      <td>1</td>\n",
       "      <td>303879</td>\n",
       "      <td>481</td>\n",
       "      <td>51</td>\n",
       "      <td>76</td>\n",
       "      <td>1345</td>\n",
       "      <td>1864</td>\n",
       "      <td>6</td>\n",
       "    </tr>\n",
       "    <tr>\n",
       "      <th>14988</th>\n",
       "      <td>8830</td>\n",
       "      <td>2</td>\n",
       "      <td>214596</td>\n",
       "      <td>1431</td>\n",
       "      <td>44</td>\n",
       "      <td>67</td>\n",
       "      <td>1763</td>\n",
       "      <td>2231</td>\n",
       "      <td>7</td>\n",
       "    </tr>\n",
       "    <tr>\n",
       "      <th>14989</th>\n",
       "      <td>7286</td>\n",
       "      <td>22</td>\n",
       "      <td>1204587</td>\n",
       "      <td>10284</td>\n",
       "      <td>379</td>\n",
       "      <td>2016</td>\n",
       "      <td>921</td>\n",
       "      <td>2</td>\n",
       "      <td>7</td>\n",
       "    </tr>\n",
       "    <tr>\n",
       "      <th>14992</th>\n",
       "      <td>1105</td>\n",
       "      <td>1</td>\n",
       "      <td>78021</td>\n",
       "      <td>422</td>\n",
       "      <td>19</td>\n",
       "      <td>14</td>\n",
       "      <td>2135</td>\n",
       "      <td>1908</td>\n",
       "      <td>4</td>\n",
       "    </tr>\n",
       "    <tr>\n",
       "      <th>14993</th>\n",
       "      <td>2591</td>\n",
       "      <td>11</td>\n",
       "      <td>96816</td>\n",
       "      <td>122</td>\n",
       "      <td>9</td>\n",
       "      <td>11</td>\n",
       "      <td>1212</td>\n",
       "      <td>1912</td>\n",
       "      <td>4</td>\n",
       "    </tr>\n",
       "    <tr>\n",
       "      <th>14994</th>\n",
       "      <td>9869</td>\n",
       "      <td>2</td>\n",
       "      <td>525949</td>\n",
       "      <td>1137</td>\n",
       "      <td>83</td>\n",
       "      <td>86</td>\n",
       "      <td>1683</td>\n",
       "      <td>2833</td>\n",
       "      <td>1</td>\n",
       "    </tr>\n",
       "    <tr>\n",
       "      <th>14995</th>\n",
       "      <td>11758</td>\n",
       "      <td>1</td>\n",
       "      <td>665673</td>\n",
       "      <td>3849</td>\n",
       "      <td>156</td>\n",
       "      <td>569</td>\n",
       "      <td>1838</td>\n",
       "      <td>2257</td>\n",
       "      <td>4</td>\n",
       "    </tr>\n",
       "    <tr>\n",
       "      <th>14996</th>\n",
       "      <td>13263</td>\n",
       "      <td>4</td>\n",
       "      <td>3479</td>\n",
       "      <td>16</td>\n",
       "      <td>1</td>\n",
       "      <td>1</td>\n",
       "      <td>1053</td>\n",
       "      <td>2210</td>\n",
       "      <td>2</td>\n",
       "    </tr>\n",
       "    <tr>\n",
       "      <th>14997</th>\n",
       "      <td>6736</td>\n",
       "      <td>1</td>\n",
       "      <td>963</td>\n",
       "      <td>0</td>\n",
       "      <td>0</td>\n",
       "      <td>0</td>\n",
       "      <td>222</td>\n",
       "      <td>1364</td>\n",
       "      <td>7</td>\n",
       "    </tr>\n",
       "    <tr>\n",
       "      <th>14998</th>\n",
       "      <td>13592</td>\n",
       "      <td>1</td>\n",
       "      <td>15212</td>\n",
       "      <td>22</td>\n",
       "      <td>5</td>\n",
       "      <td>4</td>\n",
       "      <td>1960</td>\n",
       "      <td>1050</td>\n",
       "      <td>4</td>\n",
       "    </tr>\n",
       "  </tbody>\n",
       "</table>\n",
       "</div>"
      ],
      "text/plain": [
       "       vidid  adview    views  likes  ...  comment  published  duration  category\n",
       "14987   5510       1   303879    481  ...       76       1345      1864         6\n",
       "14988   8830       2   214596   1431  ...       67       1763      2231         7\n",
       "14989   7286      22  1204587  10284  ...     2016        921         2         7\n",
       "14992   1105       1    78021    422  ...       14       2135      1908         4\n",
       "14993   2591      11    96816    122  ...       11       1212      1912         4\n",
       "14994   9869       2   525949   1137  ...       86       1683      2833         1\n",
       "14995  11758       1   665673   3849  ...      569       1838      2257         4\n",
       "14996  13263       4     3479     16  ...        1       1053      2210         2\n",
       "14997   6736       1      963      0  ...        0        222      1364         7\n",
       "14998  13592       1    15212     22  ...        4       1960      1050         4\n",
       "\n",
       "[10 rows x 9 columns]"
      ]
     },
     "execution_count": 32,
     "metadata": {
      "tags": []
     },
     "output_type": "execute_result"
    }
   ],
   "source": [
    "data_train.tail(10)"
   ]
  },
  {
   "cell_type": "code",
   "execution_count": 33,
   "metadata": {
    "colab": {
     "base_uri": "https://localhost:8080/",
     "height": 204
    },
    "id": "Bruq_Vhp7pHL",
    "outputId": "34e401c5-ccc3-4a10-c41e-473607818931"
   },
   "outputs": [
    {
     "data": {
      "text/html": [
       "<div>\n",
       "<style scoped>\n",
       "    .dataframe tbody tr th:only-of-type {\n",
       "        vertical-align: middle;\n",
       "    }\n",
       "\n",
       "    .dataframe tbody tr th {\n",
       "        vertical-align: top;\n",
       "    }\n",
       "\n",
       "    .dataframe thead th {\n",
       "        text-align: right;\n",
       "    }\n",
       "</style>\n",
       "<table border=\"1\" class=\"dataframe\">\n",
       "  <thead>\n",
       "    <tr style=\"text-align: right;\">\n",
       "      <th></th>\n",
       "      <th>vidid</th>\n",
       "      <th>adview</th>\n",
       "      <th>views</th>\n",
       "      <th>likes</th>\n",
       "      <th>dislikes</th>\n",
       "      <th>comment</th>\n",
       "      <th>published</th>\n",
       "      <th>duration</th>\n",
       "      <th>category</th>\n",
       "    </tr>\n",
       "  </thead>\n",
       "  <tbody>\n",
       "    <tr>\n",
       "      <th>0</th>\n",
       "      <td>5912</td>\n",
       "      <td>40</td>\n",
       "      <td>1031602</td>\n",
       "      <td>8523</td>\n",
       "      <td>363</td>\n",
       "      <td>1095</td>\n",
       "      <td>2168</td>\n",
       "      <td>457</td>\n",
       "      <td>6</td>\n",
       "    </tr>\n",
       "    <tr>\n",
       "      <th>1</th>\n",
       "      <td>2741</td>\n",
       "      <td>2</td>\n",
       "      <td>1707</td>\n",
       "      <td>56</td>\n",
       "      <td>2</td>\n",
       "      <td>6</td>\n",
       "      <td>2185</td>\n",
       "      <td>570</td>\n",
       "      <td>4</td>\n",
       "    </tr>\n",
       "    <tr>\n",
       "      <th>2</th>\n",
       "      <td>8138</td>\n",
       "      <td>1</td>\n",
       "      <td>2023</td>\n",
       "      <td>25</td>\n",
       "      <td>0</td>\n",
       "      <td>2</td>\n",
       "      <td>2094</td>\n",
       "      <td>136</td>\n",
       "      <td>3</td>\n",
       "    </tr>\n",
       "    <tr>\n",
       "      <th>3</th>\n",
       "      <td>9005</td>\n",
       "      <td>6</td>\n",
       "      <td>620860</td>\n",
       "      <td>777</td>\n",
       "      <td>161</td>\n",
       "      <td>153</td>\n",
       "      <td>2119</td>\n",
       "      <td>262</td>\n",
       "      <td>8</td>\n",
       "    </tr>\n",
       "    <tr>\n",
       "      <th>4</th>\n",
       "      <td>122</td>\n",
       "      <td>1</td>\n",
       "      <td>666</td>\n",
       "      <td>1</td>\n",
       "      <td>0</td>\n",
       "      <td>0</td>\n",
       "      <td>2091</td>\n",
       "      <td>31</td>\n",
       "      <td>4</td>\n",
       "    </tr>\n",
       "  </tbody>\n",
       "</table>\n",
       "</div>"
      ],
      "text/plain": [
       "   vidid  adview    views  likes  ...  comment  published  duration  category\n",
       "0   5912      40  1031602   8523  ...     1095       2168       457         6\n",
       "1   2741       2     1707     56  ...        6       2185       570         4\n",
       "2   8138       1     2023     25  ...        2       2094       136         3\n",
       "3   9005       6   620860    777  ...      153       2119       262         8\n",
       "4    122       1      666      1  ...        0       2091        31         4\n",
       "\n",
       "[5 rows x 9 columns]"
      ]
     },
     "execution_count": 33,
     "metadata": {
      "tags": []
     },
     "output_type": "execute_result"
    }
   ],
   "source": [
    "#Converting Time_in_sec for duration\n",
    "import datetime\n",
    "import time\n",
    "\n",
    "#defining a functionc\"checki\" to check the duration of the adds\n",
    "def checki(x):\n",
    "  y = x[2:]\n",
    "  h = ''\n",
    "  m = ''\n",
    "  s = ''\n",
    "  mm = ''\n",
    "  p = ['H' , 'M' , 'S']\n",
    "  \n",
    "  for i in y:\n",
    "    if i not in p:\n",
    "      mm+=i\n",
    "    else:\n",
    "      if (i == \"H\"):\n",
    "        h = mm\n",
    "        mm = ''\n",
    "      elif (i == \"M\"):\n",
    "        m = mm\n",
    "        mm = ''\n",
    "      else:\n",
    "        s = mm\n",
    "        mm = ''\n",
    "  \n",
    "  if (h == ''):\n",
    "    h = '00'\n",
    "  if (m == ''):\n",
    "    m = '00'\n",
    "  if (s == ''):\n",
    "    s = '00'\n",
    "\n",
    "  bp = h+':'+m+':'+s\n",
    "  return bp\n",
    "\n",
    "#reloading the csv file to the project and assiging it to train\n",
    "train = pd.read_csv(\"train.csv\")\n",
    "mp = pd.read_csv(\"train.csv\")[\"duration\"]\n",
    "\n",
    "#applying the \"checki\" function to the csv file\n",
    "time = mp.apply(checki)\n",
    "\n",
    "#defining a function \"func_sec\" to transform the time into seconds\n",
    "def func_sec(time_string):\n",
    "  h, m, s =time_string.split(':')\n",
    "  return int(h) * 3600 + int(m) * 60 + int(s)\n",
    "\n",
    "#calling the function \"func_sec\" and applying to the above function variable _time_\n",
    "time1 = time.apply(func_sec)\n",
    "\n",
    "#applying the above all functions to the the dataset (\"data_train\")\n",
    "data_train[\"duration\"] = time1\n",
    "\n",
    "#displaying the newly modified dataset\n",
    "data_train.head()\n"
   ]
  },
  {
   "cell_type": "code",
   "execution_count": 34,
   "metadata": {
    "colab": {
     "base_uri": "https://localhost:8080/",
     "height": 359
    },
    "id": "bld3DezT7pHL",
    "outputId": "f00e6454-b445-4c41-cded-0d043b9a4fb4"
   },
   "outputs": [
    {
     "data": {
      "text/html": [
       "<div>\n",
       "<style scoped>\n",
       "    .dataframe tbody tr th:only-of-type {\n",
       "        vertical-align: middle;\n",
       "    }\n",
       "\n",
       "    .dataframe tbody tr th {\n",
       "        vertical-align: top;\n",
       "    }\n",
       "\n",
       "    .dataframe thead th {\n",
       "        text-align: right;\n",
       "    }\n",
       "</style>\n",
       "<table border=\"1\" class=\"dataframe\">\n",
       "  <thead>\n",
       "    <tr style=\"text-align: right;\">\n",
       "      <th></th>\n",
       "      <th>vidid</th>\n",
       "      <th>adview</th>\n",
       "      <th>views</th>\n",
       "      <th>likes</th>\n",
       "      <th>dislikes</th>\n",
       "      <th>comment</th>\n",
       "      <th>published</th>\n",
       "      <th>duration</th>\n",
       "      <th>category</th>\n",
       "    </tr>\n",
       "  </thead>\n",
       "  <tbody>\n",
       "    <tr>\n",
       "      <th>14987</th>\n",
       "      <td>5510</td>\n",
       "      <td>1</td>\n",
       "      <td>303879</td>\n",
       "      <td>481</td>\n",
       "      <td>51</td>\n",
       "      <td>76</td>\n",
       "      <td>1345</td>\n",
       "      <td>137</td>\n",
       "      <td>6</td>\n",
       "    </tr>\n",
       "    <tr>\n",
       "      <th>14988</th>\n",
       "      <td>8830</td>\n",
       "      <td>2</td>\n",
       "      <td>214596</td>\n",
       "      <td>1431</td>\n",
       "      <td>44</td>\n",
       "      <td>67</td>\n",
       "      <td>1763</td>\n",
       "      <td>212</td>\n",
       "      <td>7</td>\n",
       "    </tr>\n",
       "    <tr>\n",
       "      <th>14989</th>\n",
       "      <td>7286</td>\n",
       "      <td>22</td>\n",
       "      <td>1204587</td>\n",
       "      <td>10284</td>\n",
       "      <td>379</td>\n",
       "      <td>2016</td>\n",
       "      <td>921</td>\n",
       "      <td>36019</td>\n",
       "      <td>7</td>\n",
       "    </tr>\n",
       "    <tr>\n",
       "      <th>14992</th>\n",
       "      <td>1105</td>\n",
       "      <td>1</td>\n",
       "      <td>78021</td>\n",
       "      <td>422</td>\n",
       "      <td>19</td>\n",
       "      <td>14</td>\n",
       "      <td>2135</td>\n",
       "      <td>177</td>\n",
       "      <td>4</td>\n",
       "    </tr>\n",
       "    <tr>\n",
       "      <th>14993</th>\n",
       "      <td>2591</td>\n",
       "      <td>11</td>\n",
       "      <td>96816</td>\n",
       "      <td>122</td>\n",
       "      <td>9</td>\n",
       "      <td>11</td>\n",
       "      <td>1212</td>\n",
       "      <td>126</td>\n",
       "      <td>4</td>\n",
       "    </tr>\n",
       "    <tr>\n",
       "      <th>14994</th>\n",
       "      <td>9869</td>\n",
       "      <td>2</td>\n",
       "      <td>525949</td>\n",
       "      <td>1137</td>\n",
       "      <td>83</td>\n",
       "      <td>86</td>\n",
       "      <td>1683</td>\n",
       "      <td>370</td>\n",
       "      <td>1</td>\n",
       "    </tr>\n",
       "    <tr>\n",
       "      <th>14995</th>\n",
       "      <td>11758</td>\n",
       "      <td>1</td>\n",
       "      <td>665673</td>\n",
       "      <td>3849</td>\n",
       "      <td>156</td>\n",
       "      <td>569</td>\n",
       "      <td>1838</td>\n",
       "      <td>236</td>\n",
       "      <td>4</td>\n",
       "    </tr>\n",
       "    <tr>\n",
       "      <th>14996</th>\n",
       "      <td>13263</td>\n",
       "      <td>4</td>\n",
       "      <td>3479</td>\n",
       "      <td>16</td>\n",
       "      <td>1</td>\n",
       "      <td>1</td>\n",
       "      <td>1053</td>\n",
       "      <td>193</td>\n",
       "      <td>2</td>\n",
       "    </tr>\n",
       "    <tr>\n",
       "      <th>14997</th>\n",
       "      <td>6736</td>\n",
       "      <td>1</td>\n",
       "      <td>963</td>\n",
       "      <td>0</td>\n",
       "      <td>0</td>\n",
       "      <td>0</td>\n",
       "      <td>222</td>\n",
       "      <td>26</td>\n",
       "      <td>7</td>\n",
       "    </tr>\n",
       "    <tr>\n",
       "      <th>14998</th>\n",
       "      <td>13592</td>\n",
       "      <td>1</td>\n",
       "      <td>15212</td>\n",
       "      <td>22</td>\n",
       "      <td>5</td>\n",
       "      <td>4</td>\n",
       "      <td>1960</td>\n",
       "      <td>61</td>\n",
       "      <td>4</td>\n",
       "    </tr>\n",
       "  </tbody>\n",
       "</table>\n",
       "</div>"
      ],
      "text/plain": [
       "       vidid  adview    views  likes  ...  comment  published  duration  category\n",
       "14987   5510       1   303879    481  ...       76       1345       137         6\n",
       "14988   8830       2   214596   1431  ...       67       1763       212         7\n",
       "14989   7286      22  1204587  10284  ...     2016        921     36019         7\n",
       "14992   1105       1    78021    422  ...       14       2135       177         4\n",
       "14993   2591      11    96816    122  ...       11       1212       126         4\n",
       "14994   9869       2   525949   1137  ...       86       1683       370         1\n",
       "14995  11758       1   665673   3849  ...      569       1838       236         4\n",
       "14996  13263       4     3479     16  ...        1       1053       193         2\n",
       "14997   6736       1      963      0  ...        0        222        26         7\n",
       "14998  13592       1    15212     22  ...        4       1960        61         4\n",
       "\n",
       "[10 rows x 9 columns]"
      ]
     },
     "execution_count": 34,
     "metadata": {
      "tags": []
     },
     "output_type": "execute_result"
    }
   ],
   "source": [
    "data_train.tail(10)"
   ]
  },
  {
   "cell_type": "code",
   "execution_count": 35,
   "metadata": {
    "colab": {
     "base_uri": "https://localhost:8080/",
     "height": 276
    },
    "id": "sbywPdsP7pHL",
    "outputId": "8218f6c9-a92f-49af-ca36-b0d57f263b44"
   },
   "outputs": [
    {
     "data": {
      "image/png": "[encoded data removed]",
      "text/plain": [
       "<Figure size 432x288 with 1 Axes>"
      ]
     },
     "metadata": {
      "needs_background": "light",
      "tags": []
     },
     "output_type": "display_data"
    }
   ],
   "source": [
    "#once again plotting the graph and checking the dataset\n",
    "#ploting the 2D graph to check the removal of the outlier\n",
    "plt.plot(data_train[\"adview\"])\n",
    "plt.show()"
   ]
  },
  {
   "cell_type": "code",
   "execution_count": 36,
   "metadata": {
    "colab": {
     "base_uri": "https://localhost:8080/",
     "height": 487
    },
    "id": "zIJTsPPP7pHL",
    "outputId": "60790372-134f-436a-a26c-d389d9a7965b"
   },
   "outputs": [
    {
     "data": {
      "image/png": "[encoded data removed]",
      "text/plain": [
       "<Figure size 720x576 with 2 Axes>"
      ]
     },
     "metadata": {
      "needs_background": "light",
      "tags": []
     },
     "output_type": "display_data"
    }
   ],
   "source": [
    "#Ploting Heatmap after succefully cleaning the dataset and transforming the necessary attributes\n",
    "f, ax = plt.subplots(figsize=(10,8))\n",
    "corr = data_train.corr()\n",
    "sns.heatmap(corr, mask=np.zeros_like(corr, dtype=np.bool), cmap=sns.diverging_palette(220, 10, as_cmap=True), square=True, ax=ax, annot=True)\n",
    "plt.show()"
   ]
  },
  {
   "cell_type": "markdown",
   "metadata": {
    "id": "cy_wh8Gn7pHL"
   },
   "source": [
    "# 5.Normalizing the data and spliting the data into training, validation and testset in the appropriate ratio"
   ]
  },
  {
   "cell_type": "code",
   "execution_count": 37,
   "metadata": {
    "colab": {
     "base_uri": "https://localhost:8080/",
     "height": 204
    },
    "id": "qO72FlTe7pHL",
    "outputId": "d098969e-369d-4a97-8099-9b7b1c991e7a"
   },
   "outputs": [
    {
     "data": {
      "text/html": [
       "<div>\n",
       "<style scoped>\n",
       "    .dataframe tbody tr th:only-of-type {\n",
       "        vertical-align: middle;\n",
       "    }\n",
       "\n",
       "    .dataframe tbody tr th {\n",
       "        vertical-align: top;\n",
       "    }\n",
       "\n",
       "    .dataframe thead th {\n",
       "        text-align: right;\n",
       "    }\n",
       "</style>\n",
       "<table border=\"1\" class=\"dataframe\">\n",
       "  <thead>\n",
       "    <tr style=\"text-align: right;\">\n",
       "      <th></th>\n",
       "      <th>views</th>\n",
       "      <th>likes</th>\n",
       "      <th>dislikes</th>\n",
       "      <th>comment</th>\n",
       "      <th>published</th>\n",
       "      <th>duration</th>\n",
       "      <th>category</th>\n",
       "    </tr>\n",
       "  </thead>\n",
       "  <tbody>\n",
       "    <tr>\n",
       "      <th>0</th>\n",
       "      <td>1031602</td>\n",
       "      <td>8523</td>\n",
       "      <td>363</td>\n",
       "      <td>1095</td>\n",
       "      <td>2168</td>\n",
       "      <td>457</td>\n",
       "      <td>6</td>\n",
       "    </tr>\n",
       "    <tr>\n",
       "      <th>1</th>\n",
       "      <td>1707</td>\n",
       "      <td>56</td>\n",
       "      <td>2</td>\n",
       "      <td>6</td>\n",
       "      <td>2185</td>\n",
       "      <td>570</td>\n",
       "      <td>4</td>\n",
       "    </tr>\n",
       "    <tr>\n",
       "      <th>2</th>\n",
       "      <td>2023</td>\n",
       "      <td>25</td>\n",
       "      <td>0</td>\n",
       "      <td>2</td>\n",
       "      <td>2094</td>\n",
       "      <td>136</td>\n",
       "      <td>3</td>\n",
       "    </tr>\n",
       "    <tr>\n",
       "      <th>3</th>\n",
       "      <td>620860</td>\n",
       "      <td>777</td>\n",
       "      <td>161</td>\n",
       "      <td>153</td>\n",
       "      <td>2119</td>\n",
       "      <td>262</td>\n",
       "      <td>8</td>\n",
       "    </tr>\n",
       "    <tr>\n",
       "      <th>4</th>\n",
       "      <td>666</td>\n",
       "      <td>1</td>\n",
       "      <td>0</td>\n",
       "      <td>0</td>\n",
       "      <td>2091</td>\n",
       "      <td>31</td>\n",
       "      <td>4</td>\n",
       "    </tr>\n",
       "  </tbody>\n",
       "</table>\n",
       "</div>"
      ],
      "text/plain": [
       "     views  likes  dislikes  comment  published  duration  category\n",
       "0  1031602   8523       363     1095       2168       457         6\n",
       "1     1707     56         2        6       2185       570         4\n",
       "2     2023     25         0        2       2094       136         3\n",
       "3   620860    777       161      153       2119       262         8\n",
       "4      666      1         0        0       2091        31         4"
      ]
     },
     "execution_count": 37,
     "metadata": {
      "tags": []
     },
     "output_type": "execute_result"
    }
   ],
   "source": [
    "#Spliting the data into 80:20 ratio\n",
    "\n",
    "Y_train = pd.DataFrame(data = data_train.iloc[: , 1].values , columns = ['target'])\n",
    "data_train = data_train.drop([\"adview\"] , axis = 1)\n",
    "data_train = data_train.drop([\"vidid\"] , axis = 1)\n",
    "data_train.head()"
   ]
  },
  {
   "cell_type": "code",
   "execution_count": 38,
   "metadata": {
    "colab": {
     "base_uri": "https://localhost:8080/",
     "height": 419
    },
    "id": "4FtUxB-i7pHL",
    "outputId": "75163e98-ed7e-4b72-86c4-c16424a30a1a"
   },
   "outputs": [
    {
     "data": {
      "text/html": [
       "<div>\n",
       "<style scoped>\n",
       "    .dataframe tbody tr th:only-of-type {\n",
       "        vertical-align: middle;\n",
       "    }\n",
       "\n",
       "    .dataframe tbody tr th {\n",
       "        vertical-align: top;\n",
       "    }\n",
       "\n",
       "    .dataframe thead th {\n",
       "        text-align: right;\n",
       "    }\n",
       "</style>\n",
       "<table border=\"1\" class=\"dataframe\">\n",
       "  <thead>\n",
       "    <tr style=\"text-align: right;\">\n",
       "      <th></th>\n",
       "      <th>target</th>\n",
       "    </tr>\n",
       "  </thead>\n",
       "  <tbody>\n",
       "    <tr>\n",
       "      <th>0</th>\n",
       "      <td>40</td>\n",
       "    </tr>\n",
       "    <tr>\n",
       "      <th>1</th>\n",
       "      <td>2</td>\n",
       "    </tr>\n",
       "    <tr>\n",
       "      <th>2</th>\n",
       "      <td>1</td>\n",
       "    </tr>\n",
       "    <tr>\n",
       "      <th>3</th>\n",
       "      <td>6</td>\n",
       "    </tr>\n",
       "    <tr>\n",
       "      <th>4</th>\n",
       "      <td>1</td>\n",
       "    </tr>\n",
       "    <tr>\n",
       "      <th>...</th>\n",
       "      <td>...</td>\n",
       "    </tr>\n",
       "    <tr>\n",
       "      <th>14632</th>\n",
       "      <td>2</td>\n",
       "    </tr>\n",
       "    <tr>\n",
       "      <th>14633</th>\n",
       "      <td>1</td>\n",
       "    </tr>\n",
       "    <tr>\n",
       "      <th>14634</th>\n",
       "      <td>4</td>\n",
       "    </tr>\n",
       "    <tr>\n",
       "      <th>14635</th>\n",
       "      <td>1</td>\n",
       "    </tr>\n",
       "    <tr>\n",
       "      <th>14636</th>\n",
       "      <td>1</td>\n",
       "    </tr>\n",
       "  </tbody>\n",
       "</table>\n",
       "<p>14637 rows × 1 columns</p>\n",
       "</div>"
      ],
      "text/plain": [
       "       target\n",
       "0          40\n",
       "1           2\n",
       "2           1\n",
       "3           6\n",
       "4           1\n",
       "...       ...\n",
       "14632       2\n",
       "14633       1\n",
       "14634       4\n",
       "14635       1\n",
       "14636       1\n",
       "\n",
       "[14637 rows x 1 columns]"
      ]
     },
     "execution_count": 38,
     "metadata": {
      "tags": []
     },
     "output_type": "execute_result"
    }
   ],
   "source": [
    "Y_train"
   ]
  },
  {
   "cell_type": "code",
   "execution_count": 39,
   "metadata": {
    "id": "g2_Ha5b67pHM"
   },
   "outputs": [],
   "source": [
    "from sklearn.model_selection import train_test_split\n",
    "x_train , x_test , y_train , y_test = train_test_split ( data_train , Y_train , test_size = 0.2 , random_state = 42)"
   ]
  },
  {
   "cell_type": "code",
   "execution_count": 40,
   "metadata": {
    "colab": {
     "base_uri": "https://localhost:8080/",
     "height": 419
    },
    "id": "y5gKjPFN7pHM",
    "outputId": "bd7edd07-a58a-4fa3-c0e2-da1e01c73b90"
   },
   "outputs": [
    {
     "data": {
      "text/html": [
       "<div>\n",
       "<style scoped>\n",
       "    .dataframe tbody tr th:only-of-type {\n",
       "        vertical-align: middle;\n",
       "    }\n",
       "\n",
       "    .dataframe tbody tr th {\n",
       "        vertical-align: top;\n",
       "    }\n",
       "\n",
       "    .dataframe thead th {\n",
       "        text-align: right;\n",
       "    }\n",
       "</style>\n",
       "<table border=\"1\" class=\"dataframe\">\n",
       "  <thead>\n",
       "    <tr style=\"text-align: right;\">\n",
       "      <th></th>\n",
       "      <th>views</th>\n",
       "      <th>likes</th>\n",
       "      <th>dislikes</th>\n",
       "      <th>comment</th>\n",
       "      <th>published</th>\n",
       "      <th>duration</th>\n",
       "      <th>category</th>\n",
       "    </tr>\n",
       "  </thead>\n",
       "  <tbody>\n",
       "    <tr>\n",
       "      <th>12545</th>\n",
       "      <td>26171</td>\n",
       "      <td>12</td>\n",
       "      <td>2</td>\n",
       "      <td>5</td>\n",
       "      <td>1505</td>\n",
       "      <td>2920</td>\n",
       "      <td>7</td>\n",
       "    </tr>\n",
       "    <tr>\n",
       "      <th>7923</th>\n",
       "      <td>34417</td>\n",
       "      <td>143</td>\n",
       "      <td>2</td>\n",
       "      <td>44</td>\n",
       "      <td>1129</td>\n",
       "      <td>618</td>\n",
       "      <td>4</td>\n",
       "    </tr>\n",
       "    <tr>\n",
       "      <th>3012</th>\n",
       "      <td>26086</td>\n",
       "      <td>19</td>\n",
       "      <td>0</td>\n",
       "      <td>9</td>\n",
       "      <td>966</td>\n",
       "      <td>178</td>\n",
       "      <td>6</td>\n",
       "    </tr>\n",
       "    <tr>\n",
       "      <th>1888</th>\n",
       "      <td>305445</td>\n",
       "      <td>3662</td>\n",
       "      <td>45</td>\n",
       "      <td>555</td>\n",
       "      <td>1484</td>\n",
       "      <td>257</td>\n",
       "      <td>7</td>\n",
       "    </tr>\n",
       "    <tr>\n",
       "      <th>5279</th>\n",
       "      <td>120739</td>\n",
       "      <td>766</td>\n",
       "      <td>16</td>\n",
       "      <td>227</td>\n",
       "      <td>2090</td>\n",
       "      <td>295</td>\n",
       "      <td>7</td>\n",
       "    </tr>\n",
       "    <tr>\n",
       "      <th>...</th>\n",
       "      <td>...</td>\n",
       "      <td>...</td>\n",
       "      <td>...</td>\n",
       "      <td>...</td>\n",
       "      <td>...</td>\n",
       "      <td>...</td>\n",
       "      <td>...</td>\n",
       "    </tr>\n",
       "    <tr>\n",
       "      <th>5316</th>\n",
       "      <td>31648</td>\n",
       "      <td>140</td>\n",
       "      <td>24</td>\n",
       "      <td>14</td>\n",
       "      <td>1925</td>\n",
       "      <td>231</td>\n",
       "      <td>7</td>\n",
       "    </tr>\n",
       "    <tr>\n",
       "      <th>13747</th>\n",
       "      <td>3435</td>\n",
       "      <td>27</td>\n",
       "      <td>0</td>\n",
       "      <td>0</td>\n",
       "      <td>1497</td>\n",
       "      <td>82</td>\n",
       "      <td>4</td>\n",
       "    </tr>\n",
       "    <tr>\n",
       "      <th>5522</th>\n",
       "      <td>204817</td>\n",
       "      <td>86</td>\n",
       "      <td>35</td>\n",
       "      <td>11</td>\n",
       "      <td>1237</td>\n",
       "      <td>218</td>\n",
       "      <td>4</td>\n",
       "    </tr>\n",
       "    <tr>\n",
       "      <th>883</th>\n",
       "      <td>1361366</td>\n",
       "      <td>1384</td>\n",
       "      <td>757</td>\n",
       "      <td>185</td>\n",
       "      <td>2145</td>\n",
       "      <td>240</td>\n",
       "      <td>7</td>\n",
       "    </tr>\n",
       "    <tr>\n",
       "      <th>7445</th>\n",
       "      <td>39758</td>\n",
       "      <td>122</td>\n",
       "      <td>6</td>\n",
       "      <td>3</td>\n",
       "      <td>224</td>\n",
       "      <td>354</td>\n",
       "      <td>4</td>\n",
       "    </tr>\n",
       "  </tbody>\n",
       "</table>\n",
       "<p>11709 rows × 7 columns</p>\n",
       "</div>"
      ],
      "text/plain": [
       "         views  likes  dislikes  comment  published  duration  category\n",
       "12545    26171     12         2        5       1505      2920         7\n",
       "7923     34417    143         2       44       1129       618         4\n",
       "3012     26086     19         0        9        966       178         6\n",
       "1888    305445   3662        45      555       1484       257         7\n",
       "5279    120739    766        16      227       2090       295         7\n",
       "...        ...    ...       ...      ...        ...       ...       ...\n",
       "5316     31648    140        24       14       1925       231         7\n",
       "13747     3435     27         0        0       1497        82         4\n",
       "5522    204817     86        35       11       1237       218         4\n",
       "883    1361366   1384       757      185       2145       240         7\n",
       "7445     39758    122         6        3        224       354         4\n",
       "\n",
       "[11709 rows x 7 columns]"
      ]
     },
     "execution_count": 40,
     "metadata": {
      "tags": []
     },
     "output_type": "execute_result"
    }
   ],
   "source": [
    "x_train"
   ]
  },
  {
   "cell_type": "code",
   "execution_count": null,
   "metadata": {
    "id": "t6i1EGOy7pHM",
    "outputId": "26e4d548-7152-40e1-d0be-feeb82f15797"
   },
   "outputs": [
    {
     "data": {
      "text/plain": [
       "(11708, 7)"
      ]
     },
     "execution_count": 36,
     "metadata": {
      "tags": []
     },
     "output_type": "execute_result"
    }
   ],
   "source": [
    "x_train.shape"
   ]
  },
  {
   "cell_type": "code",
   "execution_count": 41,
   "metadata": {
    "colab": {
     "base_uri": "https://localhost:8080/",
     "height": 419
    },
    "id": "nyXOyJQb7pHM",
    "outputId": "783238f6-4504-4c13-eb17-cc337064ca55"
   },
   "outputs": [
    {
     "data": {
      "text/html": [
       "<div>\n",
       "<style scoped>\n",
       "    .dataframe tbody tr th:only-of-type {\n",
       "        vertical-align: middle;\n",
       "    }\n",
       "\n",
       "    .dataframe tbody tr th {\n",
       "        vertical-align: top;\n",
       "    }\n",
       "\n",
       "    .dataframe thead th {\n",
       "        text-align: right;\n",
       "    }\n",
       "</style>\n",
       "<table border=\"1\" class=\"dataframe\">\n",
       "  <thead>\n",
       "    <tr style=\"text-align: right;\">\n",
       "      <th></th>\n",
       "      <th>views</th>\n",
       "      <th>likes</th>\n",
       "      <th>dislikes</th>\n",
       "      <th>comment</th>\n",
       "      <th>published</th>\n",
       "      <th>duration</th>\n",
       "      <th>category</th>\n",
       "    </tr>\n",
       "  </thead>\n",
       "  <tbody>\n",
       "    <tr>\n",
       "      <th>4912</th>\n",
       "      <td>630898</td>\n",
       "      <td>1625</td>\n",
       "      <td>117</td>\n",
       "      <td>80</td>\n",
       "      <td>370</td>\n",
       "      <td>365</td>\n",
       "      <td>4</td>\n",
       "    </tr>\n",
       "    <tr>\n",
       "      <th>4921</th>\n",
       "      <td>384</td>\n",
       "      <td>2</td>\n",
       "      <td>0</td>\n",
       "      <td>0</td>\n",
       "      <td>2047</td>\n",
       "      <td>15</td>\n",
       "      <td>5</td>\n",
       "    </tr>\n",
       "    <tr>\n",
       "      <th>3813</th>\n",
       "      <td>36772</td>\n",
       "      <td>138</td>\n",
       "      <td>4</td>\n",
       "      <td>7</td>\n",
       "      <td>1281</td>\n",
       "      <td>904</td>\n",
       "      <td>2</td>\n",
       "    </tr>\n",
       "    <tr>\n",
       "      <th>9092</th>\n",
       "      <td>147885</td>\n",
       "      <td>1235</td>\n",
       "      <td>79</td>\n",
       "      <td>66</td>\n",
       "      <td>1768</td>\n",
       "      <td>186</td>\n",
       "      <td>8</td>\n",
       "    </tr>\n",
       "    <tr>\n",
       "      <th>8486</th>\n",
       "      <td>285699</td>\n",
       "      <td>785</td>\n",
       "      <td>40</td>\n",
       "      <td>28</td>\n",
       "      <td>1173</td>\n",
       "      <td>1705</td>\n",
       "      <td>4</td>\n",
       "    </tr>\n",
       "    <tr>\n",
       "      <th>...</th>\n",
       "      <td>...</td>\n",
       "      <td>...</td>\n",
       "      <td>...</td>\n",
       "      <td>...</td>\n",
       "      <td>...</td>\n",
       "      <td>...</td>\n",
       "      <td>...</td>\n",
       "    </tr>\n",
       "    <tr>\n",
       "      <th>3788</th>\n",
       "      <td>40389</td>\n",
       "      <td>250</td>\n",
       "      <td>7</td>\n",
       "      <td>9</td>\n",
       "      <td>2230</td>\n",
       "      <td>189</td>\n",
       "      <td>4</td>\n",
       "    </tr>\n",
       "    <tr>\n",
       "      <th>12152</th>\n",
       "      <td>19659</td>\n",
       "      <td>44</td>\n",
       "      <td>0</td>\n",
       "      <td>2</td>\n",
       "      <td>1415</td>\n",
       "      <td>1313</td>\n",
       "      <td>4</td>\n",
       "    </tr>\n",
       "    <tr>\n",
       "      <th>9152</th>\n",
       "      <td>657297</td>\n",
       "      <td>1254</td>\n",
       "      <td>169</td>\n",
       "      <td>123</td>\n",
       "      <td>1805</td>\n",
       "      <td>429</td>\n",
       "      <td>4</td>\n",
       "    </tr>\n",
       "    <tr>\n",
       "      <th>769</th>\n",
       "      <td>67541</td>\n",
       "      <td>691</td>\n",
       "      <td>19</td>\n",
       "      <td>66</td>\n",
       "      <td>2130</td>\n",
       "      <td>363</td>\n",
       "      <td>4</td>\n",
       "    </tr>\n",
       "    <tr>\n",
       "      <th>7039</th>\n",
       "      <td>409201</td>\n",
       "      <td>10253</td>\n",
       "      <td>1263</td>\n",
       "      <td>649</td>\n",
       "      <td>2126</td>\n",
       "      <td>211</td>\n",
       "      <td>5</td>\n",
       "    </tr>\n",
       "  </tbody>\n",
       "</table>\n",
       "<p>2928 rows × 7 columns</p>\n",
       "</div>"
      ],
      "text/plain": [
       "        views  likes  dislikes  comment  published  duration  category\n",
       "4912   630898   1625       117       80        370       365         4\n",
       "4921      384      2         0        0       2047        15         5\n",
       "3813    36772    138         4        7       1281       904         2\n",
       "9092   147885   1235        79       66       1768       186         8\n",
       "8486   285699    785        40       28       1173      1705         4\n",
       "...       ...    ...       ...      ...        ...       ...       ...\n",
       "3788    40389    250         7        9       2230       189         4\n",
       "12152   19659     44         0        2       1415      1313         4\n",
       "9152   657297   1254       169      123       1805       429         4\n",
       "769     67541    691        19       66       2130       363         4\n",
       "7039   409201  10253      1263      649       2126       211         5\n",
       "\n",
       "[2928 rows x 7 columns]"
      ]
     },
     "execution_count": 41,
     "metadata": {
      "tags": []
     },
     "output_type": "execute_result"
    }
   ],
   "source": [
    "x_test"
   ]
  },
  {
   "cell_type": "code",
   "execution_count": 42,
   "metadata": {
    "colab": {
     "base_uri": "https://localhost:8080/"
    },
    "id": "fYBmZ8Db7pHM",
    "outputId": "33a295a8-e2d3-4034-f2f0-9bb2635f4e8a"
   },
   "outputs": [
    {
     "data": {
      "text/plain": [
       "(2928, 7)"
      ]
     },
     "execution_count": 42,
     "metadata": {
      "tags": []
     },
     "output_type": "execute_result"
    }
   ],
   "source": [
    "x_test.shape"
   ]
  },
  {
   "cell_type": "code",
   "execution_count": 43,
   "metadata": {
    "colab": {
     "base_uri": "https://localhost:8080/",
     "height": 419
    },
    "id": "Nyvd346n7pHM",
    "outputId": "4d85cc18-4023-42ef-b340-1c02e62dfec0"
   },
   "outputs": [
    {
     "data": {
      "text/html": [
       "<div>\n",
       "<style scoped>\n",
       "    .dataframe tbody tr th:only-of-type {\n",
       "        vertical-align: middle;\n",
       "    }\n",
       "\n",
       "    .dataframe tbody tr th {\n",
       "        vertical-align: top;\n",
       "    }\n",
       "\n",
       "    .dataframe thead th {\n",
       "        text-align: right;\n",
       "    }\n",
       "</style>\n",
       "<table border=\"1\" class=\"dataframe\">\n",
       "  <thead>\n",
       "    <tr style=\"text-align: right;\">\n",
       "      <th></th>\n",
       "      <th>target</th>\n",
       "    </tr>\n",
       "  </thead>\n",
       "  <tbody>\n",
       "    <tr>\n",
       "      <th>12241</th>\n",
       "      <td>1</td>\n",
       "    </tr>\n",
       "    <tr>\n",
       "      <th>7738</th>\n",
       "      <td>3</td>\n",
       "    </tr>\n",
       "    <tr>\n",
       "      <th>2937</th>\n",
       "      <td>18782</td>\n",
       "    </tr>\n",
       "    <tr>\n",
       "      <th>1839</th>\n",
       "      <td>2</td>\n",
       "    </tr>\n",
       "    <tr>\n",
       "      <th>5155</th>\n",
       "      <td>1</td>\n",
       "    </tr>\n",
       "    <tr>\n",
       "      <th>...</th>\n",
       "      <td>...</td>\n",
       "    </tr>\n",
       "    <tr>\n",
       "      <th>5191</th>\n",
       "      <td>21127</td>\n",
       "    </tr>\n",
       "    <tr>\n",
       "      <th>13418</th>\n",
       "      <td>809</td>\n",
       "    </tr>\n",
       "    <tr>\n",
       "      <th>5390</th>\n",
       "      <td>1</td>\n",
       "    </tr>\n",
       "    <tr>\n",
       "      <th>860</th>\n",
       "      <td>2</td>\n",
       "    </tr>\n",
       "    <tr>\n",
       "      <th>7270</th>\n",
       "      <td>1</td>\n",
       "    </tr>\n",
       "  </tbody>\n",
       "</table>\n",
       "<p>11709 rows × 1 columns</p>\n",
       "</div>"
      ],
      "text/plain": [
       "       target\n",
       "12241       1\n",
       "7738        3\n",
       "2937    18782\n",
       "1839        2\n",
       "5155        1\n",
       "...       ...\n",
       "5191    21127\n",
       "13418     809\n",
       "5390        1\n",
       "860         2\n",
       "7270        1\n",
       "\n",
       "[11709 rows x 1 columns]"
      ]
     },
     "execution_count": 43,
     "metadata": {
      "tags": []
     },
     "output_type": "execute_result"
    }
   ],
   "source": [
    "y_train "
   ]
  },
  {
   "cell_type": "code",
   "execution_count": 44,
   "metadata": {
    "colab": {
     "base_uri": "https://localhost:8080/"
    },
    "id": "Nqp9_ggX7pHM",
    "outputId": "afc325a4-5503-4b23-a4ed-100c07356d87"
   },
   "outputs": [
    {
     "data": {
      "text/plain": [
       "(11709, 1)"
      ]
     },
     "execution_count": 44,
     "metadata": {
      "tags": []
     },
     "output_type": "execute_result"
    }
   ],
   "source": [
    "y_train.shape"
   ]
  },
  {
   "cell_type": "code",
   "execution_count": 45,
   "metadata": {
    "colab": {
     "base_uri": "https://localhost:8080/",
     "height": 419
    },
    "id": "tpmTZu697pHM",
    "outputId": "8209d512-281f-43cd-a5d4-03bcf95ff608"
   },
   "outputs": [
    {
     "data": {
      "text/html": [
       "<div>\n",
       "<style scoped>\n",
       "    .dataframe tbody tr th:only-of-type {\n",
       "        vertical-align: middle;\n",
       "    }\n",
       "\n",
       "    .dataframe tbody tr th {\n",
       "        vertical-align: top;\n",
       "    }\n",
       "\n",
       "    .dataframe thead th {\n",
       "        text-align: right;\n",
       "    }\n",
       "</style>\n",
       "<table border=\"1\" class=\"dataframe\">\n",
       "  <thead>\n",
       "    <tr style=\"text-align: right;\">\n",
       "      <th></th>\n",
       "      <th>target</th>\n",
       "    </tr>\n",
       "  </thead>\n",
       "  <tbody>\n",
       "    <tr>\n",
       "      <th>4791</th>\n",
       "      <td>5</td>\n",
       "    </tr>\n",
       "    <tr>\n",
       "      <th>4800</th>\n",
       "      <td>2</td>\n",
       "    </tr>\n",
       "    <tr>\n",
       "      <th>3717</th>\n",
       "      <td>5</td>\n",
       "    </tr>\n",
       "    <tr>\n",
       "      <th>8877</th>\n",
       "      <td>1</td>\n",
       "    </tr>\n",
       "    <tr>\n",
       "      <th>8289</th>\n",
       "      <td>1</td>\n",
       "    </tr>\n",
       "    <tr>\n",
       "      <th>...</th>\n",
       "      <td>...</td>\n",
       "    </tr>\n",
       "    <tr>\n",
       "      <th>3694</th>\n",
       "      <td>1</td>\n",
       "    </tr>\n",
       "    <tr>\n",
       "      <th>11861</th>\n",
       "      <td>1</td>\n",
       "    </tr>\n",
       "    <tr>\n",
       "      <th>8935</th>\n",
       "      <td>3</td>\n",
       "    </tr>\n",
       "    <tr>\n",
       "      <th>750</th>\n",
       "      <td>2</td>\n",
       "    </tr>\n",
       "    <tr>\n",
       "      <th>6872</th>\n",
       "      <td>5</td>\n",
       "    </tr>\n",
       "  </tbody>\n",
       "</table>\n",
       "<p>2928 rows × 1 columns</p>\n",
       "</div>"
      ],
      "text/plain": [
       "       target\n",
       "4791        5\n",
       "4800        2\n",
       "3717        5\n",
       "8877        1\n",
       "8289        1\n",
       "...       ...\n",
       "3694        1\n",
       "11861       1\n",
       "8935        3\n",
       "750         2\n",
       "6872        5\n",
       "\n",
       "[2928 rows x 1 columns]"
      ]
     },
     "execution_count": 45,
     "metadata": {
      "tags": []
     },
     "output_type": "execute_result"
    }
   ],
   "source": [
    "y_test"
   ]
  },
  {
   "cell_type": "code",
   "execution_count": 46,
   "metadata": {
    "colab": {
     "base_uri": "https://localhost:8080/"
    },
    "id": "45TyRlEA7pHM",
    "outputId": "133705ce-7470-4374-ee15-e74b17dcaeb8"
   },
   "outputs": [
    {
     "data": {
      "text/plain": [
       "(2928, 1)"
      ]
     },
     "execution_count": 46,
     "metadata": {
      "tags": []
     },
     "output_type": "execute_result"
    }
   ],
   "source": [
    "y_test.shape"
   ]
  },
  {
   "cell_type": "code",
   "execution_count": 47,
   "metadata": {
    "colab": {
     "base_uri": "https://localhost:8080/"
    },
    "id": "xGV2Owtx7pHM",
    "outputId": "d3920a79-5bdf-4fbd-e512-12aa86ec4396"
   },
   "outputs": [
    {
     "data": {
      "text/plain": [
       "14636"
      ]
     },
     "execution_count": 47,
     "metadata": {
      "tags": []
     },
     "output_type": "execute_result"
    }
   ],
   "source": [
    "#Split of 80:20 ratio is :.... considering the 80% of the data set (14999 - 14636)\n",
    "11708 + 2928"
   ]
  },
  {
   "cell_type": "code",
   "execution_count": 48,
   "metadata": {
    "id": "ypbwScQR7pHM"
   },
   "outputs": [],
   "source": [
    "#Normaliseing the data\n",
    "from sklearn.preprocessing import MinMaxScaler\n",
    "scaler = MinMaxScaler()\n",
    "x_train = scaler.fit_transform(x_train)\n",
    "x_test = scaler.fit_transform(x_test)"
   ]
  },
  {
   "cell_type": "code",
   "execution_count": 49,
   "metadata": {
    "colab": {
     "base_uri": "https://localhost:8080/"
    },
    "id": "cp6ANkfr7pHM",
    "outputId": "7ea53e8d-b8aa-445f-ebbf-544b6b0361da"
   },
   "outputs": [
    {
     "data": {
      "text/plain": [
       "0.17395410595763316"
      ]
     },
     "execution_count": 49,
     "metadata": {
      "tags": []
     },
     "output_type": "execute_result"
    }
   ],
   "source": [
    "x_train.mean()"
   ]
  },
  {
   "cell_type": "code",
   "execution_count": 50,
   "metadata": {
    "colab": {
     "base_uri": "https://localhost:8080/"
    },
    "id": "BJiwmTrs7pHM",
    "outputId": "68345863-4bb0-400a-fece-da827bcc316a"
   },
   "outputs": [
    {
     "data": {
      "text/plain": [
       "(array([[1.89224285e-04, 4.22797226e-05, 4.04457117e-05, ...,\n",
       "         6.31556861e-01, 6.90030012e-02, 8.57142857e-01],\n",
       "        [2.48957209e-04, 5.03833362e-04, 4.04457117e-05, ...,\n",
       "         4.73772556e-01, 1.46040598e-02, 4.28571429e-01],\n",
       "        [1.88608556e-04, 6.69428942e-05, 0.00000000e+00, ...,\n",
       "         4.05371381e-01, 4.20634733e-03, 7.14285714e-01],\n",
       "        ...,\n",
       "        [1.48331209e-03, 3.03004679e-04, 7.07799956e-04, ...,\n",
       "         5.19093580e-01, 5.15159392e-03, 4.28571429e-01],\n",
       "        [9.86119882e-03, 4.87626135e-03, 1.53087019e-02, ...,\n",
       "         9.00125892e-01, 5.67147955e-03, 8.57142857e-01],\n",
       "        [2.87646701e-04, 4.29843847e-04, 1.21337135e-04, ...,\n",
       "         9.39991607e-02, 8.36543233e-03, 4.28571429e-01]]),        target\n",
       " 12241       1\n",
       " 7738        3\n",
       " 2937    18782\n",
       " 1839        2\n",
       " 5155        1\n",
       " ...       ...\n",
       " 5191    21127\n",
       " 13418     809\n",
       " 5390        1\n",
       " 860         2\n",
       " 7270        1\n",
       " \n",
       " [11709 rows x 1 columns])"
      ]
     },
     "execution_count": 50,
     "metadata": {
      "tags": []
     },
     "output_type": "execute_result"
    }
   ],
   "source": [
    "x_train , y_train"
   ]
  },
  {
   "cell_type": "code",
   "execution_count": 51,
   "metadata": {
    "colab": {
     "base_uri": "https://localhost:8080/"
    },
    "id": "YdaDblS67pHN",
    "outputId": "7da71a27-5cce-45e1-9db4-a2c03ef67854"
   },
   "outputs": [
    {
     "data": {
      "text/plain": [
       "(array([[9.57675532e-03, 8.63080853e-03, 6.24766380e-03, ...,\n",
       "         1.54621849e-01, 9.98696147e-03, 4.28571429e-01],\n",
       "        [5.08554826e-06, 1.06225336e-05, 0.00000000e+00, ...,\n",
       "         8.59243697e-01, 2.77415596e-04, 5.71428571e-01],\n",
       "        [5.57482354e-04, 7.32954817e-04, 2.13595344e-04, ...,\n",
       "         5.37394958e-01, 2.49396621e-02, 1.42857143e-01],\n",
       "        ...,\n",
       "        [9.97751171e-03, 6.66032855e-03, 9.02440327e-03, ...,\n",
       "         7.57563025e-01, 1.17624213e-02, 4.28571429e-01],\n",
       "        [1.02457858e-03, 3.67008535e-03, 1.01457788e-03, ...,\n",
       "         8.94117647e-01, 9.93147835e-03, 4.28571429e-01],\n",
       "        [6.21123057e-03, 5.44564184e-02, 6.74427297e-02, ...,\n",
       "         8.92436975e-01, 5.71476128e-03, 5.71428571e-01]]),        target\n",
       " 4791        5\n",
       " 4800        2\n",
       " 3717        5\n",
       " 8877        1\n",
       " 8289        1\n",
       " ...       ...\n",
       " 3694        1\n",
       " 11861       1\n",
       " 8935        3\n",
       " 750         2\n",
       " 6872        5\n",
       " \n",
       " [2928 rows x 1 columns])"
      ]
     },
     "execution_count": 51,
     "metadata": {
      "tags": []
     },
     "output_type": "execute_result"
    }
   ],
   "source": [
    "x_test , y_test"
   ]
  },
  {
   "cell_type": "code",
   "execution_count": 54,
   "metadata": {
    "colab": {
     "base_uri": "https://localhost:8080/"
    },
    "id": "5LLBvQvo7pHN",
    "outputId": "117e26ee-3d91-4439-8247-b47542044d1d"
   },
   "outputs": [
    {
     "name": "stdout",
     "output_type": "stream",
     "text": [
      "Index(['vidid', 'adview', 'views', 'likes', 'dislikes', 'comment', 'published',\n",
      "       'duration', 'category'],\n",
      "      dtype='object')\n"
     ]
    }
   ],
   "source": [
    "print(train.columns)"
   ]
  },
  {
   "cell_type": "code",
   "execution_count": 56,
   "metadata": {
    "id": "oclsBoBf7pHN"
   },
   "outputs": [],
   "source": [
    "EDA_train = pd.read_csv('train.csv')"
   ]
  },
  {
   "cell_type": "code",
   "execution_count": 57,
   "metadata": {
    "colab": {
     "base_uri": "https://localhost:8080/"
    },
    "id": "NpR0V4UQ7pHN",
    "outputId": "802df8f7-8610-40a7-c7c8-10f66f5737f0"
   },
   "outputs": [
    {
     "data": {
      "text/plain": [
       "1         6397\n",
       "2         2232\n",
       "3         1106\n",
       "4          769\n",
       "5          509\n",
       "          ... \n",
       "200815       1\n",
       "28683        1\n",
       "26600        1\n",
       "2020         1\n",
       "20330        1\n",
       "Name: adview, Length: 999, dtype: int64"
      ]
     },
     "execution_count": 57,
     "metadata": {
      "tags": []
     },
     "output_type": "execute_result"
    }
   ],
   "source": [
    "EDA_train['adview'].value_counts()"
   ]
  },
  {
   "cell_type": "code",
   "execution_count": 58,
   "metadata": {
    "colab": {
     "base_uri": "https://localhost:8080/",
     "height": 279
    },
    "id": "6yw-lBXj7pHN",
    "outputId": "43209f2e-b0d5-4b98-842a-2e9343fe0949"
   },
   "outputs": [
    {
     "data": {
      "image/png": "[encoded data removed]",
      "text/plain": [
       "<Figure size 432x288 with 1 Axes>"
      ]
     },
     "metadata": {
      "needs_background": "light",
      "tags": []
     },
     "output_type": "display_data"
    }
   ],
   "source": [
    "EDA_train.plot(kind=\"scatter\",x=\"adview\",y=\"likes\")\n",
    "plt.show()"
   ]
  },
  {
   "cell_type": "markdown",
   "metadata": {
    "id": "flwhrATW7pHN"
   },
   "source": [
    "# 6. Using Linear regression, Support vector Regressor for training and get errors"
   ]
  },
  {
   "cell_type": "code",
   "execution_count": 59,
   "metadata": {
    "id": "cfTUtNIY7pHN"
   },
   "outputs": [],
   "source": [
    "#Evaluation metrics\n",
    "from sklearn import  metrics\n",
    "\n",
    "def print_error(x_test, y_test, model_name):\n",
    "    prediction = model_name.predict(x_test)\n",
    "    \n",
    "    print('Mean Absolute Error:', metrics.mean_absolute_error(y_test, prediction))\n",
    "    print('Mean Squared Error:', metrics.mean_squared_error(y_test, prediction))\n",
    "    print('Root Mean Squared Error:', np.sqrt(metrics.mean_squared_error(y_test, prediction)))"
   ]
  },
  {
   "cell_type": "code",
   "execution_count": 60,
   "metadata": {
    "colab": {
     "base_uri": "https://localhost:8080/"
    },
    "id": "8HaVxyiv7pHN",
    "outputId": "8557b527-4269-4444-9082-433be0359a33"
   },
   "outputs": [
    {
     "name": "stdout",
     "output_type": "stream",
     "text": [
      "Mean Absolute Error: 5288.059212091739\n",
      "Mean Squared Error: 10881114821.641329\n",
      "Root Mean Squared Error: 104312.58227865577\n"
     ]
    }
   ],
   "source": [
    "#Linear Regression\n",
    "\n",
    "from sklearn import linear_model\n",
    "linear_regression = linear_model.LinearRegression()\n",
    "linear_regression.fit(x_train, y_train)\n",
    "print_error(x_test, y_test, linear_regression)"
   ]
  },
  {
   "cell_type": "code",
   "execution_count": 61,
   "metadata": {
    "colab": {
     "base_uri": "https://localhost:8080/",
     "height": 297
    },
    "id": "TnPjtQuc7pHN",
    "outputId": "3f146c1f-e22a-49d1-9012-3cf4773bfeb5"
   },
   "outputs": [
    {
     "data": {
      "text/html": [
       "<div>\n",
       "<style scoped>\n",
       "    .dataframe tbody tr th:only-of-type {\n",
       "        vertical-align: middle;\n",
       "    }\n",
       "\n",
       "    .dataframe tbody tr th {\n",
       "        vertical-align: top;\n",
       "    }\n",
       "\n",
       "    .dataframe thead th {\n",
       "        text-align: right;\n",
       "    }\n",
       "</style>\n",
       "<table border=\"1\" class=\"dataframe\">\n",
       "  <thead>\n",
       "    <tr style=\"text-align: right;\">\n",
       "      <th></th>\n",
       "      <th>views</th>\n",
       "      <th>likes</th>\n",
       "      <th>dislikes</th>\n",
       "      <th>comment</th>\n",
       "      <th>published</th>\n",
       "      <th>duration</th>\n",
       "      <th>category</th>\n",
       "    </tr>\n",
       "  </thead>\n",
       "  <tbody>\n",
       "    <tr>\n",
       "      <th>count</th>\n",
       "      <td>1.463700e+04</td>\n",
       "      <td>14637.000000</td>\n",
       "      <td>14637.000000</td>\n",
       "      <td>14637.000000</td>\n",
       "      <td>14637.000000</td>\n",
       "      <td>14637.000000</td>\n",
       "      <td>14637.000000</td>\n",
       "    </tr>\n",
       "    <tr>\n",
       "      <th>mean</th>\n",
       "      <td>7.112280e+05</td>\n",
       "      <td>2785.841293</td>\n",
       "      <td>254.429391</td>\n",
       "      <td>409.135547</td>\n",
       "      <td>1547.372754</td>\n",
       "      <td>1040.179067</td>\n",
       "      <td>4.607228</td>\n",
       "    </tr>\n",
       "    <tr>\n",
       "      <th>std</th>\n",
       "      <td>2.731475e+06</td>\n",
       "      <td>8938.490736</td>\n",
       "      <td>1029.774864</td>\n",
       "      <td>1511.176934</td>\n",
       "      <td>582.911556</td>\n",
       "      <td>2316.818747</td>\n",
       "      <td>1.576312</td>\n",
       "    </tr>\n",
       "    <tr>\n",
       "      <th>min</th>\n",
       "      <td>4.900000e+01</td>\n",
       "      <td>0.000000</td>\n",
       "      <td>0.000000</td>\n",
       "      <td>0.000000</td>\n",
       "      <td>0.000000</td>\n",
       "      <td>0.000000</td>\n",
       "      <td>1.000000</td>\n",
       "    </tr>\n",
       "    <tr>\n",
       "      <th>25%</th>\n",
       "      <td>3.151700e+04</td>\n",
       "      <td>88.000000</td>\n",
       "      <td>7.000000</td>\n",
       "      <td>7.000000</td>\n",
       "      <td>1135.000000</td>\n",
       "      <td>187.000000</td>\n",
       "      <td>4.000000</td>\n",
       "    </tr>\n",
       "    <tr>\n",
       "      <th>50%</th>\n",
       "      <td>1.586680e+05</td>\n",
       "      <td>450.000000</td>\n",
       "      <td>38.000000</td>\n",
       "      <td>46.000000</td>\n",
       "      <td>1700.000000</td>\n",
       "      <td>325.000000</td>\n",
       "      <td>4.000000</td>\n",
       "    </tr>\n",
       "    <tr>\n",
       "      <th>75%</th>\n",
       "      <td>5.836130e+05</td>\n",
       "      <td>1863.000000</td>\n",
       "      <td>167.000000</td>\n",
       "      <td>224.000000</td>\n",
       "      <td>2064.000000</td>\n",
       "      <td>723.000000</td>\n",
       "      <td>6.000000</td>\n",
       "    </tr>\n",
       "    <tr>\n",
       "      <th>max</th>\n",
       "      <td>1.380479e+08</td>\n",
       "      <td>283824.000000</td>\n",
       "      <td>49449.000000</td>\n",
       "      <td>75045.000000</td>\n",
       "      <td>2383.000000</td>\n",
       "      <td>42317.000000</td>\n",
       "      <td>8.000000</td>\n",
       "    </tr>\n",
       "  </tbody>\n",
       "</table>\n",
       "</div>"
      ],
      "text/plain": [
       "              views          likes  ...      duration      category\n",
       "count  1.463700e+04   14637.000000  ...  14637.000000  14637.000000\n",
       "mean   7.112280e+05    2785.841293  ...   1040.179067      4.607228\n",
       "std    2.731475e+06    8938.490736  ...   2316.818747      1.576312\n",
       "min    4.900000e+01       0.000000  ...      0.000000      1.000000\n",
       "25%    3.151700e+04      88.000000  ...    187.000000      4.000000\n",
       "50%    1.586680e+05     450.000000  ...    325.000000      4.000000\n",
       "75%    5.836130e+05    1863.000000  ...    723.000000      6.000000\n",
       "max    1.380479e+08  283824.000000  ...  42317.000000      8.000000\n",
       "\n",
       "[8 rows x 7 columns]"
      ]
     },
     "execution_count": 61,
     "metadata": {
      "tags": []
     },
     "output_type": "execute_result"
    }
   ],
   "source": [
    "data_train.describe()"
   ]
  },
  {
   "cell_type": "code",
   "execution_count": 62,
   "metadata": {
    "colab": {
     "base_uri": "https://localhost:8080/"
    },
    "id": "KbKjz11A7pHN",
    "outputId": "80a93bf1-caf2-40c8-9b0a-9d5488b25cc9"
   },
   "outputs": [
    {
     "data": {
      "text/plain": [
       "views        False\n",
       "likes        False\n",
       "dislikes     False\n",
       "comment      False\n",
       "published    False\n",
       "duration     False\n",
       "category     False\n",
       "dtype: bool"
      ]
     },
     "execution_count": 62,
     "metadata": {
      "tags": []
     },
     "output_type": "execute_result"
    }
   ],
   "source": [
    "data_train.isnull().any()"
   ]
  },
  {
   "cell_type": "code",
   "execution_count": 63,
   "metadata": {
    "colab": {
     "base_uri": "https://localhost:8080/"
    },
    "id": "O8RcwHMT7pHN",
    "outputId": "5306403d-97e6-4ceb-95b4-7c0f6b73f43e"
   },
   "outputs": [
    {
     "name": "stdout",
     "output_type": "stream",
     "text": [
      "Mean Absolute Error: 5288.059212091739\n",
      "Mean Squared Error: 10881114821.641329\n",
      "Root Mean Squared Error: 104312.58227865577\n"
     ]
    }
   ],
   "source": [
    "linear_regression = linear_model.LinearRegression()\n",
    "linear_regression.fit(x_train, y_train)\n",
    "print_error(x_test, y_test, linear_regression)"
   ]
  },
  {
   "cell_type": "code",
   "execution_count": 64,
   "metadata": {
    "colab": {
     "base_uri": "https://localhost:8080/"
    },
    "id": "pgW1u8ED7pHN",
    "outputId": "e4fa98e7-416d-4966-d3eb-738e037af091"
   },
   "outputs": [
    {
     "name": "stderr",
     "output_type": "stream",
     "text": [
      "/usr/local/lib/python3.6/dist-packages/sklearn/utils/validation.py:760: DataConversionWarning: A column-vector y was passed when a 1d array was expected. Please change the shape of y to (n_samples, ), for example using ravel().\n",
      "  y = column_or_1d(y, warn=True)\n"
     ]
    },
    {
     "name": "stdout",
     "output_type": "stream",
     "text": [
      "Mean Absolute Error: 3478.040658670919\n",
      "Mean Squared Error: 10901271708.174868\n",
      "Root Mean Squared Error: 104409.15528905914\n"
     ]
    }
   ],
   "source": [
    "#Support vector Regressioin\n",
    "from sklearn.svm import SVR\n",
    "supportvector_regressor = SVR()\n",
    "supportvector_regressor.fit(x_train, y_train)\n",
    "print_error(x_test , y_test , supportvector_regressor)"
   ]
  },
  {
   "cell_type": "markdown",
   "metadata": {
    "id": "TagzUfSs7pHN"
   },
   "source": [
    "# 7.Using Decision Tree Regressor and Random Forest Regressors."
   ]
  },
  {
   "cell_type": "code",
   "execution_count": 65,
   "metadata": {
    "colab": {
     "base_uri": "https://localhost:8080/"
    },
    "id": "mUU0Wbu57pHN",
    "outputId": "b12fdca8-2ce7-4e91-cc05-8565533881b1"
   },
   "outputs": [
    {
     "name": "stdout",
     "output_type": "stream",
     "text": [
      "Mean Absolute Error: 5033.193647540984\n",
      "Mean Squared Error: 11882114421.429987\n",
      "Root Mean Squared Error: 109005.11190503859\n"
     ]
    }
   ],
   "source": [
    "#Decision Tree Regressor\n",
    "\n",
    "from sklearn.tree import DecisionTreeRegressor\n",
    "decision_tree = DecisionTreeRegressor()\n",
    "decision_tree.fit(x_train ,y_train)\n",
    "print_error(x_test , y_test , decision_tree)"
   ]
  },
  {
   "cell_type": "code",
   "execution_count": 66,
   "metadata": {
    "colab": {
     "base_uri": "https://localhost:8080/"
    },
    "id": "k2rWk3Sj7pHN",
    "outputId": "577815ce-0d26-4e12-ebcf-5f1de00747d8"
   },
   "outputs": [
    {
     "name": "stderr",
     "output_type": "stream",
     "text": [
      "/usr/local/lib/python3.6/dist-packages/ipykernel_launcher.py:9: DataConversionWarning: A column-vector y was passed when a 1d array was expected. Please change the shape of y to (n_samples,), for example using ravel().\n",
      "  if __name__ == '__main__':\n"
     ]
    },
    {
     "name": "stdout",
     "output_type": "stream",
     "text": [
      "Mean Absolute Error: 5264.760481677197\n",
      "Mean Squared Error: 10439626604.932007\n",
      "Root Mean Squared Error: 102174.49096977194\n"
     ]
    }
   ],
   "source": [
    "#Random Forest Regressor\n",
    "\n",
    "from sklearn.ensemble import RandomForestRegressor\n",
    "n_estimators = 200\n",
    "max_depth = 25\n",
    "min_samples_split = 15\n",
    "min_samples_leaf = 2\n",
    "random_forest = RandomForestRegressor(n_estimators = n_estimators , max_depth = max_depth, min_samples_split =  min_samples_split  , min_samples_leaf = min_samples_leaf )\n",
    "random_forest.fit(x_train,y_train)\n",
    "print_error(x_test , y_test , random_forest)"
   ]
  },
  {
   "cell_type": "markdown",
   "metadata": {
    "id": "Z_UUefUk7pHN"
   },
   "source": [
    "# 8.Building An Artificial Neural Network & Training it With Different Layers & Hyperparameteres using Keras"
   ]
  },
  {
   "cell_type": "code",
   "execution_count": 67,
   "metadata": {
    "colab": {
     "base_uri": "https://localhost:8080/"
    },
    "id": "pSED5-8w7pHN",
    "outputId": "a4d36d93-2b9f-4ce7-a303-65f228a5f55f"
   },
   "outputs": [
    {
     "name": "stdout",
     "output_type": "stream",
     "text": [
      "Epoch 1/100\n",
      "366/366 [==============================] - 0s 868us/step - loss: 767619264.0000 - mean_squared_error: 767619264.0000\n",
      "Epoch 2/100\n",
      "366/366 [==============================] - 0s 893us/step - loss: 767613056.0000 - mean_squared_error: 767613056.0000\n",
      "Epoch 3/100\n",
      "366/366 [==============================] - 0s 902us/step - loss: 767601216.0000 - mean_squared_error: 767601216.0000\n",
      "Epoch 4/100\n",
      "366/366 [==============================] - 0s 864us/step - loss: 767579648.0000 - mean_squared_error: 767579648.0000\n",
      "Epoch 5/100\n",
      "366/366 [==============================] - 0s 889us/step - loss: 767547840.0000 - mean_squared_error: 767547840.0000\n",
      "Epoch 6/100\n",
      "366/366 [==============================] - 0s 849us/step - loss: 767506688.0000 - mean_squared_error: 767506688.0000\n",
      "Epoch 7/100\n",
      "366/366 [==============================] - 0s 863us/step - loss: 767451072.0000 - mean_squared_error: 767451072.0000\n",
      "Epoch 8/100\n",
      "366/366 [==============================] - 0s 883us/step - loss: 767382976.0000 - mean_squared_error: 767382976.0000\n",
      "Epoch 9/100\n",
      "366/366 [==============================] - 0s 853us/step - loss: 767305088.0000 - mean_squared_error: 767305088.0000\n",
      "Epoch 10/100\n",
      "366/366 [==============================] - 0s 908us/step - loss: 767218432.0000 - mean_squared_error: 767218432.0000\n",
      "Epoch 11/100\n",
      "366/366 [==============================] - 0s 879us/step - loss: 767119872.0000 - mean_squared_error: 767119872.0000\n",
      "Epoch 12/100\n",
      "366/366 [==============================] - 0s 893us/step - loss: 767012160.0000 - mean_squared_error: 767012160.0000\n",
      "Epoch 13/100\n",
      "366/366 [==============================] - 0s 961us/step - loss: 766898688.0000 - mean_squared_error: 766898688.0000\n",
      "Epoch 14/100\n",
      "366/366 [==============================] - 0s 883us/step - loss: 766783616.0000 - mean_squared_error: 766783616.0000\n",
      "Epoch 15/100\n",
      "366/366 [==============================] - 0s 883us/step - loss: 766661056.0000 - mean_squared_error: 766661056.0000\n",
      "Epoch 16/100\n",
      "366/366 [==============================] - 0s 877us/step - loss: 766530176.0000 - mean_squared_error: 766530176.0000\n",
      "Epoch 17/100\n",
      "366/366 [==============================] - 0s 849us/step - loss: 766400128.0000 - mean_squared_error: 766400128.0000\n",
      "Epoch 18/100\n",
      "366/366 [==============================] - 0s 889us/step - loss: 766266752.0000 - mean_squared_error: 766266752.0000\n",
      "Epoch 19/100\n",
      "366/366 [==============================] - 0s 872us/step - loss: 766133824.0000 - mean_squared_error: 766133824.0000\n",
      "Epoch 20/100\n",
      "366/366 [==============================] - 0s 861us/step - loss: 766002816.0000 - mean_squared_error: 766002816.0000\n",
      "Epoch 21/100\n",
      "366/366 [==============================] - 0s 895us/step - loss: 765873792.0000 - mean_squared_error: 765873792.0000\n",
      "Epoch 22/100\n",
      "366/366 [==============================] - 0s 875us/step - loss: 765748864.0000 - mean_squared_error: 765748864.0000\n",
      "Epoch 23/100\n",
      "366/366 [==============================] - 0s 867us/step - loss: 765625792.0000 - mean_squared_error: 765625792.0000\n",
      "Epoch 24/100\n",
      "366/366 [==============================] - 0s 875us/step - loss: 765507776.0000 - mean_squared_error: 765507776.0000\n",
      "Epoch 25/100\n",
      "366/366 [==============================] - 0s 947us/step - loss: 765395904.0000 - mean_squared_error: 765395904.0000\n",
      "Epoch 26/100\n",
      "366/366 [==============================] - 0s 953us/step - loss: 765289984.0000 - mean_squared_error: 765289984.0000\n",
      "Epoch 27/100\n",
      "366/366 [==============================] - 0s 997us/step - loss: 765187520.0000 - mean_squared_error: 765187520.0000\n",
      "Epoch 28/100\n",
      "366/366 [==============================] - 0s 884us/step - loss: 765097728.0000 - mean_squared_error: 765097728.0000\n",
      "Epoch 29/100\n",
      "366/366 [==============================] - 0s 890us/step - loss: 765013056.0000 - mean_squared_error: 765013056.0000\n",
      "Epoch 30/100\n",
      "366/366 [==============================] - 0s 879us/step - loss: 764935680.0000 - mean_squared_error: 764935680.0000\n",
      "Epoch 31/100\n",
      "366/366 [==============================] - 0s 964us/step - loss: 764862784.0000 - mean_squared_error: 764862784.0000\n",
      "Epoch 32/100\n",
      "366/366 [==============================] - 0s 943us/step - loss: 764792128.0000 - mean_squared_error: 764792128.0000\n",
      "Epoch 33/100\n",
      "366/366 [==============================] - 0s 983us/step - loss: 764728832.0000 - mean_squared_error: 764728832.0000\n",
      "Epoch 34/100\n",
      "366/366 [==============================] - 0s 869us/step - loss: 764666240.0000 - mean_squared_error: 764666240.0000\n",
      "Epoch 35/100\n",
      "366/366 [==============================] - 0s 853us/step - loss: 764608576.0000 - mean_squared_error: 764608576.0000\n",
      "Epoch 36/100\n",
      "366/366 [==============================] - 0s 879us/step - loss: 764556544.0000 - mean_squared_error: 764556544.0000\n",
      "Epoch 37/100\n",
      "366/366 [==============================] - 0s 890us/step - loss: 764510144.0000 - mean_squared_error: 764510144.0000\n",
      "Epoch 38/100\n",
      "366/366 [==============================] - 0s 894us/step - loss: 764466368.0000 - mean_squared_error: 764466368.0000\n",
      "Epoch 39/100\n",
      "366/366 [==============================] - 0s 991us/step - loss: 764426048.0000 - mean_squared_error: 764426048.0000\n",
      "Epoch 40/100\n",
      "366/366 [==============================] - 0s 871us/step - loss: 764389184.0000 - mean_squared_error: 764389184.0000\n",
      "Epoch 41/100\n",
      "366/366 [==============================] - 0s 873us/step - loss: 764355136.0000 - mean_squared_error: 764355136.0000\n",
      "Epoch 42/100\n",
      "366/366 [==============================] - 0s 900us/step - loss: 764326400.0000 - mean_squared_error: 764326400.0000\n",
      "Epoch 43/100\n",
      "366/366 [==============================] - 0s 903us/step - loss: 764296192.0000 - mean_squared_error: 764296192.0000\n",
      "Epoch 44/100\n",
      "366/366 [==============================] - 0s 878us/step - loss: 764272320.0000 - mean_squared_error: 764272320.0000\n",
      "Epoch 45/100\n",
      "366/366 [==============================] - 0s 952us/step - loss: 764247552.0000 - mean_squared_error: 764247552.0000\n",
      "Epoch 46/100\n",
      "366/366 [==============================] - 0s 873us/step - loss: 764227072.0000 - mean_squared_error: 764227072.0000\n",
      "Epoch 47/100\n",
      "366/366 [==============================] - 0s 879us/step - loss: 764208768.0000 - mean_squared_error: 764208768.0000\n",
      "Epoch 48/100\n",
      "366/366 [==============================] - 0s 881us/step - loss: 764189888.0000 - mean_squared_error: 764189888.0000\n",
      "Epoch 49/100\n",
      "366/366 [==============================] - 0s 873us/step - loss: 764172352.0000 - mean_squared_error: 764172352.0000\n",
      "Epoch 50/100\n",
      "366/366 [==============================] - 0s 924us/step - loss: 764158912.0000 - mean_squared_error: 764158912.0000\n",
      "Epoch 51/100\n",
      "366/366 [==============================] - 0s 935us/step - loss: 764142592.0000 - mean_squared_error: 764142592.0000\n",
      "Epoch 52/100\n",
      "366/366 [==============================] - 0s 893us/step - loss: 764131136.0000 - mean_squared_error: 764131136.0000\n",
      "Epoch 53/100\n",
      "366/366 [==============================] - 0s 926us/step - loss: 764117888.0000 - mean_squared_error: 764117888.0000\n",
      "Epoch 54/100\n",
      "366/366 [==============================] - 0s 1ms/step - loss: 764106176.0000 - mean_squared_error: 764106176.0000\n",
      "Epoch 55/100\n",
      "366/366 [==============================] - 0s 867us/step - loss: 764094464.0000 - mean_squared_error: 764094464.0000\n",
      "Epoch 56/100\n",
      "366/366 [==============================] - 0s 859us/step - loss: 764085312.0000 - mean_squared_error: 764085312.0000\n",
      "Epoch 57/100\n",
      "366/366 [==============================] - 0s 909us/step - loss: 764073664.0000 - mean_squared_error: 764073664.0000\n",
      "Epoch 58/100\n",
      "366/366 [==============================] - 0s 859us/step - loss: 764064192.0000 - mean_squared_error: 764064192.0000\n",
      "Epoch 59/100\n",
      "366/366 [==============================] - 0s 875us/step - loss: 764054400.0000 - mean_squared_error: 764054400.0000\n",
      "Epoch 60/100\n",
      "366/366 [==============================] - 0s 877us/step - loss: 764045248.0000 - mean_squared_error: 764045248.0000\n",
      "Epoch 61/100\n",
      "366/366 [==============================] - 0s 901us/step - loss: 764038016.0000 - mean_squared_error: 764038016.0000\n",
      "Epoch 62/100\n",
      "366/366 [==============================] - 0s 878us/step - loss: 764029248.0000 - mean_squared_error: 764029248.0000\n",
      "Epoch 63/100\n",
      "366/366 [==============================] - 0s 892us/step - loss: 764023616.0000 - mean_squared_error: 764023616.0000\n",
      "Epoch 64/100\n",
      "366/366 [==============================] - 0s 998us/step - loss: 764013056.0000 - mean_squared_error: 764013056.0000\n",
      "Epoch 65/100\n",
      "366/366 [==============================] - 0s 871us/step - loss: 764007552.0000 - mean_squared_error: 764007552.0000\n",
      "Epoch 66/100\n",
      "366/366 [==============================] - 0s 956us/step - loss: 764000064.0000 - mean_squared_error: 764000064.0000\n",
      "Epoch 67/100\n",
      "366/366 [==============================] - 0s 902us/step - loss: 763992640.0000 - mean_squared_error: 763992640.0000\n",
      "Epoch 68/100\n",
      "366/366 [==============================] - 0s 891us/step - loss: 763987264.0000 - mean_squared_error: 763987264.0000\n",
      "Epoch 69/100\n",
      "366/366 [==============================] - 0s 898us/step - loss: 763980544.0000 - mean_squared_error: 763980544.0000\n",
      "Epoch 70/100\n",
      "366/366 [==============================] - 0s 872us/step - loss: 763972480.0000 - mean_squared_error: 763972480.0000\n",
      "Epoch 71/100\n",
      "366/366 [==============================] - 0s 915us/step - loss: 763965056.0000 - mean_squared_error: 763965056.0000\n",
      "Epoch 72/100\n",
      "366/366 [==============================] - 0s 955us/step - loss: 763959872.0000 - mean_squared_error: 763959872.0000\n",
      "Epoch 73/100\n",
      "366/366 [==============================] - 0s 899us/step - loss: 763953408.0000 - mean_squared_error: 763953408.0000\n",
      "Epoch 74/100\n",
      "366/366 [==============================] - 0s 882us/step - loss: 763949824.0000 - mean_squared_error: 763949824.0000\n",
      "Epoch 75/100\n",
      "366/366 [==============================] - 0s 907us/step - loss: 763940736.0000 - mean_squared_error: 763940736.0000\n",
      "Epoch 76/100\n",
      "366/366 [==============================] - 0s 905us/step - loss: 763935104.0000 - mean_squared_error: 763935104.0000\n",
      "Epoch 77/100\n",
      "366/366 [==============================] - 0s 898us/step - loss: 763926592.0000 - mean_squared_error: 763926592.0000\n",
      "Epoch 78/100\n",
      "366/366 [==============================] - 0s 1ms/step - loss: 763921984.0000 - mean_squared_error: 763921984.0000\n",
      "Epoch 79/100\n",
      "366/366 [==============================] - 0s 938us/step - loss: 763915136.0000 - mean_squared_error: 763915136.0000\n",
      "Epoch 80/100\n",
      "366/366 [==============================] - 0s 873us/step - loss: 763909312.0000 - mean_squared_error: 763909312.0000\n",
      "Epoch 81/100\n",
      "366/366 [==============================] - 0s 926us/step - loss: 763903360.0000 - mean_squared_error: 763903360.0000\n",
      "Epoch 82/100\n",
      "366/366 [==============================] - 0s 854us/step - loss: 763897856.0000 - mean_squared_error: 763897856.0000\n",
      "Epoch 83/100\n",
      "366/366 [==============================] - 0s 901us/step - loss: 763892608.0000 - mean_squared_error: 763892608.0000\n",
      "Epoch 84/100\n",
      "366/366 [==============================] - 0s 906us/step - loss: 763885888.0000 - mean_squared_error: 763885888.0000\n",
      "Epoch 85/100\n",
      "366/366 [==============================] - 0s 900us/step - loss: 763877824.0000 - mean_squared_error: 763877824.0000\n",
      "Epoch 86/100\n",
      "366/366 [==============================] - 0s 901us/step - loss: 763874112.0000 - mean_squared_error: 763874112.0000\n",
      "Epoch 87/100\n",
      "366/366 [==============================] - 0s 942us/step - loss: 763866496.0000 - mean_squared_error: 763866496.0000\n",
      "Epoch 88/100\n",
      "366/366 [==============================] - 0s 911us/step - loss: 763862848.0000 - mean_squared_error: 763862848.0000\n",
      "Epoch 89/100\n",
      "366/366 [==============================] - 0s 873us/step - loss: 763856704.0000 - mean_squared_error: 763856704.0000\n",
      "Epoch 90/100\n",
      "366/366 [==============================] - 0s 939us/step - loss: 763848768.0000 - mean_squared_error: 763848768.0000\n",
      "Epoch 91/100\n",
      "366/366 [==============================] - 0s 879us/step - loss: 763842432.0000 - mean_squared_error: 763842432.0000\n",
      "Epoch 92/100\n",
      "366/366 [==============================] - 0s 914us/step - loss: 763837696.0000 - mean_squared_error: 763837696.0000\n",
      "Epoch 93/100\n",
      "366/366 [==============================] - 0s 918us/step - loss: 763833472.0000 - mean_squared_error: 763833472.0000\n",
      "Epoch 94/100\n",
      "366/366 [==============================] - 0s 869us/step - loss: 763827328.0000 - mean_squared_error: 763827328.0000\n",
      "Epoch 95/100\n",
      "366/366 [==============================] - 0s 1ms/step - loss: 763820160.0000 - mean_squared_error: 763820160.0000\n",
      "Epoch 96/100\n",
      "366/366 [==============================] - 0s 917us/step - loss: 763814784.0000 - mean_squared_error: 763814784.0000\n",
      "Epoch 97/100\n",
      "366/366 [==============================] - 0s 874us/step - loss: 763808960.0000 - mean_squared_error: 763808960.0000\n",
      "Epoch 98/100\n",
      "366/366 [==============================] - 0s 888us/step - loss: 763802240.0000 - mean_squared_error: 763802240.0000\n",
      "Epoch 99/100\n",
      "366/366 [==============================] - 0s 905us/step - loss: 763796480.0000 - mean_squared_error: 763796480.0000\n",
      "Epoch 100/100\n",
      "366/366 [==============================] - 0s 924us/step - loss: 763791360.0000 - mean_squared_error: 763791360.0000\n"
     ]
    }
   ],
   "source": [
    "#Artiificial Neural Network\n",
    "\n",
    "import keras\n",
    "from keras.layers import Dense\n",
    "\n",
    "ann = keras.models.Sequential([\n",
    "                              Dense(6,activation = \"relu\", \n",
    "                              input_shape = x_train.shape[1:]),\n",
    "                              Dense(6, activation = \"relu\"), \n",
    "                              Dense(1)\n",
    "                             ])\n",
    "\n",
    "optimizer = keras.optimizers.Adam()\n",
    "loss = keras.losses.mean_squared_error\n",
    "ann.compile(optimizer = optimizer , loss = loss , metrics = [\"mean_squared_error\"])\n",
    "\n",
    "history = ann.fit(x_train , y_train , epochs = 100)\n"
   ]
  },
  {
   "cell_type": "code",
   "execution_count": 68,
   "metadata": {
    "colab": {
     "base_uri": "https://localhost:8080/"
    },
    "id": "tvF-jqRb7pHO",
    "outputId": "b217512d-781c-4e04-a7b5-816deab9823a"
   },
   "outputs": [
    {
     "name": "stdout",
     "output_type": "stream",
     "text": [
      "Model: \"sequential\"\n",
      "_________________________________________________________________\n",
      "Layer (type)                 Output Shape              Param #   \n",
      "=================================================================\n",
      "dense (Dense)                (None, 6)                 48        \n",
      "_________________________________________________________________\n",
      "dense_1 (Dense)              (None, 6)                 42        \n",
      "_________________________________________________________________\n",
      "dense_2 (Dense)              (None, 1)                 7         \n",
      "=================================================================\n",
      "Total params: 97\n",
      "Trainable params: 97\n",
      "Non-trainable params: 0\n",
      "_________________________________________________________________\n"
     ]
    }
   ],
   "source": [
    "ann.summary()"
   ]
  },
  {
   "cell_type": "code",
   "execution_count": 69,
   "metadata": {
    "colab": {
     "base_uri": "https://localhost:8080/"
    },
    "id": "H4QDRe3F7pHO",
    "outputId": "1cbbc5da-f4eb-4075-a2f6-3dbf978c0982"
   },
   "outputs": [
    {
     "name": "stdout",
     "output_type": "stream",
     "text": [
      "Mean Absolute Error: 5112.546603570219\n",
      "Mean Squared Error: 10887957346.349659\n",
      "Root Mean Squared Error: 104345.3752992899\n"
     ]
    }
   ],
   "source": [
    "print_error(x_test , y_test , ann)"
   ]
  },
  {
   "cell_type": "markdown",
   "metadata": {
    "id": "WXjq-JlG7pHO"
   },
   "source": [
    "# 9.Picking the best Model based on error as well as generalisation."
   ]
  },
  {
   "cell_type": "code",
   "execution_count": 70,
   "metadata": {
    "colab": {
     "base_uri": "https://localhost:8080/"
    },
    "id": "74mxtoI-7pHO",
    "outputId": "f4f7a794-7d21-4db5-aaf3-e93127ade77a"
   },
   "outputs": [
    {
     "name": "stdout",
     "output_type": "stream",
     "text": [
      "Mean Absolute Error: 5288.059212091739\n",
      "Mean Squared Error: 10881114821.641329\n",
      "Root Mean Squared Error: 104312.58227865577\n"
     ]
    }
   ],
   "source": [
    "# 1. Lineae Regression\n",
    "print_error(x_test, y_test, linear_regression)"
   ]
  },
  {
   "cell_type": "code",
   "execution_count": 71,
   "metadata": {
    "colab": {
     "base_uri": "https://localhost:8080/"
    },
    "id": "z4kaOnFW7pHO",
    "outputId": "dcab29c2-00fd-4df7-f48d-b0897365e1b6"
   },
   "outputs": [
    {
     "name": "stdout",
     "output_type": "stream",
     "text": [
      "Mean Absolute Error: 3478.040658670919\n",
      "Mean Squared Error: 10901271708.174868\n",
      "Root Mean Squared Error: 104409.15528905914\n"
     ]
    }
   ],
   "source": [
    "# 2. Support Vector Regressor\n",
    "print_error(x_test , y_test , supportvector_regressor)"
   ]
  },
  {
   "cell_type": "code",
   "execution_count": 72,
   "metadata": {
    "colab": {
     "base_uri": "https://localhost:8080/"
    },
    "id": "nzDNM1F27pHO",
    "outputId": "8b688ed7-392e-408f-98c7-52810bdc6c72"
   },
   "outputs": [
    {
     "name": "stdout",
     "output_type": "stream",
     "text": [
      "Mean Absolute Error: 5033.193647540984\n",
      "Mean Squared Error: 11882114421.429987\n",
      "Root Mean Squared Error: 109005.11190503859\n"
     ]
    }
   ],
   "source": [
    "# 3. Decision Tree Regressor\n",
    "print_error(x_test , y_test , decision_tree)"
   ]
  },
  {
   "cell_type": "code",
   "execution_count": 73,
   "metadata": {
    "colab": {
     "base_uri": "https://localhost:8080/"
    },
    "id": "GhzV6vHY7pHO",
    "outputId": "16a5e7c6-3ad5-40a6-ea73-3eb505e21d43"
   },
   "outputs": [
    {
     "name": "stdout",
     "output_type": "stream",
     "text": [
      "Mean Absolute Error: 5264.760481677197\n",
      "Mean Squared Error: 10439626604.932007\n",
      "Root Mean Squared Error: 102174.49096977194\n"
     ]
    }
   ],
   "source": [
    "# 4. Random Forest Regressor\n",
    "print_error(x_test , y_test , random_forest)"
   ]
  },
  {
   "cell_type": "markdown",
   "metadata": {
    "id": "S4N3F7ea7pHO"
   },
   "source": [
    "# 10.Saving the model and predicting on test set."
   ]
  },
  {
   "cell_type": "code",
   "execution_count": 100,
   "metadata": {
    "colab": {
     "base_uri": "https://localhost:8080/"
    },
    "id": "UOgFujNx7pHO",
    "outputId": "332299ef-5131-458f-d377-f99a2b770c63"
   },
   "outputs": [
    {
     "data": {
      "text/plain": [
       "['decisiontree_youtubeadview.pkl']"
      ]
     },
     "execution_count": 100,
     "metadata": {
      "tags": []
     },
     "output_type": "execute_result"
    }
   ],
   "source": [
    "#Saving Scikitlearn models\n",
    "import joblib\n",
    "joblib.dump(decision_tree , \"decisiontree_youtubeadview.pkl\")\n"
   ]
  },
  {
   "cell_type": "code",
   "execution_count": 102,
   "metadata": {
    "id": "nU203uue7pHO"
   },
   "outputs": [],
   "source": [
    "#Saving keras Artificial Neural Network Model\n",
    "ann.save(\"ann_youtubeadview.h5\")"
   ]
  },
  {
   "cell_type": "markdown",
   "metadata": {
    "id": "GhEp2CI37pHO"
   },
   "source": [
    "# Testing"
   ]
  },
  {
   "cell_type": "code",
   "execution_count": 103,
   "metadata": {
    "colab": {
     "base_uri": "https://localhost:8080/",
     "height": 72,
     "resources": {
      "http://localhost:8080/nbextensions/google.colab/files.js": {
       "data": "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",
       "headers": [
        [
         "content-type",
         "application/javascript"
        ]
       ],
       "ok": true,
       "status": 200,
       "status_text": ""
      }
     }
    },
    "id": "ghz56Za3Gr0f",
    "outputId": "fd07599d-0c5d-4bed-cfff-d38e027c5665"
   },
   "outputs": [
    {
     "data": {
      "text/html": [
       "\n",
       "     <input type=\"file\" id=\"files-7e4c2c4c-56b5-4e5b-81b5-6049168b8761\" name=\"files[]\" multiple disabled\n",
       "        style=\"border:none\" />\n",
       "     <output id=\"result-7e4c2c4c-56b5-4e5b-81b5-6049168b8761\">\n",
       "      Upload widget is only available when the cell has been executed in the\n",
       "      current browser session. Please rerun this cell to enable.\n",
       "      </output>\n",
       "      <script src=\"/nbextensions/google.colab/files.js\"></script> "
      ],
      "text/plain": [
       "<IPython.core.display.HTML object>"
      ]
     },
     "metadata": {
      "tags": []
     },
     "output_type": "display_data"
    },
    {
     "name": "stdout",
     "output_type": "stream",
     "text": [
      "Saving test.csv to test.csv\n"
     ]
    }
   ],
   "source": [
    "from google.colab import files\n",
    "uploaded = files.upload()"
   ]
  },
  {
   "cell_type": "code",
   "execution_count": 104,
   "metadata": {
    "colab": {
     "base_uri": "https://localhost:8080/",
     "height": 419
    },
    "id": "QKjbCItk7pHO",
    "outputId": "cf05b425-9a0f-4cc1-f298-717fef9fa43c"
   },
   "outputs": [
    {
     "data": {
      "text/html": [
       "<div>\n",
       "<style scoped>\n",
       "    .dataframe tbody tr th:only-of-type {\n",
       "        vertical-align: middle;\n",
       "    }\n",
       "\n",
       "    .dataframe tbody tr th {\n",
       "        vertical-align: top;\n",
       "    }\n",
       "\n",
       "    .dataframe thead th {\n",
       "        text-align: right;\n",
       "    }\n",
       "</style>\n",
       "<table border=\"1\" class=\"dataframe\">\n",
       "  <thead>\n",
       "    <tr style=\"text-align: right;\">\n",
       "      <th></th>\n",
       "      <th>vidid</th>\n",
       "      <th>views</th>\n",
       "      <th>likes</th>\n",
       "      <th>dislikes</th>\n",
       "      <th>comment</th>\n",
       "      <th>published</th>\n",
       "      <th>duration</th>\n",
       "      <th>category</th>\n",
       "    </tr>\n",
       "  </thead>\n",
       "  <tbody>\n",
       "    <tr>\n",
       "      <th>0</th>\n",
       "      <td>VID_1054</td>\n",
       "      <td>440238</td>\n",
       "      <td>6153</td>\n",
       "      <td>218</td>\n",
       "      <td>1377</td>\n",
       "      <td>2017-02-18</td>\n",
       "      <td>PT7M29S</td>\n",
       "      <td>B</td>\n",
       "    </tr>\n",
       "    <tr>\n",
       "      <th>1</th>\n",
       "      <td>VID_18629</td>\n",
       "      <td>1040132</td>\n",
       "      <td>8171</td>\n",
       "      <td>340</td>\n",
       "      <td>1047</td>\n",
       "      <td>2016-06-28</td>\n",
       "      <td>PT6M29S</td>\n",
       "      <td>F</td>\n",
       "    </tr>\n",
       "    <tr>\n",
       "      <th>2</th>\n",
       "      <td>VID_13967</td>\n",
       "      <td>28534</td>\n",
       "      <td>31</td>\n",
       "      <td>11</td>\n",
       "      <td>1</td>\n",
       "      <td>2014-03-10</td>\n",
       "      <td>PT37M54S</td>\n",
       "      <td>D</td>\n",
       "    </tr>\n",
       "    <tr>\n",
       "      <th>3</th>\n",
       "      <td>VID_19442</td>\n",
       "      <td>1316715</td>\n",
       "      <td>2284</td>\n",
       "      <td>250</td>\n",
       "      <td>274</td>\n",
       "      <td>2010-06-05</td>\n",
       "      <td>PT9M55S</td>\n",
       "      <td>G</td>\n",
       "    </tr>\n",
       "    <tr>\n",
       "      <th>4</th>\n",
       "      <td>VID_770</td>\n",
       "      <td>1893173</td>\n",
       "      <td>2519</td>\n",
       "      <td>225</td>\n",
       "      <td>116</td>\n",
       "      <td>2016-09-03</td>\n",
       "      <td>PT3M8S</td>\n",
       "      <td>B</td>\n",
       "    </tr>\n",
       "    <tr>\n",
       "      <th>...</th>\n",
       "      <td>...</td>\n",
       "      <td>...</td>\n",
       "      <td>...</td>\n",
       "      <td>...</td>\n",
       "      <td>...</td>\n",
       "      <td>...</td>\n",
       "      <td>...</td>\n",
       "      <td>...</td>\n",
       "    </tr>\n",
       "    <tr>\n",
       "      <th>8759</th>\n",
       "      <td>VID_2944</td>\n",
       "      <td>111205</td>\n",
       "      <td>471</td>\n",
       "      <td>14</td>\n",
       "      <td>101</td>\n",
       "      <td>2011-04-19</td>\n",
       "      <td>PT3M14S</td>\n",
       "      <td>C</td>\n",
       "    </tr>\n",
       "    <tr>\n",
       "      <th>8760</th>\n",
       "      <td>VID_8195</td>\n",
       "      <td>1074457</td>\n",
       "      <td>1024</td>\n",
       "      <td>195</td>\n",
       "      <td>65</td>\n",
       "      <td>2016-06-03</td>\n",
       "      <td>PT2H18M35S</td>\n",
       "      <td>D</td>\n",
       "    </tr>\n",
       "    <tr>\n",
       "      <th>8761</th>\n",
       "      <td>VID_18973</td>\n",
       "      <td>1891692</td>\n",
       "      <td>4606</td>\n",
       "      <td>1109</td>\n",
       "      <td>191</td>\n",
       "      <td>2016-06-26</td>\n",
       "      <td>PT7M14S</td>\n",
       "      <td>F</td>\n",
       "    </tr>\n",
       "    <tr>\n",
       "      <th>8762</th>\n",
       "      <td>VID_5849</td>\n",
       "      <td>714859</td>\n",
       "      <td>1639</td>\n",
       "      <td>151</td>\n",
       "      <td>382</td>\n",
       "      <td>2016-03-23</td>\n",
       "      <td>PT3M15S</td>\n",
       "      <td>D</td>\n",
       "    </tr>\n",
       "    <tr>\n",
       "      <th>8763</th>\n",
       "      <td>VID_8494</td>\n",
       "      <td>5297</td>\n",
       "      <td>12</td>\n",
       "      <td>1</td>\n",
       "      <td>0</td>\n",
       "      <td>2016-12-19</td>\n",
       "      <td>PT10M14S</td>\n",
       "      <td>D</td>\n",
       "    </tr>\n",
       "  </tbody>\n",
       "</table>\n",
       "<p>8764 rows × 8 columns</p>\n",
       "</div>"
      ],
      "text/plain": [
       "          vidid    views likes  ...   published    duration category\n",
       "0      VID_1054   440238  6153  ...  2017-02-18     PT7M29S        B\n",
       "1     VID_18629  1040132  8171  ...  2016-06-28     PT6M29S        F\n",
       "2     VID_13967    28534    31  ...  2014-03-10    PT37M54S        D\n",
       "3     VID_19442  1316715  2284  ...  2010-06-05     PT9M55S        G\n",
       "4       VID_770  1893173  2519  ...  2016-09-03      PT3M8S        B\n",
       "...         ...      ...   ...  ...         ...         ...      ...\n",
       "8759   VID_2944   111205   471  ...  2011-04-19     PT3M14S        C\n",
       "8760   VID_8195  1074457  1024  ...  2016-06-03  PT2H18M35S        D\n",
       "8761  VID_18973  1891692  4606  ...  2016-06-26     PT7M14S        F\n",
       "8762   VID_5849   714859  1639  ...  2016-03-23     PT3M15S        D\n",
       "8763   VID_8494     5297    12  ...  2016-12-19    PT10M14S        D\n",
       "\n",
       "[8764 rows x 8 columns]"
      ]
     },
     "execution_count": 104,
     "metadata": {
      "tags": []
     },
     "output_type": "execute_result"
    }
   ],
   "source": [
    "#importing the libraries\n",
    "import numpy as np\n",
    "import pandas as pd\n",
    "import matplotlib.cm as cm\n",
    "import matplotlib.pyplot as plt\n",
    "\n",
    "#importing the datasets\n",
    "data_test = pd.read_csv(\"test.csv\")\n",
    "\n",
    "#Displaying the imported dataset\n",
    "data_test\n"
   ]
  },
  {
   "cell_type": "code",
   "execution_count": 105,
   "metadata": {
    "colab": {
     "base_uri": "https://localhost:8080/"
    },
    "id": "B0YeeBE77pHO",
    "outputId": "98f3e869-85fd-4d1a-e0cf-248ca908fdc9"
   },
   "outputs": [
    {
     "data": {
      "text/plain": [
       "<bound method NDFrame.describe of           vidid    views likes  ...   published    duration category\n",
       "0      VID_1054   440238  6153  ...  2017-02-18     PT7M29S        B\n",
       "1     VID_18629  1040132  8171  ...  2016-06-28     PT6M29S        F\n",
       "2     VID_13967    28534    31  ...  2014-03-10    PT37M54S        D\n",
       "3     VID_19442  1316715  2284  ...  2010-06-05     PT9M55S        G\n",
       "4       VID_770  1893173  2519  ...  2016-09-03      PT3M8S        B\n",
       "...         ...      ...   ...  ...         ...         ...      ...\n",
       "8759   VID_2944   111205   471  ...  2011-04-19     PT3M14S        C\n",
       "8760   VID_8195  1074457  1024  ...  2016-06-03  PT2H18M35S        D\n",
       "8761  VID_18973  1891692  4606  ...  2016-06-26     PT7M14S        F\n",
       "8762   VID_5849   714859  1639  ...  2016-03-23     PT3M15S        D\n",
       "8763   VID_8494     5297    12  ...  2016-12-19    PT10M14S        D\n",
       "\n",
       "[8764 rows x 8 columns]>"
      ]
     },
     "execution_count": 105,
     "metadata": {
      "tags": []
     },
     "output_type": "execute_result"
    }
   ],
   "source": [
    "#describing the dataset\n",
    "data_test.describe"
   ]
  },
  {
   "cell_type": "code",
   "execution_count": 106,
   "metadata": {
    "colab": {
     "base_uri": "https://localhost:8080/",
     "height": 204
    },
    "id": "jZ7rfCqr7pHO",
    "outputId": "d017e316-3996-4d66-999f-1c420196a214"
   },
   "outputs": [
    {
     "data": {
      "text/html": [
       "<div>\n",
       "<style scoped>\n",
       "    .dataframe tbody tr th:only-of-type {\n",
       "        vertical-align: middle;\n",
       "    }\n",
       "\n",
       "    .dataframe tbody tr th {\n",
       "        vertical-align: top;\n",
       "    }\n",
       "\n",
       "    .dataframe thead th {\n",
       "        text-align: right;\n",
       "    }\n",
       "</style>\n",
       "<table border=\"1\" class=\"dataframe\">\n",
       "  <thead>\n",
       "    <tr style=\"text-align: right;\">\n",
       "      <th></th>\n",
       "      <th>vidid</th>\n",
       "      <th>views</th>\n",
       "      <th>likes</th>\n",
       "      <th>dislikes</th>\n",
       "      <th>comment</th>\n",
       "      <th>published</th>\n",
       "      <th>duration</th>\n",
       "      <th>category</th>\n",
       "    </tr>\n",
       "  </thead>\n",
       "  <tbody>\n",
       "    <tr>\n",
       "      <th>0</th>\n",
       "      <td>VID_1054</td>\n",
       "      <td>440238</td>\n",
       "      <td>6153</td>\n",
       "      <td>218</td>\n",
       "      <td>1377</td>\n",
       "      <td>2017-02-18</td>\n",
       "      <td>PT7M29S</td>\n",
       "      <td>B</td>\n",
       "    </tr>\n",
       "    <tr>\n",
       "      <th>1</th>\n",
       "      <td>VID_18629</td>\n",
       "      <td>1040132</td>\n",
       "      <td>8171</td>\n",
       "      <td>340</td>\n",
       "      <td>1047</td>\n",
       "      <td>2016-06-28</td>\n",
       "      <td>PT6M29S</td>\n",
       "      <td>F</td>\n",
       "    </tr>\n",
       "    <tr>\n",
       "      <th>2</th>\n",
       "      <td>VID_13967</td>\n",
       "      <td>28534</td>\n",
       "      <td>31</td>\n",
       "      <td>11</td>\n",
       "      <td>1</td>\n",
       "      <td>2014-03-10</td>\n",
       "      <td>PT37M54S</td>\n",
       "      <td>D</td>\n",
       "    </tr>\n",
       "    <tr>\n",
       "      <th>3</th>\n",
       "      <td>VID_19442</td>\n",
       "      <td>1316715</td>\n",
       "      <td>2284</td>\n",
       "      <td>250</td>\n",
       "      <td>274</td>\n",
       "      <td>2010-06-05</td>\n",
       "      <td>PT9M55S</td>\n",
       "      <td>G</td>\n",
       "    </tr>\n",
       "    <tr>\n",
       "      <th>4</th>\n",
       "      <td>VID_770</td>\n",
       "      <td>1893173</td>\n",
       "      <td>2519</td>\n",
       "      <td>225</td>\n",
       "      <td>116</td>\n",
       "      <td>2016-09-03</td>\n",
       "      <td>PT3M8S</td>\n",
       "      <td>B</td>\n",
       "    </tr>\n",
       "  </tbody>\n",
       "</table>\n",
       "</div>"
      ],
      "text/plain": [
       "       vidid    views likes dislikes comment   published  duration category\n",
       "0   VID_1054   440238  6153      218    1377  2017-02-18   PT7M29S        B\n",
       "1  VID_18629  1040132  8171      340    1047  2016-06-28   PT6M29S        F\n",
       "2  VID_13967    28534    31       11       1  2014-03-10  PT37M54S        D\n",
       "3  VID_19442  1316715  2284      250     274  2010-06-05   PT9M55S        G\n",
       "4    VID_770  1893173  2519      225     116  2016-09-03    PT3M8S        B"
      ]
     },
     "execution_count": 106,
     "metadata": {
      "tags": []
     },
     "output_type": "execute_result"
    }
   ],
   "source": [
    "#removing chharacter \"F\" present in data\n",
    "data_test = data_test[data_test.views != 'F']\n",
    "data_test = data_test[data_test.likes != 'F']\n",
    "data_test = data_test[data_test.dislikes != 'F']\n",
    "data_test = data_test[data_test.comment != 'F']\n",
    "\n",
    "data_test.head()"
   ]
  },
  {
   "cell_type": "code",
   "execution_count": 107,
   "metadata": {
    "colab": {
     "base_uri": "https://localhost:8080/",
     "height": 204
    },
    "id": "qg9UWV0N7pHO",
    "outputId": "c44a57ec-32c6-4dd2-e83f-cde73fc8b750"
   },
   "outputs": [
    {
     "data": {
      "text/html": [
       "<div>\n",
       "<style scoped>\n",
       "    .dataframe tbody tr th:only-of-type {\n",
       "        vertical-align: middle;\n",
       "    }\n",
       "\n",
       "    .dataframe tbody tr th {\n",
       "        vertical-align: top;\n",
       "    }\n",
       "\n",
       "    .dataframe thead th {\n",
       "        text-align: right;\n",
       "    }\n",
       "</style>\n",
       "<table border=\"1\" class=\"dataframe\">\n",
       "  <thead>\n",
       "    <tr style=\"text-align: right;\">\n",
       "      <th></th>\n",
       "      <th>vidid</th>\n",
       "      <th>views</th>\n",
       "      <th>likes</th>\n",
       "      <th>dislikes</th>\n",
       "      <th>comment</th>\n",
       "      <th>published</th>\n",
       "      <th>duration</th>\n",
       "      <th>category</th>\n",
       "    </tr>\n",
       "  </thead>\n",
       "  <tbody>\n",
       "    <tr>\n",
       "      <th>0</th>\n",
       "      <td>VID_1054</td>\n",
       "      <td>440238</td>\n",
       "      <td>6153</td>\n",
       "      <td>218</td>\n",
       "      <td>1377</td>\n",
       "      <td>2017-02-18</td>\n",
       "      <td>PT7M29S</td>\n",
       "      <td>2</td>\n",
       "    </tr>\n",
       "    <tr>\n",
       "      <th>1</th>\n",
       "      <td>VID_18629</td>\n",
       "      <td>1040132</td>\n",
       "      <td>8171</td>\n",
       "      <td>340</td>\n",
       "      <td>1047</td>\n",
       "      <td>2016-06-28</td>\n",
       "      <td>PT6M29S</td>\n",
       "      <td>6</td>\n",
       "    </tr>\n",
       "    <tr>\n",
       "      <th>2</th>\n",
       "      <td>VID_13967</td>\n",
       "      <td>28534</td>\n",
       "      <td>31</td>\n",
       "      <td>11</td>\n",
       "      <td>1</td>\n",
       "      <td>2014-03-10</td>\n",
       "      <td>PT37M54S</td>\n",
       "      <td>4</td>\n",
       "    </tr>\n",
       "    <tr>\n",
       "      <th>3</th>\n",
       "      <td>VID_19442</td>\n",
       "      <td>1316715</td>\n",
       "      <td>2284</td>\n",
       "      <td>250</td>\n",
       "      <td>274</td>\n",
       "      <td>2010-06-05</td>\n",
       "      <td>PT9M55S</td>\n",
       "      <td>7</td>\n",
       "    </tr>\n",
       "    <tr>\n",
       "      <th>4</th>\n",
       "      <td>VID_770</td>\n",
       "      <td>1893173</td>\n",
       "      <td>2519</td>\n",
       "      <td>225</td>\n",
       "      <td>116</td>\n",
       "      <td>2016-09-03</td>\n",
       "      <td>PT3M8S</td>\n",
       "      <td>2</td>\n",
       "    </tr>\n",
       "  </tbody>\n",
       "</table>\n",
       "</div>"
      ],
      "text/plain": [
       "       vidid    views likes dislikes comment   published  duration  category\n",
       "0   VID_1054   440238  6153      218    1377  2017-02-18   PT7M29S         2\n",
       "1  VID_18629  1040132  8171      340    1047  2016-06-28   PT6M29S         6\n",
       "2  VID_13967    28534    31       11       1  2014-03-10  PT37M54S         4\n",
       "3  VID_19442  1316715  2284      250     274  2010-06-05   PT9M55S         7\n",
       "4    VID_770  1893173  2519      225     116  2016-09-03    PT3M8S         2"
      ]
     },
     "execution_count": 107,
     "metadata": {
      "tags": []
     },
     "output_type": "execute_result"
    }
   ],
   "source": [
    "#Assigning each category a number for category feature\n",
    "category = {'A':1 , 'B':2 , 'C':3 , 'D':4 , 'E':5 , 'F':6 , 'G':7 , 'H':8}\n",
    "data_test[\"category\"] = data_test[\"category\"].map(category)\n",
    "\n",
    "#Dataset after cleaning and categorizing the features\n",
    "data_test.head()"
   ]
  },
  {
   "cell_type": "code",
   "execution_count": 108,
   "metadata": {
    "id": "aRDzhl4C7pHO"
   },
   "outputs": [],
   "source": [
    "#Converting all floating point numbers to integers for views, likes, comments, dislikes, and adviews\n",
    "\n",
    "data_test[\"views\"] = pd.to_numeric(data_test[\"views\"])\n",
    "data_test[\"comment\"] = pd.to_numeric(data_test[\"comment\"])\n",
    "data_test[\"likes\"] = pd.to_numeric(data_test[\"likes\"])\n",
    "data_test[\"dislikes\"] = pd.to_numeric(data_test[\"dislikes\"])\n",
    "\n",
    "column_vidid = data_test[\"vidid\"]"
   ]
  },
  {
   "cell_type": "code",
   "execution_count": 109,
   "metadata": {
    "colab": {
     "base_uri": "https://localhost:8080/",
     "height": 204
    },
    "id": "dCbZuuNj7pHO",
    "outputId": "55522770-4800-40a5-a905-f8e4b1c8e146"
   },
   "outputs": [
    {
     "data": {
      "text/html": [
       "<div>\n",
       "<style scoped>\n",
       "    .dataframe tbody tr th:only-of-type {\n",
       "        vertical-align: middle;\n",
       "    }\n",
       "\n",
       "    .dataframe tbody tr th {\n",
       "        vertical-align: top;\n",
       "    }\n",
       "\n",
       "    .dataframe thead th {\n",
       "        text-align: right;\n",
       "    }\n",
       "</style>\n",
       "<table border=\"1\" class=\"dataframe\">\n",
       "  <thead>\n",
       "    <tr style=\"text-align: right;\">\n",
       "      <th></th>\n",
       "      <th>vidid</th>\n",
       "      <th>views</th>\n",
       "      <th>likes</th>\n",
       "      <th>dislikes</th>\n",
       "      <th>comment</th>\n",
       "      <th>published</th>\n",
       "      <th>duration</th>\n",
       "      <th>category</th>\n",
       "    </tr>\n",
       "  </thead>\n",
       "  <tbody>\n",
       "    <tr>\n",
       "      <th>0</th>\n",
       "      <td>231</td>\n",
       "      <td>440238</td>\n",
       "      <td>6153</td>\n",
       "      <td>218</td>\n",
       "      <td>1377</td>\n",
       "      <td>2053</td>\n",
       "      <td>2115</td>\n",
       "      <td>2</td>\n",
       "    </tr>\n",
       "    <tr>\n",
       "      <th>1</th>\n",
       "      <td>3444</td>\n",
       "      <td>1040132</td>\n",
       "      <td>8171</td>\n",
       "      <td>340</td>\n",
       "      <td>1047</td>\n",
       "      <td>1825</td>\n",
       "      <td>2055</td>\n",
       "      <td>6</td>\n",
       "    </tr>\n",
       "    <tr>\n",
       "      <th>2</th>\n",
       "      <td>1593</td>\n",
       "      <td>28534</td>\n",
       "      <td>31</td>\n",
       "      <td>11</td>\n",
       "      <td>1</td>\n",
       "      <td>1009</td>\n",
       "      <td>1506</td>\n",
       "      <td>4</td>\n",
       "    </tr>\n",
       "    <tr>\n",
       "      <th>3</th>\n",
       "      <td>3775</td>\n",
       "      <td>1316715</td>\n",
       "      <td>2284</td>\n",
       "      <td>250</td>\n",
       "      <td>274</td>\n",
       "      <td>116</td>\n",
       "      <td>2265</td>\n",
       "      <td>7</td>\n",
       "    </tr>\n",
       "    <tr>\n",
       "      <th>4</th>\n",
       "      <td>7644</td>\n",
       "      <td>1893173</td>\n",
       "      <td>2519</td>\n",
       "      <td>225</td>\n",
       "      <td>116</td>\n",
       "      <td>1892</td>\n",
       "      <td>1625</td>\n",
       "      <td>2</td>\n",
       "    </tr>\n",
       "  </tbody>\n",
       "</table>\n",
       "</div>"
      ],
      "text/plain": [
       "   vidid    views  likes  dislikes  comment  published  duration  category\n",
       "0    231   440238   6153       218     1377       2053      2115         2\n",
       "1   3444  1040132   8171       340     1047       1825      2055         6\n",
       "2   1593    28534     31        11        1       1009      1506         4\n",
       "3   3775  1316715   2284       250      274        116      2265         7\n",
       "4   7644  1893173   2519       225      116       1892      1625         2"
      ]
     },
     "execution_count": 109,
     "metadata": {
      "tags": []
     },
     "output_type": "execute_result"
    }
   ],
   "source": [
    "#Encoding features like category, duration and vidid\n",
    "\n",
    "from sklearn.preprocessing import LabelEncoder\n",
    "data_test['duration'] = LabelEncoder().fit_transform(data_test['duration'])\n",
    "data_test['vidid'] = LabelEncoder().fit_transform(data_test['vidid'])\n",
    "data_test['published'] = LabelEncoder().fit_transform(data_test['published'])\n",
    "\n",
    "data_test.head()"
   ]
  },
  {
   "cell_type": "code",
   "execution_count": 110,
   "metadata": {
    "id": "OyUa_n6L7pHO"
   },
   "outputs": [],
   "source": [
    "#Converting Time_in_sec for duration\n",
    "import datetime\n",
    "import time\n",
    "\n",
    "#defining a functionc\"checki\" to check the duration of the adds\n",
    "def checki(x):\n",
    "  y = x[2:]\n",
    "  h = ''\n",
    "  m = ''\n",
    "  s = ''\n",
    "  mm = ''\n",
    "  p = ['H' , 'M' , 'S']\n",
    "  \n",
    "  for i in y:\n",
    "    if i not in p:\n",
    "      mm+=i\n",
    "    else:\n",
    "      if (i == \"H\"):\n",
    "        h = mm\n",
    "        mm = ''\n",
    "      elif (i == \"M\"):\n",
    "        m = mm\n",
    "        mm = ''\n",
    "      else:\n",
    "        s = mm\n",
    "        mm = ''\n",
    "  \n",
    "  if (h == ''):\n",
    "    h = '00'\n",
    "  if (m == ''):\n",
    "    m = '00'\n",
    "  if (s == ''):\n",
    "    s = '00'\n",
    "\n",
    "  bp = h+':'+m+':'+s\n",
    "  return bp"
   ]
  },
  {
   "cell_type": "code",
   "execution_count": 111,
   "metadata": {
    "colab": {
     "base_uri": "https://localhost:8080/",
     "height": 204
    },
    "id": "wypT8GUn7pHO",
    "outputId": "85a46ac0-2c96-4f03-a15b-ce5a74c79199"
   },
   "outputs": [
    {
     "data": {
      "text/html": [
       "<div>\n",
       "<style scoped>\n",
       "    .dataframe tbody tr th:only-of-type {\n",
       "        vertical-align: middle;\n",
       "    }\n",
       "\n",
       "    .dataframe tbody tr th {\n",
       "        vertical-align: top;\n",
       "    }\n",
       "\n",
       "    .dataframe thead th {\n",
       "        text-align: right;\n",
       "    }\n",
       "</style>\n",
       "<table border=\"1\" class=\"dataframe\">\n",
       "  <thead>\n",
       "    <tr style=\"text-align: right;\">\n",
       "      <th></th>\n",
       "      <th>vidid</th>\n",
       "      <th>views</th>\n",
       "      <th>likes</th>\n",
       "      <th>dislikes</th>\n",
       "      <th>comment</th>\n",
       "      <th>published</th>\n",
       "      <th>duration</th>\n",
       "      <th>category</th>\n",
       "    </tr>\n",
       "  </thead>\n",
       "  <tbody>\n",
       "    <tr>\n",
       "      <th>0</th>\n",
       "      <td>231</td>\n",
       "      <td>440238</td>\n",
       "      <td>6153</td>\n",
       "      <td>218</td>\n",
       "      <td>1377</td>\n",
       "      <td>2053</td>\n",
       "      <td>449</td>\n",
       "      <td>2</td>\n",
       "    </tr>\n",
       "    <tr>\n",
       "      <th>1</th>\n",
       "      <td>3444</td>\n",
       "      <td>1040132</td>\n",
       "      <td>8171</td>\n",
       "      <td>340</td>\n",
       "      <td>1047</td>\n",
       "      <td>1825</td>\n",
       "      <td>389</td>\n",
       "      <td>6</td>\n",
       "    </tr>\n",
       "    <tr>\n",
       "      <th>2</th>\n",
       "      <td>1593</td>\n",
       "      <td>28534</td>\n",
       "      <td>31</td>\n",
       "      <td>11</td>\n",
       "      <td>1</td>\n",
       "      <td>1009</td>\n",
       "      <td>2274</td>\n",
       "      <td>4</td>\n",
       "    </tr>\n",
       "    <tr>\n",
       "      <th>3</th>\n",
       "      <td>3775</td>\n",
       "      <td>1316715</td>\n",
       "      <td>2284</td>\n",
       "      <td>250</td>\n",
       "      <td>274</td>\n",
       "      <td>116</td>\n",
       "      <td>595</td>\n",
       "      <td>7</td>\n",
       "    </tr>\n",
       "    <tr>\n",
       "      <th>4</th>\n",
       "      <td>7644</td>\n",
       "      <td>1893173</td>\n",
       "      <td>2519</td>\n",
       "      <td>225</td>\n",
       "      <td>116</td>\n",
       "      <td>1892</td>\n",
       "      <td>188</td>\n",
       "      <td>2</td>\n",
       "    </tr>\n",
       "  </tbody>\n",
       "</table>\n",
       "</div>"
      ],
      "text/plain": [
       "   vidid    views  likes  dislikes  comment  published  duration  category\n",
       "0    231   440238   6153       218     1377       2053       449         2\n",
       "1   3444  1040132   8171       340     1047       1825       389         6\n",
       "2   1593    28534     31        11        1       1009      2274         4\n",
       "3   3775  1316715   2284       250      274        116       595         7\n",
       "4   7644  1893173   2519       225      116       1892       188         2"
      ]
     },
     "execution_count": 111,
     "metadata": {
      "tags": []
     },
     "output_type": "execute_result"
    }
   ],
   "source": [
    "#reloading the csv file to the project and assiging it to train\n",
    "test = pd.read_csv(\"test.csv\")\n",
    "mp = pd.read_csv(\"test.csv\")[\"duration\"]\n",
    "\n",
    "#applying the \"checki\" function to the csv file\n",
    "time = mp.apply(checki)\n",
    "\n",
    "#defining a function \"func_sec\" to transform the time into seconds\n",
    "def func_sec(time_string):\n",
    "  h, m, s =time_string.split(':')\n",
    "  return int(h) * 3600 + int(m) * 60 + int(s)\n",
    "\n",
    "#calling the function \"func_sec\" and applying to the above function variable _time_\n",
    "time1 = time.apply(func_sec)\n",
    "\n",
    "#applying the above all functions to the the dataset (\"data_train\")\n",
    "data_test[\"duration\"] = time1\n",
    "\n",
    "#displaying the newly modified dataset\n",
    "data_test.head()"
   ]
  },
  {
   "cell_type": "code",
   "execution_count": 112,
   "metadata": {
    "colab": {
     "base_uri": "https://localhost:8080/",
     "height": 204
    },
    "id": "jNA6FmEY7pHP",
    "outputId": "e1a0b106-bc61-48af-ceaa-964dab88dcb9"
   },
   "outputs": [
    {
     "data": {
      "text/html": [
       "<div>\n",
       "<style scoped>\n",
       "    .dataframe tbody tr th:only-of-type {\n",
       "        vertical-align: middle;\n",
       "    }\n",
       "\n",
       "    .dataframe tbody tr th {\n",
       "        vertical-align: top;\n",
       "    }\n",
       "\n",
       "    .dataframe thead th {\n",
       "        text-align: right;\n",
       "    }\n",
       "</style>\n",
       "<table border=\"1\" class=\"dataframe\">\n",
       "  <thead>\n",
       "    <tr style=\"text-align: right;\">\n",
       "      <th></th>\n",
       "      <th>views</th>\n",
       "      <th>likes</th>\n",
       "      <th>dislikes</th>\n",
       "      <th>comment</th>\n",
       "      <th>published</th>\n",
       "      <th>duration</th>\n",
       "      <th>category</th>\n",
       "    </tr>\n",
       "  </thead>\n",
       "  <tbody>\n",
       "    <tr>\n",
       "      <th>0</th>\n",
       "      <td>440238</td>\n",
       "      <td>6153</td>\n",
       "      <td>218</td>\n",
       "      <td>1377</td>\n",
       "      <td>2053</td>\n",
       "      <td>449</td>\n",
       "      <td>2</td>\n",
       "    </tr>\n",
       "    <tr>\n",
       "      <th>1</th>\n",
       "      <td>1040132</td>\n",
       "      <td>8171</td>\n",
       "      <td>340</td>\n",
       "      <td>1047</td>\n",
       "      <td>1825</td>\n",
       "      <td>389</td>\n",
       "      <td>6</td>\n",
       "    </tr>\n",
       "    <tr>\n",
       "      <th>2</th>\n",
       "      <td>28534</td>\n",
       "      <td>31</td>\n",
       "      <td>11</td>\n",
       "      <td>1</td>\n",
       "      <td>1009</td>\n",
       "      <td>2274</td>\n",
       "      <td>4</td>\n",
       "    </tr>\n",
       "    <tr>\n",
       "      <th>3</th>\n",
       "      <td>1316715</td>\n",
       "      <td>2284</td>\n",
       "      <td>250</td>\n",
       "      <td>274</td>\n",
       "      <td>116</td>\n",
       "      <td>595</td>\n",
       "      <td>7</td>\n",
       "    </tr>\n",
       "    <tr>\n",
       "      <th>4</th>\n",
       "      <td>1893173</td>\n",
       "      <td>2519</td>\n",
       "      <td>225</td>\n",
       "      <td>116</td>\n",
       "      <td>1892</td>\n",
       "      <td>188</td>\n",
       "      <td>2</td>\n",
       "    </tr>\n",
       "  </tbody>\n",
       "</table>\n",
       "</div>"
      ],
      "text/plain": [
       "     views  likes  dislikes  comment  published  duration  category\n",
       "0   440238   6153       218     1377       2053       449         2\n",
       "1  1040132   8171       340     1047       1825       389         6\n",
       "2    28534     31        11        1       1009      2274         4\n",
       "3  1316715   2284       250      274        116       595         7\n",
       "4  1893173   2519       225      116       1892       188         2"
      ]
     },
     "execution_count": 112,
     "metadata": {
      "tags": []
     },
     "output_type": "execute_result"
    }
   ],
   "source": [
    "data_test = data_test.drop([\"vidid\"] , axis = 1)\n",
    "data_test.head()"
   ]
  },
  {
   "cell_type": "code",
   "execution_count": 84,
   "metadata": {
    "id": "LQ5Y7VIH7pHP"
   },
   "outputs": [],
   "source": [
    "from sklearn.model_selection import train_test_split\n",
    "x_train , x_test , y_train , y_test = train_test_split ( data_train , Y_train , test_size = 0.2 , random_state = 42)"
   ]
  },
  {
   "cell_type": "code",
   "execution_count": 113,
   "metadata": {
    "colab": {
     "base_uri": "https://localhost:8080/",
     "height": 419
    },
    "id": "0PZrDEvh7pHP",
    "outputId": "9e99adad-4619-4f2f-80d1-ce886cbfa074"
   },
   "outputs": [
    {
     "data": {
      "text/html": [
       "<div>\n",
       "<style scoped>\n",
       "    .dataframe tbody tr th:only-of-type {\n",
       "        vertical-align: middle;\n",
       "    }\n",
       "\n",
       "    .dataframe tbody tr th {\n",
       "        vertical-align: top;\n",
       "    }\n",
       "\n",
       "    .dataframe thead th {\n",
       "        text-align: right;\n",
       "    }\n",
       "</style>\n",
       "<table border=\"1\" class=\"dataframe\">\n",
       "  <thead>\n",
       "    <tr style=\"text-align: right;\">\n",
       "      <th></th>\n",
       "      <th>views</th>\n",
       "      <th>likes</th>\n",
       "      <th>dislikes</th>\n",
       "      <th>comment</th>\n",
       "      <th>published</th>\n",
       "      <th>duration</th>\n",
       "      <th>category</th>\n",
       "    </tr>\n",
       "  </thead>\n",
       "  <tbody>\n",
       "    <tr>\n",
       "      <th>4912</th>\n",
       "      <td>630898</td>\n",
       "      <td>1625</td>\n",
       "      <td>117</td>\n",
       "      <td>80</td>\n",
       "      <td>370</td>\n",
       "      <td>365</td>\n",
       "      <td>4</td>\n",
       "    </tr>\n",
       "    <tr>\n",
       "      <th>4921</th>\n",
       "      <td>384</td>\n",
       "      <td>2</td>\n",
       "      <td>0</td>\n",
       "      <td>0</td>\n",
       "      <td>2047</td>\n",
       "      <td>15</td>\n",
       "      <td>5</td>\n",
       "    </tr>\n",
       "    <tr>\n",
       "      <th>3813</th>\n",
       "      <td>36772</td>\n",
       "      <td>138</td>\n",
       "      <td>4</td>\n",
       "      <td>7</td>\n",
       "      <td>1281</td>\n",
       "      <td>904</td>\n",
       "      <td>2</td>\n",
       "    </tr>\n",
       "    <tr>\n",
       "      <th>9092</th>\n",
       "      <td>147885</td>\n",
       "      <td>1235</td>\n",
       "      <td>79</td>\n",
       "      <td>66</td>\n",
       "      <td>1768</td>\n",
       "      <td>186</td>\n",
       "      <td>8</td>\n",
       "    </tr>\n",
       "    <tr>\n",
       "      <th>8486</th>\n",
       "      <td>285699</td>\n",
       "      <td>785</td>\n",
       "      <td>40</td>\n",
       "      <td>28</td>\n",
       "      <td>1173</td>\n",
       "      <td>1705</td>\n",
       "      <td>4</td>\n",
       "    </tr>\n",
       "    <tr>\n",
       "      <th>...</th>\n",
       "      <td>...</td>\n",
       "      <td>...</td>\n",
       "      <td>...</td>\n",
       "      <td>...</td>\n",
       "      <td>...</td>\n",
       "      <td>...</td>\n",
       "      <td>...</td>\n",
       "    </tr>\n",
       "    <tr>\n",
       "      <th>3788</th>\n",
       "      <td>40389</td>\n",
       "      <td>250</td>\n",
       "      <td>7</td>\n",
       "      <td>9</td>\n",
       "      <td>2230</td>\n",
       "      <td>189</td>\n",
       "      <td>4</td>\n",
       "    </tr>\n",
       "    <tr>\n",
       "      <th>12152</th>\n",
       "      <td>19659</td>\n",
       "      <td>44</td>\n",
       "      <td>0</td>\n",
       "      <td>2</td>\n",
       "      <td>1415</td>\n",
       "      <td>1313</td>\n",
       "      <td>4</td>\n",
       "    </tr>\n",
       "    <tr>\n",
       "      <th>9152</th>\n",
       "      <td>657297</td>\n",
       "      <td>1254</td>\n",
       "      <td>169</td>\n",
       "      <td>123</td>\n",
       "      <td>1805</td>\n",
       "      <td>429</td>\n",
       "      <td>4</td>\n",
       "    </tr>\n",
       "    <tr>\n",
       "      <th>769</th>\n",
       "      <td>67541</td>\n",
       "      <td>691</td>\n",
       "      <td>19</td>\n",
       "      <td>66</td>\n",
       "      <td>2130</td>\n",
       "      <td>363</td>\n",
       "      <td>4</td>\n",
       "    </tr>\n",
       "    <tr>\n",
       "      <th>7039</th>\n",
       "      <td>409201</td>\n",
       "      <td>10253</td>\n",
       "      <td>1263</td>\n",
       "      <td>649</td>\n",
       "      <td>2126</td>\n",
       "      <td>211</td>\n",
       "      <td>5</td>\n",
       "    </tr>\n",
       "  </tbody>\n",
       "</table>\n",
       "<p>2928 rows × 7 columns</p>\n",
       "</div>"
      ],
      "text/plain": [
       "        views  likes  dislikes  comment  published  duration  category\n",
       "4912   630898   1625       117       80        370       365         4\n",
       "4921      384      2         0        0       2047        15         5\n",
       "3813    36772    138         4        7       1281       904         2\n",
       "9092   147885   1235        79       66       1768       186         8\n",
       "8486   285699    785        40       28       1173      1705         4\n",
       "...       ...    ...       ...      ...        ...       ...       ...\n",
       "3788    40389    250         7        9       2230       189         4\n",
       "12152   19659     44         0        2       1415      1313         4\n",
       "9152   657297   1254       169      123       1805       429         4\n",
       "769     67541    691        19       66       2130       363         4\n",
       "7039   409201  10253      1263      649       2126       211         5\n",
       "\n",
       "[2928 rows x 7 columns]"
      ]
     },
     "execution_count": 113,
     "metadata": {
      "tags": []
     },
     "output_type": "execute_result"
    }
   ],
   "source": [
    "x_test"
   ]
  },
  {
   "cell_type": "code",
   "execution_count": 114,
   "metadata": {
    "colab": {
     "base_uri": "https://localhost:8080/"
    },
    "id": "J_Bb54aV7pHP",
    "outputId": "1d977a53-88a4-4824-9a53-870ee76727f5"
   },
   "outputs": [
    {
     "data": {
      "text/plain": [
       "0.17732584815040714"
      ]
     },
     "execution_count": 114,
     "metadata": {
      "tags": []
     },
     "output_type": "execute_result"
    }
   ],
   "source": [
    "#Normalizing the data\n",
    "from sklearn.preprocessing import MinMaxScaler\n",
    "scaler = MinMaxScaler()\n",
    "X_test = scaler.fit_transform(x_test)\n",
    "\n",
    "X_test.mean()"
   ]
  },
  {
   "cell_type": "code",
   "execution_count": 115,
   "metadata": {
    "id": "fFt-Itpb7pHP"
   },
   "outputs": [],
   "source": [
    "#Evaluation metrics\n",
    "from sklearn import  metrics\n",
    "\n",
    "def print_error(x_test, y_test, model_name):\n",
    "    prediction = model_name.predict(x_test)\n",
    "    \n",
    "    print('Mean Absolute Error:', metrics.mean_absolute_error(y_test, prediction))\n",
    "    print('Mean Squared Error:', metrics.mean_squared_error(y_test, prediction))\n",
    "    print('Root Mean Squared Error:', np.sqrt(metrics.mean_squared_error(y_test, prediction)))"
   ]
  },
  {
   "cell_type": "code",
   "execution_count": 116,
   "metadata": {
    "colab": {
     "base_uri": "https://localhost:8080/"
    },
    "id": "6aDZgTg27pHP",
    "outputId": "d93f1529-d1b2-49d0-da4d-e3f2a93f0391"
   },
   "outputs": [
    {
     "name": "stdout",
     "output_type": "stream",
     "text": [
      "Mean Absolute Error: 5048.67281420765\n",
      "Mean Squared Error: 11897576354.63388\n",
      "Root Mean Squared Error: 109076.01182035342\n"
     ]
    }
   ],
   "source": [
    "#Decision Tree Regressor\n",
    "from sklearn.tree import DecisionTreeRegressor\n",
    "decision_tree = DecisionTreeRegressor()\n",
    "decision_tree.fit(x_train ,y_train)\n",
    "print_error(x_test , y_test , decision_tree)"
   ]
  },
  {
   "cell_type": "code",
   "execution_count": 117,
   "metadata": {
    "id": "GFtNaFky7pHP"
   },
   "outputs": [],
   "source": [
    "#Fitting DT classifier to Training Set\n",
    "from sklearn.tree import DecisionTreeClassifier\n",
    "model= DecisionTreeClassifier()"
   ]
  },
  {
   "cell_type": "code",
   "execution_count": 118,
   "metadata": {
    "colab": {
     "base_uri": "https://localhost:8080/"
    },
    "id": "zCWak-rA7pHP",
    "outputId": "e0cb62f9-effd-4e3a-b58f-c520e8124c13"
   },
   "outputs": [
    {
     "data": {
      "text/plain": [
       "DecisionTreeClassifier(ccp_alpha=0.0, class_weight=None, criterion='gini',\n",
       "                       max_depth=None, max_features=None, max_leaf_nodes=None,\n",
       "                       min_impurity_decrease=0.0, min_impurity_split=None,\n",
       "                       min_samples_leaf=1, min_samples_split=2,\n",
       "                       min_weight_fraction_leaf=0.0, presort='deprecated',\n",
       "                       random_state=None, splitter='best')"
      ]
     },
     "execution_count": 118,
     "metadata": {
      "tags": []
     },
     "output_type": "execute_result"
    }
   ],
   "source": [
    "model.fit(x_train,y_train)"
   ]
  },
  {
   "cell_type": "code",
   "execution_count": 119,
   "metadata": {
    "colab": {
     "base_uri": "https://localhost:8080/"
    },
    "id": "nA3X7NnL7pHP",
    "outputId": "f1565927-4f41-472d-8c7a-d40c228848b1"
   },
   "outputs": [
    {
     "data": {
      "text/plain": [
       "array([    2,     1,     9, ...,     1,     1, 87335])"
      ]
     },
     "execution_count": 119,
     "metadata": {
      "tags": []
     },
     "output_type": "execute_result"
    }
   ],
   "source": [
    "#Predicting the Test Set Results\n",
    "y_pred = model.predict(x_test)\n",
    "y_pred"
   ]
  },
  {
   "cell_type": "code",
   "execution_count": 120,
   "metadata": {
    "colab": {
     "base_uri": "https://localhost:8080/"
    },
    "id": "JLERbix17pHP",
    "outputId": "d96bf0de-0199-4137-9aea-57f4e22f6e65"
   },
   "outputs": [
    {
     "data": {
      "text/plain": [
       "array([[681, 196,  83, ...,   0,   0,   0],\n",
       "       [192,  71,  37, ...,   0,   0,   0],\n",
       "       [ 88,  26,  22, ...,   0,   0,   0],\n",
       "       ...,\n",
       "       [  0,   0,   0, ...,   0,   1,   0],\n",
       "       [  0,   0,   0, ...,   0,   0,   0],\n",
       "       [  0,   0,   0, ...,   0,   0,   0]])"
      ]
     },
     "execution_count": 120,
     "metadata": {
      "tags": []
     },
     "output_type": "execute_result"
    }
   ],
   "source": [
    "from sklearn.metrics import confusion_matrix\n",
    "cm = confusion_matrix(y_test,y_pred)\n",
    "cm"
   ]
  },
  {
   "cell_type": "code",
   "execution_count": 123,
   "metadata": {
    "id": "9nPPD3jr7pHP"
   },
   "outputs": [],
   "source": [
    "#Saving that as \"Predictions_Submission.csv\"\n",
    "import numpy as np\n",
    "import pandas as pd\n",
    "y_pred = pd.DataFrame(y_pred, columns=['y_pred']).to_csv('Predictions_Submission.csv')"
   ]
  }
 ],
 "metadata": {
  "colab": {
   "name": "Project-YouTube_Addviews-submission.ipynb",
   "provenance": []
  },
  "kernelspec": {
   "display_name": "Python 3",
   "language": "python",
   "name": "python3"
  },
  "language_info": {
   "codemirror_mode": {
    "name": "ipython",
    "version": 3
   },
   "file_extension": ".py",
   "mimetype": "text/x-python",
   "name": "python",
   "nbconvert_exporter": "python",
   "pygments_lexer": "ipython3",
   "version": "3.9.0"
  }
 },
 "nbformat": 4,
 "nbformat_minor": 1
}
